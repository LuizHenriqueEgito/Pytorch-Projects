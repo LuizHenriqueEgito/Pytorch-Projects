{
 "cells": [
  {
   "cell_type": "code",
   "execution_count": 1,
   "id": "a4c42508-70b8-4b8d-b942-293113d0fdd6",
   "metadata": {},
   "outputs": [],
   "source": [
    "import torch\n",
    "import torch.nn as nn\n",
    "import torch.nn.functional as F"
   ]
  },
  {
   "cell_type": "code",
   "execution_count": 16,
   "id": "f9c6b8b7-1d91-416e-88dd-07d61c253878",
   "metadata": {},
   "outputs": [
    {
     "data": {
      "text/plain": [
       "tensor([3., 3., 3.])"
      ]
     },
     "execution_count": 16,
     "metadata": {},
     "output_type": "execute_result"
    }
   ],
   "source": [
    "# 1d vector\n",
    "example_tensor = torch.tensor([3, 3, 3], dtype=torch.long).float()\n",
    "example_tensor"
   ]
  },
  {
   "cell_type": "code",
   "execution_count": 17,
   "id": "8c6e6365-665e-4147-b98b-c4d37158ff99",
   "metadata": {},
   "outputs": [
    {
     "data": {
      "text/plain": [
       "tensor([0.3333, 0.3333, 0.3333])"
      ]
     },
     "execution_count": 17,
     "metadata": {},
     "output_type": "execute_result"
    }
   ],
   "source": [
    "# using torch.softmax\n",
    "torch.softmax(example_tensor, dim=0)"
   ]
  },
  {
   "cell_type": "code",
   "execution_count": 18,
   "id": "73b162f7-985c-441c-9bc2-3a1ac2b70585",
   "metadata": {},
   "outputs": [
    {
     "data": {
      "text/plain": [
       "tensor([0.3333, 0.3333, 0.3333])"
      ]
     },
     "execution_count": 18,
     "metadata": {},
     "output_type": "execute_result"
    }
   ],
   "source": [
    "# using nn.Sigmoid\n",
    "softmax_layer = nn.Softmax(dim=0)\n",
    "softmax_layer(example_tensor)"
   ]
  },
  {
   "cell_type": "code",
   "execution_count": 23,
   "id": "5f10330d-bb14-42bc-bbef-482ba8018221",
   "metadata": {},
   "outputs": [
    {
     "data": {
      "text/plain": [
       "tensor([0.3333, 0.3333, 0.3333])"
      ]
     },
     "execution_count": 23,
     "metadata": {},
     "output_type": "execute_result"
    }
   ],
   "source": [
    "# using F.sigmoid\n",
    "F.softmax(example_tensor, dim=0)"
   ]
  },
  {
   "cell_type": "markdown",
   "id": "997da3dd-58e4-442c-b674-d6fe782aa02d",
   "metadata": {},
   "source": [
    "***"
   ]
  },
  {
   "cell_type": "code",
   "execution_count": 52,
   "id": "d27000d2-8031-4d30-88b4-c315cbdfc3ac",
   "metadata": {},
   "outputs": [
    {
     "data": {
      "text/plain": [
       "tensor([[3., 3., 3.],\n",
       "        [1., 2., 3.]])"
      ]
     },
     "execution_count": 52,
     "metadata": {},
     "output_type": "execute_result"
    }
   ],
   "source": [
    "# 2d vector\n",
    "example_tensor = torch.tensor([[3, 3, 3], [1, 2, 3]], dtype=torch.long).float()\n",
    "example_tensor"
   ]
  },
  {
   "cell_type": "code",
   "execution_count": 32,
   "id": "d252ac1d-ec8b-4861-ab3b-66f20efca5af",
   "metadata": {},
   "outputs": [
    {
     "data": {
      "text/plain": [
       "tensor([[0.3333, 0.3333, 0.3333],\n",
       "        [0.0900, 0.2447, 0.6652]])"
      ]
     },
     "execution_count": 32,
     "metadata": {},
     "output_type": "execute_result"
    }
   ],
   "source": [
    "# using torch.softmax\n",
    "torch.softmax(example_tensor, dim=1)"
   ]
  },
  {
   "cell_type": "code",
   "execution_count": 33,
   "id": "e8093472-0a39-48a2-8c80-669d6af86007",
   "metadata": {},
   "outputs": [
    {
     "data": {
      "text/plain": [
       "tensor([[0.3333, 0.3333, 0.3333],\n",
       "        [0.0900, 0.2447, 0.6652]])"
      ]
     },
     "execution_count": 33,
     "metadata": {},
     "output_type": "execute_result"
    }
   ],
   "source": [
    "# using nn.Sigmoid\n",
    "softmax_layer = nn.Softmax(dim=1)\n",
    "softmax_layer(example_tensor)"
   ]
  },
  {
   "cell_type": "code",
   "execution_count": 34,
   "id": "60e44b69-7b1c-483b-a84e-f82c0b169f2a",
   "metadata": {},
   "outputs": [
    {
     "data": {
      "text/plain": [
       "tensor([[0.3333, 0.3333, 0.3333],\n",
       "        [0.0900, 0.2447, 0.6652]])"
      ]
     },
     "execution_count": 34,
     "metadata": {},
     "output_type": "execute_result"
    }
   ],
   "source": [
    "# using F.sigmoid\n",
    "F.softmax(example_tensor, dim=1)"
   ]
  },
  {
   "cell_type": "markdown",
   "id": "41ff43b2-f0ff-4787-91ff-24502ea98a42",
   "metadata": {},
   "source": [
    "***"
   ]
  },
  {
   "cell_type": "code",
   "execution_count": 54,
   "id": "b318e514-614e-4725-85f6-b46f52714d6a",
   "metadata": {},
   "outputs": [
    {
     "data": {
      "text/plain": [
       "tensor([[0.8808, 0.7311, 0.5000],\n",
       "        [0.1192, 0.2689, 0.5000]])"
      ]
     },
     "execution_count": 54,
     "metadata": {},
     "output_type": "execute_result"
    }
   ],
   "source": [
    "# Changing the axis (dim)\n",
    "F.softmax(example_tensor, dim=0)"
   ]
  },
  {
   "cell_type": "code",
   "execution_count": 38,
   "id": "f868f575-d0da-4681-bc70-b326a6ac16f4",
   "metadata": {},
   "outputs": [],
   "source": [
    "# taking a vector with high dimensionality\n",
    "example_tensor = torch.tensor([[[[[[[3, 3, 3], [1, 2, 3]]]]]]], dtype=torch.long).float()"
   ]
  },
  {
   "cell_type": "code",
   "execution_count": 39,
   "id": "c8de959c-2674-4e1f-8fe4-4ae53df37683",
   "metadata": {},
   "outputs": [
    {
     "data": {
      "text/plain": [
       "tensor([[[[[[[3., 3., 3.],\n",
       "             [1., 2., 3.]]]]]]])"
      ]
     },
     "execution_count": 39,
     "metadata": {},
     "output_type": "execute_result"
    }
   ],
   "source": [
    "example_tensor"
   ]
  },
  {
   "cell_type": "code",
   "execution_count": 43,
   "id": "3d709060-e594-4db8-a30e-300ae1330fa2",
   "metadata": {},
   "outputs": [
    {
     "data": {
      "text/plain": [
       "torch.Size([1, 1, 1, 1, 1, 2, 3])"
      ]
     },
     "execution_count": 43,
     "metadata": {},
     "output_type": "execute_result"
    }
   ],
   "source": [
    "example_tensor.shape"
   ]
  },
  {
   "cell_type": "code",
   "execution_count": 42,
   "id": "553a8230-68f4-448a-9a33-a162b119956d",
   "metadata": {},
   "outputs": [
    {
     "data": {
      "text/plain": [
       "tensor([[[[[[[1., 1., 1.],\n",
       "             [1., 1., 1.]]]]]]])"
      ]
     },
     "execution_count": 42,
     "metadata": {},
     "output_type": "execute_result"
    }
   ],
   "source": [
    "# Changing the axis (dim)\n",
    "F.softmax(example_tensor, dim=0)"
   ]
  },
  {
   "cell_type": "code",
   "execution_count": 45,
   "id": "824fdae0-c108-45ea-9bac-4446a543c20c",
   "metadata": {},
   "outputs": [
    {
     "data": {
      "text/plain": [
       "tensor([[[[[[[0.3333, 0.3333, 0.3333],\n",
       "             [0.0900, 0.2447, 0.6652]]]]]]])"
      ]
     },
     "execution_count": 45,
     "metadata": {},
     "output_type": "execute_result"
    }
   ],
   "source": [
    "# even with this strange vector we can get the row and column\n",
    "F.softmax(example_tensor, dim=-1)  # row"
   ]
  },
  {
   "cell_type": "code",
   "execution_count": 46,
   "id": "7f7cf5cb-75d6-4c2d-bf1e-68aca133883f",
   "metadata": {},
   "outputs": [
    {
     "data": {
      "text/plain": [
       "tensor([[[[[[[0.8808, 0.7311, 0.5000],\n",
       "             [0.1192, 0.2689, 0.5000]]]]]]])"
      ]
     },
     "execution_count": 46,
     "metadata": {},
     "output_type": "execute_result"
    }
   ],
   "source": [
    "F.softmax(example_tensor, dim=-2)  # col"
   ]
  },
  {
   "cell_type": "code",
   "execution_count": null,
   "id": "750a3cfc-a16d-45a1-83fb-9661ce4c3fe7",
   "metadata": {},
   "outputs": [],
   "source": []
  }
 ],
 "metadata": {
  "kernelspec": {
   "display_name": "env_pytorch",
   "language": "python",
   "name": "env_pytorch"
  },
  "language_info": {
   "codemirror_mode": {
    "name": "ipython",
    "version": 3
   },
   "file_extension": ".py",
   "mimetype": "text/x-python",
   "name": "python",
   "nbconvert_exporter": "python",
   "pygments_lexer": "ipython3",
   "version": "3.9.0"
  }
 },
 "nbformat": 4,
 "nbformat_minor": 5
}
