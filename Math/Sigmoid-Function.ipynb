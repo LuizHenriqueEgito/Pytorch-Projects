{
 "cells": [
  {
   "cell_type": "code",
   "execution_count": 2,
   "id": "6a844008-6ea6-4ba2-a374-5760fe265d76",
   "metadata": {},
   "outputs": [],
   "source": [
    "import torch\n",
    "import torch.nn as nn\n",
    "import torch.nn.functional as F"
   ]
  },
  {
   "cell_type": "code",
   "execution_count": 34,
   "id": "23e722e5-f4c9-469e-a28c-24c877dfcdec",
   "metadata": {},
   "outputs": [
    {
     "data": {
      "text/plain": [
       "tensor([ 100,    1, -100])"
      ]
     },
     "execution_count": 34,
     "metadata": {},
     "output_type": "execute_result"
    }
   ],
   "source": [
    "# 1d vector\n",
    "example_tensor = torch.tensor([100, 1, -100])\n",
    "example_tensor"
   ]
  },
  {
   "cell_type": "code",
   "execution_count": 35,
   "id": "a96265df-f750-435e-86a4-863e4a3b272f",
   "metadata": {},
   "outputs": [
    {
     "data": {
      "text/plain": [
       "tensor([1.0000, 0.7311, 0.0000])"
      ]
     },
     "execution_count": 35,
     "metadata": {},
     "output_type": "execute_result"
    }
   ],
   "source": [
    "# using torch.sigmoid\n",
    "torch.sigmoid(example_tensor)"
   ]
  },
  {
   "cell_type": "code",
   "execution_count": 36,
   "id": "1c80a91b-adff-46f9-9008-76775cdf5e41",
   "metadata": {},
   "outputs": [
    {
     "data": {
      "text/plain": [
       "tensor([1.0000, 0.7311, 0.0000])"
      ]
     },
     "execution_count": 36,
     "metadata": {},
     "output_type": "execute_result"
    }
   ],
   "source": [
    "# using nn.Sigmoid\n",
    "sigmoid_layer = nn.Sigmoid()\n",
    "sigmoid_layer(example_tensor)"
   ]
  },
  {
   "cell_type": "code",
   "execution_count": 37,
   "id": "7eda2788-dee2-447c-8550-9f6310c1ea9a",
   "metadata": {},
   "outputs": [
    {
     "data": {
      "text/plain": [
       "tensor([1.0000, 0.7311, 0.0000])"
      ]
     },
     "execution_count": 37,
     "metadata": {},
     "output_type": "execute_result"
    }
   ],
   "source": [
    "# using F.sigmoid\n",
    "F.sigmoid(example_tensor)"
   ]
  },
  {
   "cell_type": "markdown",
   "id": "0224c538-4537-4b77-afdd-11880daf52a9",
   "metadata": {},
   "source": [
    "***"
   ]
  },
  {
   "cell_type": "code",
   "execution_count": 38,
   "id": "82ec57a4-ac7a-4ceb-bc5e-29681530fe52",
   "metadata": {},
   "outputs": [
    {
     "data": {
      "text/plain": [
       "tensor([[ 100,    1, -100],\n",
       "        [ 100,    1, -100]])"
      ]
     },
     "execution_count": 38,
     "metadata": {},
     "output_type": "execute_result"
    }
   ],
   "source": [
    "# 2d vector\n",
    "example_tensor = torch.tensor([[100, 1, -100], [100, 1, -100]])\n",
    "example_tensor"
   ]
  },
  {
   "cell_type": "code",
   "execution_count": 39,
   "id": "d1f4e8af-054c-4d4b-83c0-a73235a8179e",
   "metadata": {},
   "outputs": [
    {
     "data": {
      "text/plain": [
       "tensor([[1.0000, 0.7311, 0.0000],\n",
       "        [1.0000, 0.7311, 0.0000]])"
      ]
     },
     "execution_count": 39,
     "metadata": {},
     "output_type": "execute_result"
    }
   ],
   "source": [
    "# using torch.sigmoid\n",
    "torch.sigmoid(example_tensor)"
   ]
  },
  {
   "cell_type": "code",
   "execution_count": 40,
   "id": "b5508a96-8f8f-4814-9d99-02f7439f2247",
   "metadata": {},
   "outputs": [
    {
     "data": {
      "text/plain": [
       "tensor([[1.0000, 0.7311, 0.0000],\n",
       "        [1.0000, 0.7311, 0.0000]])"
      ]
     },
     "execution_count": 40,
     "metadata": {},
     "output_type": "execute_result"
    }
   ],
   "source": [
    "# using nn.Sigmoid\n",
    "sigmoid_layer = nn.Sigmoid()\n",
    "sigmoid_layer(example_tensor)"
   ]
  },
  {
   "cell_type": "code",
   "execution_count": 41,
   "id": "c3437a25-3123-4ed8-a50e-72da3db37868",
   "metadata": {},
   "outputs": [
    {
     "data": {
      "text/plain": [
       "tensor([[1.0000, 0.7311, 0.0000],\n",
       "        [1.0000, 0.7311, 0.0000]])"
      ]
     },
     "execution_count": 41,
     "metadata": {},
     "output_type": "execute_result"
    }
   ],
   "source": [
    "# using F.sigmoid\n",
    "F.sigmoid(example_tensor)"
   ]
  },
  {
   "cell_type": "markdown",
   "id": "561bc62c-cb61-4964-aa82-68ddc26f4377",
   "metadata": {},
   "source": [
    "***"
   ]
  },
  {
   "cell_type": "code",
   "execution_count": 18,
   "id": "270eb6ac-d763-4743-9073-28e1ca638813",
   "metadata": {},
   "outputs": [
    {
     "ename": "TypeError",
     "evalue": "sigmoid() got an unexpected keyword argument 'dim'",
     "output_type": "error",
     "traceback": [
      "\u001b[1;31m---------------------------------------------------------------------------\u001b[0m",
      "\u001b[1;31mTypeError\u001b[0m                                 Traceback (most recent call last)",
      "Cell \u001b[1;32mIn[18], line 2\u001b[0m\n\u001b[0;32m      1\u001b[0m \u001b[38;5;66;03m# Changing the axis (dim)\u001b[39;00m\n\u001b[1;32m----> 2\u001b[0m \u001b[43mtorch\u001b[49m\u001b[38;5;241;43m.\u001b[39;49m\u001b[43msigmoid\u001b[49m\u001b[43m(\u001b[49m\u001b[43mexample_tensor\u001b[49m\u001b[43m,\u001b[49m\u001b[43m \u001b[49m\u001b[43mdim\u001b[49m\u001b[38;5;241;43m=\u001b[39;49m\u001b[38;5;241;43m1\u001b[39;49m\u001b[43m)\u001b[49m\n",
      "\u001b[1;31mTypeError\u001b[0m: sigmoid() got an unexpected keyword argument 'dim'"
     ]
    }
   ],
   "source": [
    "# Changing the axis (dim)\n",
    "torch.sigmoid(example_tensor, dim=1)"
   ]
  },
  {
   "cell_type": "code",
   "execution_count": null,
   "id": "965ca330-c4df-4d2b-bd67-f3056dbe0f67",
   "metadata": {},
   "outputs": [],
   "source": []
  }
 ],
 "metadata": {
  "kernelspec": {
   "display_name": "env_pytorch",
   "language": "python",
   "name": "env_pytorch"
  },
  "language_info": {
   "codemirror_mode": {
    "name": "ipython",
    "version": 3
   },
   "file_extension": ".py",
   "mimetype": "text/x-python",
   "name": "python",
   "nbconvert_exporter": "python",
   "pygments_lexer": "ipython3",
   "version": "3.9.0"
  }
 },
 "nbformat": 4,
 "nbformat_minor": 5
}
