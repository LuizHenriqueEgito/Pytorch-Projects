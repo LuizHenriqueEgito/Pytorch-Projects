{
 "cells": [
  {
   "cell_type": "code",
   "execution_count": 103,
   "id": "55a14e09-1cec-47a9-b166-fd55a2b52677",
   "metadata": {},
   "outputs": [],
   "source": [
    "import matplotlib.pyplot as plt\n",
    "import torch\n",
    "import torch.nn as nn\n",
    "from torch.autograd import Variable\n",
    "from torch import optim\n",
    "from torch.utils.data import DataLoader\n",
    "from typing import Optional, List, Tuple\n",
    "from torchvision import datasets\n",
    "from torchvision.transforms import ToTensor"
   ]
  },
  {
   "cell_type": "code",
   "execution_count": 2,
   "id": "0433c93d-5149-41a3-86e5-4e5b74d2575d",
   "metadata": {},
   "outputs": [
    {
     "data": {
      "text/plain": [
       "device(type='cuda')"
      ]
     },
     "execution_count": 2,
     "metadata": {},
     "output_type": "execute_result"
    }
   ],
   "source": [
    "device = torch.device('cuda' if torch.cuda.is_available() else 'cpu')\n",
    "device"
   ]
  },
  {
   "cell_type": "code",
   "execution_count": 3,
   "id": "e2d531d8-cbb8-4a85-b398-23f20d758d49",
   "metadata": {
    "scrolled": true
   },
   "outputs": [],
   "source": [
    "# settings\n",
    "BATCH_SIZE = 124\n",
    "LR = 1e-02\n",
    "EPOCHS = 10"
   ]
  },
  {
   "cell_type": "code",
   "execution_count": 4,
   "id": "0c8b6087-f8a8-4fd3-adde-8f064bd9be11",
   "metadata": {},
   "outputs": [
    {
     "data": {
      "text/plain": [
       "0.01"
      ]
     },
     "execution_count": 4,
     "metadata": {},
     "output_type": "execute_result"
    }
   ],
   "source": [
    "LR"
   ]
  },
  {
   "cell_type": "code",
   "execution_count": 5,
   "id": "9d37b641-c3a6-4dbf-a254-0cb84facedc6",
   "metadata": {},
   "outputs": [],
   "source": [
    "train_data = datasets.MNIST(\n",
    "    root = 'data',\n",
    "    train = True,                         \n",
    "    transform = ToTensor(), \n",
    "    download = True,            \n",
    ")\n",
    "test_data = datasets.MNIST(\n",
    "    root = 'data', \n",
    "    train = False, \n",
    "    transform = ToTensor()\n",
    ")"
   ]
  },
  {
   "cell_type": "code",
   "execution_count": 6,
   "id": "1121d15d-8fad-47bf-a520-bba3d661b989",
   "metadata": {},
   "outputs": [
    {
     "data": {
      "text/plain": [
       "torch.Size([28, 28])"
      ]
     },
     "execution_count": 6,
     "metadata": {},
     "output_type": "execute_result"
    }
   ],
   "source": [
    "test_data.data[0].shape"
   ]
  },
  {
   "cell_type": "code",
   "execution_count": 7,
   "id": "c1967711-df5d-46ad-904e-564fcd8d5ff0",
   "metadata": {},
   "outputs": [],
   "source": [
    "def plot_digit(dataset, index: Optional[int] = None) -> None:\n",
    "    if not index:\n",
    "        index = torch.randint(low=0, high=len(dataset), size=(1,)).item()\n",
    "    plt.imshow(dataset.data[index], cmap='gray')\n",
    "    plt.title(f'Digit Label: {dataset.targets[index]}')\n",
    "    plt.show()"
   ]
  },
  {
   "cell_type": "code",
   "execution_count": 8,
   "id": "a6aea434-484b-455f-ae0c-5766bd1878b7",
   "metadata": {},
   "outputs": [
    {
     "data": {
      "image/png": "[encoded data removed]",
      "text/plain": [
       "<Figure size 640x480 with 1 Axes>"
      ]
     },
     "metadata": {},
     "output_type": "display_data"
    }
   ],
   "source": [
    "plot_digit(test_data)"
   ]
  },
  {
   "cell_type": "code",
   "execution_count": 9,
   "id": "488a0800-a3a3-4035-b538-f42989e17c4a",
   "metadata": {},
   "outputs": [
    {
     "data": {
      "image/png": "[encoded data removed]",
      "text/plain": [
       "<Figure size 640x480 with 1 Axes>"
      ]
     },
     "metadata": {},
     "output_type": "display_data"
    }
   ],
   "source": [
    "plot_digit(train_data)"
   ]
  },
  {
   "cell_type": "code",
   "execution_count": 10,
   "id": "d9602f11-1b98-4340-96ed-c0cf3c48afb4",
   "metadata": {},
   "outputs": [],
   "source": [
    "train_loader = DataLoader(train_data, batch_size=BATCH_SIZE, shuffle=True)\n",
    "test_loader = DataLoader(test_data, batch_size=BATCH_SIZE, shuffle=True)"
   ]
  },
  {
   "cell_type": "code",
   "execution_count": 12,
   "id": "c7b5746f-097c-4378-81e9-41eadad55553",
   "metadata": {},
   "outputs": [],
   "source": [
    "class DigitRecognizerNet(nn.Module):\n",
    "    def __init__(self):\n",
    "        super(DigitRecognizerNet, self).__init__()\n",
    "        self.conv1 = nn.Sequential(\n",
    "            nn.Conv2d(in_channels=1, out_channels=16, kernel_size=5, stride=1, padding=2),\n",
    "            nn.ReLU(),\n",
    "            nn.MaxPool2d(kernel_size=2),\n",
    "        )\n",
    "        self.conv2 = nn.Sequential(\n",
    "            nn.Conv2d(16, 32, 5, 1, 2),\n",
    "            nn.ReLU(),\n",
    "            nn.MaxPool2d(2),\n",
    "        )\n",
    "        self.flatten = nn.Flatten()\n",
    "        self.out = nn.Linear(32 * 7 * 7, 10)\n",
    "\n",
    "    def forward(self, x):\n",
    "        x = self.conv1(x)\n",
    "        x = self.conv2(x)\n",
    "        x = self.flatten(x)\n",
    "        output = self.out(x)\n",
    "        return output, x"
   ]
  },
  {
   "cell_type": "code",
   "execution_count": 75,
   "id": "162fa2bd-ca9a-45a2-81aa-65c683723d0d",
   "metadata": {},
   "outputs": [],
   "source": [
    "class DigitRecognizerNet(nn.Module):\n",
    "    def __init__(self):\n",
    "        super(DigitRecognizerNet, self).__init__()\n",
    "        self.conv1 = nn.Sequential(\n",
    "            nn.Conv2d(in_channels=1, out_channels=3, kernel_size=3, stride=1, padding=2),\n",
    "            nn.ReLU(),\n",
    "            nn.MaxPool2d(kernel_size=2)\n",
    "        )\n",
    "        self.conv2 = nn.Sequential(\n",
    "            nn.Conv2d(in_channels=3, out_channels=1, kernel_size=3, stride=1, padding=2),\n",
    "            nn.ReLU(),\n",
    "            nn.MaxPool2d(kernel_size=5)\n",
    "        )\n",
    "        self.flatten = nn.Flatten()\n",
    "        self.linear = nn.Sequential(\n",
    "            nn.Linear(9, 32),\n",
    "            nn.ReLU(),\n",
    "            nn.Linear(32, 10)\n",
    "        )\n",
    "\n",
    "    def forward(self, x):\n",
    "        x = self.conv1(x)\n",
    "        x = repr_x = self.conv2(x)\n",
    "        x = self.flatten(x)\n",
    "        x = self.linear(x)\n",
    "        return x, repr_x"
   ]
  },
  {
   "cell_type": "code",
   "execution_count": 76,
   "id": "f23ddd93-112d-4ba3-a21e-91be777e6e2a",
   "metadata": {},
   "outputs": [],
   "source": [
    "model = DigitRecognizerNet().to(device)"
   ]
  },
  {
   "cell_type": "code",
   "execution_count": 85,
   "id": "008b3bc9-7cfb-4062-8202-a916ba78d200",
   "metadata": {},
   "outputs": [],
   "source": [
    "model.eval()\n",
    "sample_input = torch.randn((124, 1, 28, 28)).to(device)"
   ]
  },
  {
   "cell_type": "code",
   "execution_count": 86,
   "id": "a073f09f-606b-49dd-be38-76c61f6c84be",
   "metadata": {},
   "outputs": [],
   "source": [
    "out_model = model(sample_input)"
   ]
  },
  {
   "cell_type": "code",
   "execution_count": 87,
   "id": "ea5332f3-8439-41d9-9163-499ee2c2681d",
   "metadata": {},
   "outputs": [
    {
     "data": {
      "text/plain": [
       "torch.Size([124, 10])"
      ]
     },
     "execution_count": 87,
     "metadata": {},
     "output_type": "execute_result"
    }
   ],
   "source": [
    "out_model[0].shape"
   ]
  },
  {
   "cell_type": "code",
   "execution_count": 89,
   "id": "f67554dc-def6-4236-b092-64385174b9f7",
   "metadata": {},
   "outputs": [
    {
     "data": {
      "text/plain": [
       "tensor([[-0.2198,  0.1284, -0.1395,  ...,  0.5452, -0.1632, -0.0154],\n",
       "        [-0.2388,  0.1076, -0.0573,  ...,  0.5240, -0.0981, -0.0469],\n",
       "        [-0.2214,  0.1045, -0.0936,  ...,  0.5190, -0.1385, -0.0403],\n",
       "        ...,\n",
       "        [-0.2275,  0.1372, -0.1503,  ...,  0.5565, -0.1977, -0.0060],\n",
       "        [-0.1952,  0.1228, -0.1176,  ...,  0.5743, -0.1619, -0.0643],\n",
       "        [-0.2454,  0.0920, -0.0500,  ...,  0.4910, -0.1592, -0.0675]],\n",
       "       device='cuda:0', grad_fn=<AddmmBackward0>)"
      ]
     },
     "execution_count": 89,
     "metadata": {},
     "output_type": "execute_result"
    }
   ],
   "source": [
    "out_model[0]"
   ]
  },
  {
   "cell_type": "code",
   "execution_count": 90,
   "id": "734280c0-26ff-44ad-a4bd-3ac6801cffe8",
   "metadata": {},
   "outputs": [],
   "source": [
    "def plot_conv_digit(conv_tensor: torch.tensor):\n",
    "    numpy_data = conv_tensor[1][1].to('cpu').squeeze().detach().numpy()\n",
    "    plt.imshow(numpy_data, cmap='gray')\n",
    "    plt.colorbar()\n",
    "    plt.show()"
   ]
  },
  {
   "cell_type": "code",
   "execution_count": 91,
   "id": "6db0e8c5-e76e-4749-8b7b-c4187ac89d24",
   "metadata": {},
   "outputs": [
    {
     "data": {
      "image/png": "[encoded data removed]",
      "text/plain": [
       "<Figure size 640x480 with 2 Axes>"
      ]
     },
     "metadata": {},
     "output_type": "display_data"
    }
   ],
   "source": [
    "plot_conv_digit(conv_tensor=out_model)"
   ]
  },
  {
   "cell_type": "markdown",
   "id": "70308304-7410-4c16-be49-a948bd000cd2",
   "metadata": {},
   "source": [
    "# TODO:\n",
    "- [ ] treine o modelo e salve essas representações junto com os targets em uma lista\n",
    "- [ ] use algum modelo de cluster e pegue o k-medoid para pegar o mais fiel a cada digito e plot\n",
    "- [ ] veja as metricas para uma rede normal\n",
    "- [ ] veja as metricas para algum modelo comum e compare"
   ]
  },
  {
   "cell_type": "code",
   "execution_count": 92,
   "id": "87b90e58-b764-495d-b9eb-2fb51f608c96",
   "metadata": {},
   "outputs": [],
   "source": [
    "loss_func = nn.CrossEntropyLoss()\n",
    "optimizer = optim.Adam(model.parameters(), lr=LR)"
   ]
  },
  {
   "cell_type": "code",
   "execution_count": 93,
   "id": "1a258fdd-bb47-4721-ac98-befd2c9ed6d2",
   "metadata": {},
   "outputs": [],
   "source": [
    "def train_net(n_epochs: int = EPOCHS, loss_func = loss_func, optimizer = optimizer, train_dataset = train_loader, list_repr: List = []):\n",
    "    model.train()\n",
    "    total_steps = len(train_dataset)\n",
    "    for epoch in range(n_epochs):\n",
    "        for i, (images, labels) in enumerate(train_dataset):\n",
    "            images, labels = images.to(device), labels.to(device)\n",
    "            b_images = Variable(images)\n",
    "            # print(b_images.shape)\n",
    "            b_labels = Variable(labels)\n",
    "            output = model(b_images)\n",
    "            predict = output[0]\n",
    "            repr = output[1]\n",
    "            # list_repr.append((repr, labels))\n",
    "            loss = loss_func(predict, b_labels)\n",
    "            optimizer.zero_grad()\n",
    "            loss.backward()\n",
    "            optimizer.step()\n",
    "            if (i + 1) % 100 == 0:\n",
    "                print(f'Epoch [{epoch + 1}/{n_epochs}], Step [{i + 1}/{total_steps}], Loss: {loss.item():.4f}')\n",
    "                # break\n",
    "    return list_repr"
   ]
  },
  {
   "cell_type": "code",
   "execution_count": 94,
   "id": "46bcc9e2-ae2b-4990-b7cb-287879221273",
   "metadata": {},
   "outputs": [
    {
     "name": "stdout",
     "output_type": "stream",
     "text": [
      "Epoch [1/10], Step [100/484], Loss: 0.9801\n",
      "Epoch [1/10], Step [200/484], Loss: 0.8972\n",
      "Epoch [1/10], Step [300/484], Loss: 0.7460\n",
      "Epoch [1/10], Step [400/484], Loss: 0.6831\n",
      "Epoch [2/10], Step [100/484], Loss: 0.6657\n",
      "Epoch [2/10], Step [200/484], Loss: 0.7230\n",
      "Epoch [2/10], Step [300/484], Loss: 0.5639\n",
      "Epoch [2/10], Step [400/484], Loss: 0.6030\n",
      "Epoch [3/10], Step [100/484], Loss: 0.8501\n",
      "Epoch [3/10], Step [200/484], Loss: 0.4928\n",
      "Epoch [3/10], Step [300/484], Loss: 0.4268\n",
      "Epoch [3/10], Step [400/484], Loss: 0.3808\n",
      "Epoch [4/10], Step [100/484], Loss: 0.6109\n",
      "Epoch [4/10], Step [200/484], Loss: 0.5648\n",
      "Epoch [4/10], Step [300/484], Loss: 0.5988\n",
      "Epoch [4/10], Step [400/484], Loss: 0.5671\n",
      "Epoch [5/10], Step [100/484], Loss: 0.4392\n",
      "Epoch [5/10], Step [200/484], Loss: 0.4884\n",
      "Epoch [5/10], Step [300/484], Loss: 0.3604\n",
      "Epoch [5/10], Step [400/484], Loss: 0.5284\n",
      "Epoch [6/10], Step [100/484], Loss: 0.4847\n",
      "Epoch [6/10], Step [200/484], Loss: 0.4444\n",
      "Epoch [6/10], Step [300/484], Loss: 0.3206\n",
      "Epoch [6/10], Step [400/484], Loss: 0.4645\n",
      "Epoch [7/10], Step [100/484], Loss: 0.4504\n",
      "Epoch [7/10], Step [200/484], Loss: 0.3707\n",
      "Epoch [7/10], Step [300/484], Loss: 0.4838\n",
      "Epoch [7/10], Step [400/484], Loss: 0.5516\n",
      "Epoch [8/10], Step [100/484], Loss: 0.3399\n",
      "Epoch [8/10], Step [200/484], Loss: 0.3591\n",
      "Epoch [8/10], Step [300/484], Loss: 0.3976\n",
      "Epoch [8/10], Step [400/484], Loss: 0.5231\n",
      "Epoch [9/10], Step [100/484], Loss: 0.4039\n",
      "Epoch [9/10], Step [200/484], Loss: 0.3155\n",
      "Epoch [9/10], Step [300/484], Loss: 0.4797\n",
      "Epoch [9/10], Step [400/484], Loss: 0.3577\n",
      "Epoch [10/10], Step [100/484], Loss: 0.5643\n",
      "Epoch [10/10], Step [200/484], Loss: 0.4404\n",
      "Epoch [10/10], Step [300/484], Loss: 0.3311\n",
      "Epoch [10/10], Step [400/484], Loss: 0.5145\n"
     ]
    }
   ],
   "source": [
    "list_repr = train_net()"
   ]
  },
  {
   "cell_type": "code",
   "execution_count": 22,
   "id": "98d41b56-22fa-4437-a2c9-55c6ae2b6355",
   "metadata": {},
   "outputs": [
    {
     "data": {
      "text/plain": [
       "DigitRecognizerNet(\n",
       "  (conv1): Sequential(\n",
       "    (0): Conv2d(1, 16, kernel_size=(5, 5), stride=(1, 1), padding=(2, 2))\n",
       "    (1): ReLU()\n",
       "    (2): MaxPool2d(kernel_size=2, stride=2, padding=0, dilation=1, ceil_mode=False)\n",
       "  )\n",
       "  (conv2): Sequential(\n",
       "    (0): Conv2d(16, 32, kernel_size=(5, 5), stride=(1, 1), padding=(2, 2))\n",
       "    (1): ReLU()\n",
       "    (2): MaxPool2d(kernel_size=2, stride=2, padding=0, dilation=1, ceil_mode=False)\n",
       "  )\n",
       "  (flatten): Flatten(start_dim=1, end_dim=-1)\n",
       "  (out): Linear(in_features=1568, out_features=10, bias=True)\n",
       ")"
      ]
     },
     "execution_count": 22,
     "metadata": {},
     "output_type": "execute_result"
    }
   ],
   "source": [
    "model"
   ]
  },
  {
   "cell_type": "code",
   "execution_count": 101,
   "id": "3e5ed5e7-c106-4284-a878-1f628fce7d9d",
   "metadata": {},
   "outputs": [
    {
     "name": "stdout",
     "output_type": "stream",
     "text": [
      "Test acc of the model on the 10000 test images: 0.8691\n"
     ]
    }
   ],
   "source": [
    "def eval_net():\n",
    "    model.eval()\n",
    "    with torch.no_grad():\n",
    "        correct = 0\n",
    "        total = 0\n",
    "        for images, labels in test_loader:\n",
    "            images, labels = images.to(device), labels.to(device)\n",
    "            predict_output = model(images)[0]\n",
    "            _, pred_y = torch.max(predict_output, 1)\n",
    "            correct += (pred_y == labels).sum().item()\n",
    "            total += labels.size(0)\n",
    "\n",
    "        accuracy = correct / total\n",
    "        print(f'Test acc of the model on the {total} test images: {accuracy}')\n",
    "\n",
    "# Certifique-se de chamar eval_net depois de treinar o modelo e antes de avaliá-lo no conjunto de teste.\n",
    "eval_net()"
   ]
  },
  {
   "cell_type": "code",
   "execution_count": 154,
   "id": "5309b447-ee00-45be-8776-6e4a6d0311f8",
   "metadata": {},
   "outputs": [],
   "source": [
    "def get_repr() -> List[Tuple]:\n",
    "    list_repr_x = []\n",
    "    list_labels = []\n",
    "    model.eval()\n",
    "    with torch.no_grad():\n",
    "        for images , labels in train_loader:\n",
    "            images, labels = images.to(device), labels.to(device)\n",
    "            repr_images = model(images)[1]\n",
    "            # list_repr.append((repr_images, labels))\n",
    "            list_repr_x.append(repr_images)\n",
    "            list_labels.append(labels)\n",
    "    return list_repr_x, list_labels"
   ]
  },
  {
   "cell_type": "code",
   "execution_count": 155,
   "id": "a7666461-484e-4bfd-98d8-03f92f43c68b",
   "metadata": {},
   "outputs": [],
   "source": [
    "list_repr_x, list_labels = get_repr()"
   ]
  },
  {
   "cell_type": "code",
   "execution_count": 159,
   "id": "06dbfa3d-b7a9-4e2c-a816-2c9f9a313165",
   "metadata": {},
   "outputs": [
    {
     "data": {
      "text/plain": [
       "484"
      ]
     },
     "execution_count": 159,
     "metadata": {},
     "output_type": "execute_result"
    }
   ],
   "source": [
    "len(list_repr_x)"
   ]
  },
  {
   "cell_type": "code",
   "execution_count": 189,
   "id": "88db0c8b-3412-4cd2-bfce-e2007bdbbddf",
   "metadata": {},
   "outputs": [],
   "source": [
    "new_list_repr_x = [x.cpu().numpy() for i in list_repr_x for x in i.squeeze()]"
   ]
  },
  {
   "cell_type": "code",
   "execution_count": 190,
   "id": "71f7837a-df74-4b08-814a-177e47e30caa",
   "metadata": {},
   "outputs": [
    {
     "data": {
      "text/plain": [
       "[array([[0.7451814, 1.4152701, 1.0714388],\n",
       "        [2.3601007, 8.300129 , 6.86401  ],\n",
       "        [1.0476398, 1.940982 , 2.4745617]], dtype=float32),\n",
       " array([[1.8979181, 4.773403 , 2.9131825],\n",
       "        [1.3221076, 5.5599623, 5.714018 ],\n",
       "        [4.1794286, 4.124875 , 4.028861 ]], dtype=float32),\n",
       " array([[0.59270096, 4.4767423 , 3.3146172 ],\n",
       "        [2.7041616 , 8.121634  , 3.3192053 ],\n",
       "        [0.25143754, 3.2044773 , 1.5582494 ]], dtype=float32)]"
      ]
     },
     "execution_count": 190,
     "metadata": {},
     "output_type": "execute_result"
    }
   ],
   "source": [
    "new_list_repr_x[:3]"
   ]
  },
  {
   "cell_type": "code",
   "execution_count": 191,
   "id": "1d23ada0-c982-4397-b262-0ba6b8049541",
   "metadata": {},
   "outputs": [],
   "source": [
    "new_list_labels = [x.cpu().item() for i in list_labels for x in i]"
   ]
  },
  {
   "cell_type": "code",
   "execution_count": 192,
   "id": "2162055f-da0e-4a9b-8b2b-fc5074152502",
   "metadata": {},
   "outputs": [
    {
     "data": {
      "text/plain": [
       "[4, 3, 9]"
      ]
     },
     "execution_count": 192,
     "metadata": {},
     "output_type": "execute_result"
    }
   ],
   "source": [
    "new_list_labels[:3]"
   ]
  },
  {
   "cell_type": "code",
   "execution_count": 193,
   "id": "7daa499a-e9aa-4100-b6ba-6a523e1dfa73",
   "metadata": {},
   "outputs": [],
   "source": [
    "dataset_raw = list(zip(new_list_repr_x, new_list_labels))"
   ]
  },
  {
   "cell_type": "code",
   "execution_count": 194,
   "id": "a425aed7-0edd-4feb-bd0a-8f0a100957cb",
   "metadata": {},
   "outputs": [
    {
     "data": {
      "text/plain": [
       "[(array([[0.7451814, 1.4152701, 1.0714388],\n",
       "         [2.3601007, 8.300129 , 6.86401  ],\n",
       "         [1.0476398, 1.940982 , 2.4745617]], dtype=float32),\n",
       "  4),\n",
       " (array([[1.8979181, 4.773403 , 2.9131825],\n",
       "         [1.3221076, 5.5599623, 5.714018 ],\n",
       "         [4.1794286, 4.124875 , 4.028861 ]], dtype=float32),\n",
       "  3),\n",
       " (array([[0.59270096, 4.4767423 , 3.3146172 ],\n",
       "         [2.7041616 , 8.121634  , 3.3192053 ],\n",
       "         [0.25143754, 3.2044773 , 1.5582494 ]], dtype=float32),\n",
       "  9)]"
      ]
     },
     "execution_count": 194,
     "metadata": {},
     "output_type": "execute_result"
    }
   ],
   "source": [
    "dataset_raw[:3]"
   ]
  },
  {
   "cell_type": "code",
   "execution_count": 196,
   "id": "e52526c1-fa9c-4021-aa98-5e15374fbabb",
   "metadata": {},
   "outputs": [],
   "source": [
    "# para arrumar esses dados eu vou dar um flatten unir com a target e dar um vstack\n",
    "import numpy as np\n",
    "dataset = np.vstack([np.hstack((matriz.flatten(), numero)) for matriz, numero in dataset_raw])"
   ]
  },
  {
   "cell_type": "code",
   "execution_count": 199,
   "id": "2186c315-9fac-42cc-b2ee-9738d5e816ca",
   "metadata": {},
   "outputs": [
    {
     "data": {
      "text/plain": [
       "array([[0.74518138, 1.41527009, 1.07143879, ..., 1.94098198, 2.47456169,\n",
       "        4.        ],\n",
       "       [1.89791811, 4.77340317, 2.9131825 , ..., 4.12487507, 4.02886105,\n",
       "        3.        ],\n",
       "       [0.59270096, 4.47674227, 3.31461716, ..., 3.20447731, 1.55824935,\n",
       "        9.        ],\n",
       "       ...,\n",
       "       [0.43694025, 3.99061918, 3.06488371, ..., 3.84362364, 4.13531923,\n",
       "        7.        ],\n",
       "       [0.18982555, 4.30129719, 2.22183204, ..., 4.6230731 , 3.27339077,\n",
       "        3.        ],\n",
       "       [0.93292004, 1.72163427, 1.43514264, ..., 2.18693089, 3.74525833,\n",
       "        4.        ]])"
      ]
     },
     "execution_count": 199,
     "metadata": {},
     "output_type": "execute_result"
    }
   ],
   "source": [
    "dataset"
   ]
  },
  {
   "cell_type": "code",
   "execution_count": 211,
   "id": "d2116dcb-5f1d-49b6-934b-8386f36ed061",
   "metadata": {},
   "outputs": [],
   "source": [
    "from sklearn.model_selection import train_test_split, cross_val_score, cross_val_predict\n",
    "from sklearn.ensemble import GradientBoostingClassifier, RandomForestClassifier\n",
    "from sklearn.metrics import classification_report"
   ]
  },
  {
   "cell_type": "code",
   "execution_count": 206,
   "id": "94da10da-6360-4b39-b05c-9f2cb5bb09ff",
   "metadata": {},
   "outputs": [
    {
     "data": {
      "text/plain": [
       "array([4., 3., 9., ..., 7., 3., 4.])"
      ]
     },
     "execution_count": 206,
     "metadata": {},
     "output_type": "execute_result"
    }
   ],
   "source": [
    "dataset[:, -1]"
   ]
  },
  {
   "cell_type": "code",
   "execution_count": 205,
   "id": "b000b238-eaa2-4ace-a160-d4da8c6ae52b",
   "metadata": {},
   "outputs": [],
   "source": [
    "X = dataset[:, :-1]\n",
    "y = dataset[:, -1]"
   ]
  },
  {
   "cell_type": "code",
   "execution_count": 210,
   "id": "b4cecaca-89fc-4fb1-8cee-8d52d89578b2",
   "metadata": {},
   "outputs": [
    {
     "data": {
      "text/plain": [
       "array([0.73375, 0.73075, 0.723  ])"
      ]
     },
     "execution_count": 210,
     "metadata": {},
     "output_type": "execute_result"
    }
   ],
   "source": [
    "cross_val_score(RandomForestClassifier(max_depth=3, random_state=42), X=X, y=y, cv=3)"
   ]
  },
  {
   "cell_type": "code",
   "execution_count": 212,
   "id": "6cc7ba59-3613-4eb9-9751-9aace0e0546d",
   "metadata": {},
   "outputs": [],
   "source": [
    "y_pred = cross_val_predict(RandomForestClassifier(max_depth=3, random_state=42), X=X, y=y, cv=3)"
   ]
  },
  {
   "cell_type": "code",
   "execution_count": 213,
   "id": "472503a3-4b19-4f47-89c8-1b082c7ce9b8",
   "metadata": {},
   "outputs": [
    {
     "data": {
      "text/plain": [
       "array([4., 3., 9., ..., 7., 3., 4.])"
      ]
     },
     "execution_count": 213,
     "metadata": {},
     "output_type": "execute_result"
    }
   ],
   "source": [
    "y_pred"
   ]
  },
  {
   "cell_type": "code",
   "execution_count": 214,
   "id": "f1c83d2b-092b-433a-b600-1d39068900ee",
   "metadata": {},
   "outputs": [
    {
     "data": {
      "text/plain": [
       "array([4., 3., 9., ..., 7., 3., 4.])"
      ]
     },
     "execution_count": 214,
     "metadata": {},
     "output_type": "execute_result"
    }
   ],
   "source": [
    "y"
   ]
  },
  {
   "cell_type": "code",
   "execution_count": 215,
   "id": "de1124ec-2ecd-486d-a80a-7ac263bb3bd0",
   "metadata": {},
   "outputs": [
    {
     "name": "stdout",
     "output_type": "stream",
     "text": [
      "              precision    recall  f1-score   support\n",
      "\n",
      "         0.0       0.69      0.79      0.74      5923\n",
      "         1.0       0.88      0.95      0.91      6742\n",
      "         2.0       0.88      0.45      0.59      5958\n",
      "         3.0       0.66      0.53      0.59      6131\n",
      "         4.0       0.73      0.92      0.82      5842\n",
      "         5.0       0.85      0.37      0.52      5421\n",
      "         6.0       0.81      0.82      0.82      5918\n",
      "         7.0       0.73      0.79      0.76      6265\n",
      "         8.0       0.56      0.76      0.65      5851\n",
      "         9.0       0.67      0.86      0.75      5949\n",
      "\n",
      "    accuracy                           0.73     60000\n",
      "   macro avg       0.75      0.72      0.71     60000\n",
      "weighted avg       0.75      0.73      0.72     60000\n",
      "\n"
     ]
    }
   ],
   "source": [
    "print(classification_report(y, y_pred))"
   ]
  },
  {
   "cell_type": "code",
   "execution_count": 217,
   "id": "b936c296-9162-4edd-9525-55ab08dc5fc6",
   "metadata": {},
   "outputs": [],
   "source": [
    "from sklearn.metrics import confusion_matrix, ConfusionMatrixDisplay"
   ]
  },
  {
   "cell_type": "code",
   "execution_count": 219,
   "id": "5f0847d3-2d68-49b4-a0da-9c3bb962d0d7",
   "metadata": {},
   "outputs": [
    {
     "data": {
      "image/png": "[encoded data removed]",
      "text/plain": [
       "<Figure size 640x480 with 2 Axes>"
      ]
     },
     "metadata": {},
     "output_type": "display_data"
    }
   ],
   "source": [
    "cm = confusion_matrix(y, y_pred, labels=range(10))\n",
    "disp = ConfusionMatrixDisplay(confusion_matrix=cm,\n",
    "                               display_labels=range(10))\n",
    "disp.plot()\n",
    "plt.show()"
   ]
  },
  {
   "cell_type": "code",
   "execution_count": null,
   "id": "9a6d242d-d284-4063-b8c4-3ac225b2739f",
   "metadata": {},
   "outputs": [],
   "source": []
  },
  {
   "cell_type": "code",
   "execution_count": null,
   "id": "a53a696c-d8e4-4112-af1e-4e628079354b",
   "metadata": {},
   "outputs": [],
   "source": [
    "\n",
    "\n",
    "3152384 * 6"
   ]
  },
  {
   "cell_type": "code",
   "execution_count": null,
   "id": "1de70b37-d100-4a11-8b1c-900576abea5d",
   "metadata": {},
   "outputs": [],
   "source": []
  }
 ],
 "metadata": {
  "kernelspec": {
   "display_name": "env_pytorch",
   "language": "python",
   "name": "env_pytorch"
  },
  "language_info": {
   "codemirror_mode": {
    "name": "ipython",
    "version": 3
   },
   "file_extension": ".py",
   "mimetype": "text/x-python",
   "name": "python",
   "nbconvert_exporter": "python",
   "pygments_lexer": "ipython3",
   "version": "3.9.0"
  }
 },
 "nbformat": 4,
 "nbformat_minor": 5
}
