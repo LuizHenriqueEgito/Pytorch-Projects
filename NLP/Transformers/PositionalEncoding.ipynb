{
 "cells": [
  {
   "cell_type": "markdown",
   "id": "d86c8e2b-d879-4f0d-892b-c735a07fe7a2",
   "metadata": {
    "tags": []
   },
   "source": [
    "### Positional Encoding\n",
    "Sabemos colocar as palavras em um espaço de dimensão usando embeddings no entanto não estamos levando em conta a ordem da sequencia. Por exemplo: \"Isso, não foi legal\" ou \"Não, isso foi legal\" possuem as mesmas palavras mas em ordem diferentes. A ordem importa em um problema de linguagem e é isso que o positional encoding trás para o embedding de palavras \"tokens\". O positional encodign usa funções `seno` (par) e `cossenos` (impar?) para por meio de frequencia saber onde aquela palavra está na sequencia."
   ]
  },
  {
   "cell_type": "code",
   "execution_count": 17,
   "id": "cab56548-ea86-47fd-b4a3-b4f246542b47",
   "metadata": {
    "tags": []
   },
   "outputs": [],
   "source": [
    "import torch\n",
    "import torch.nn as nn\n",
    "import math\n",
    "from torch import Tensor\n",
    "import matplotlib.pyplot as plt"
   ]
  },
  {
   "cell_type": "code",
   "execution_count": 2,
   "id": "b5cd51de-56e3-4b9a-b575-2acc5f3866de",
   "metadata": {},
   "outputs": [],
   "source": [
    "texto = 'Olá mundo'\n",
    "texto_tokenized = texto.split()"
   ]
  },
  {
   "cell_type": "code",
   "execution_count": 3,
   "id": "c50838bf-1e34-4f79-8b9d-acf595ba9ee0",
   "metadata": {
    "tags": []
   },
   "outputs": [
    {
     "data": {
      "text/plain": [
       "[0, 1]"
      ]
     },
     "execution_count": 3,
     "metadata": {},
     "output_type": "execute_result"
    }
   ],
   "source": [
    "texto_tokenized = [i for i, v in enumerate(texto_tokenized)]\n",
    "texto_tokenized"
   ]
  },
  {
   "cell_type": "code",
   "execution_count": 4,
   "id": "08e4c311-4615-4bde-8b18-4387adc1ad05",
   "metadata": {
    "tags": []
   },
   "outputs": [],
   "source": [
    "vocab_size = 2\n",
    "embedding_dim = 2"
   ]
  },
  {
   "cell_type": "code",
   "execution_count": 5,
   "id": "4f42da3f-8dfd-4352-911b-bbd1f5dda120",
   "metadata": {
    "tags": []
   },
   "outputs": [
    {
     "data": {
      "text/plain": [
       "Embedding(2, 2)"
      ]
     },
     "execution_count": 5,
     "metadata": {},
     "output_type": "execute_result"
    }
   ],
   "source": [
    "embedding_layer = nn.Embedding(vocab_size, embedding_dim)\n",
    "embedding_layer"
   ]
  },
  {
   "cell_type": "code",
   "execution_count": 6,
   "id": "2a61bda1-2c2e-4af2-85e0-e62e77bfa244",
   "metadata": {
    "tags": []
   },
   "outputs": [],
   "source": [
    "texto_tokenized = torch.tensor(texto_tokenized)\n",
    "embedded_sequence = embedding_layer(texto_tokenized)"
   ]
  },
  {
   "cell_type": "code",
   "execution_count": 7,
   "id": "7f60e08a-3ec3-4753-95dc-2924355e25c5",
   "metadata": {
    "tags": []
   },
   "outputs": [
    {
     "name": "stdout",
     "output_type": "stream",
     "text": [
      "representação do Olá: tensor([-0.9345, -0.6243], grad_fn=<SelectBackward0>)\n",
      "representação do mundo: tensor([ 0.0252, -0.3341], grad_fn=<SelectBackward0>)\n"
     ]
    }
   ],
   "source": [
    "print(f'representação do Olá: {embedded_sequence[0]}')\n",
    "print(f'representação do mundo: {embedded_sequence[1]}')"
   ]
  },
  {
   "cell_type": "code",
   "execution_count": 8,
   "id": "93f000f5-2ffd-4bea-933a-73b27e33cf2b",
   "metadata": {
    "tags": []
   },
   "outputs": [
    {
     "data": {
      "text/plain": [
       "array([-0.93446875,  0.02520599], dtype=float32)"
      ]
     },
     "execution_count": 8,
     "metadata": {},
     "output_type": "execute_result"
    }
   ],
   "source": [
    "embedded_sequence[:, 0].detach().numpy()"
   ]
  },
  {
   "cell_type": "code",
   "execution_count": 11,
   "id": "c1c38ed9-f25b-4312-b4d7-e6556cd62c0e",
   "metadata": {
    "tags": []
   },
   "outputs": [
    {
     "data": {
      "image/png": "[encoded data removed]",
      "text/plain": [
       "<Figure size 640x480 with 1 Axes>"
      ]
     },
     "metadata": {},
     "output_type": "display_data"
    }
   ],
   "source": [
    "X = embedded_sequence.detach().numpy()\n",
    "plt.scatter(x=X[:, 0], y=X[:, 1], s=100)\n",
    "plt.grid(True, linestyle=':')\n",
    "\n",
    "for i, texto in enumerate(['Olá', 'mundo']):\n",
    "    plt.annotate(texto, (X[i, 0], X[i, 1]), fontsize=12, color='k', ha='right', va='top')\n",
    "plt.show()"
   ]
  },
  {
   "cell_type": "code",
   "execution_count": 27,
   "id": "13bf6cfd-8c28-4ce6-94eb-c3a1eb627932",
   "metadata": {
    "tags": []
   },
   "outputs": [],
   "source": [
    "class PositionalEncoding(nn.Module):\n",
    "\n",
    "    def __init__(self, d_model: int, dropout: float = 0.0, max_len: int = 1):\n",
    "        super().__init__()\n",
    "        self.dropout = nn.Dropout(p=dropout)\n",
    "\n",
    "        position = torch.arange(max_len).unsqueeze(1)\n",
    "        div_term = torch.exp(torch.arange(0, d_model, 2) * (-math.log(10000.0) / d_model))\n",
    "        pe = torch.zeros(max_len, 1, d_model)\n",
    "        pe[:, 0, 0::2] = torch.sin(position * div_term)\n",
    "        pe[:, 0, 1::2] = torch.cos(position * div_term)\n",
    "        self.register_buffer('pe', pe)\n",
    "\n",
    "    def forward(self, x: Tensor) -> Tensor:\n",
    "        \"\"\"\n",
    "        Arguments:\n",
    "            x: Tensor, shape ``[seq_len, batch_size, embedding_dim]``\n",
    "        \"\"\"\n",
    "        x = x + self.pe[:x.size(0)]\n",
    "        return self.dropout(x)"
   ]
  },
  {
   "cell_type": "code",
   "execution_count": 32,
   "id": "7c16dad0-9522-4305-bb3a-68207c7c89a7",
   "metadata": {
    "tags": []
   },
   "outputs": [],
   "source": [
    "positional_encoding = PositionalEncoding(d_model=2)"
   ]
  },
  {
   "cell_type": "code",
   "execution_count": 33,
   "id": "5c64a3cd-1e6f-4529-857f-27311bf140bd",
   "metadata": {
    "tags": []
   },
   "outputs": [],
   "source": [
    "positional_embedded = positional_encoding(embedded_sequence)"
   ]
  },
  {
   "cell_type": "code",
   "execution_count": 34,
   "id": "f399ef71-cc0b-46aa-bfa8-fb2c27f89d50",
   "metadata": {
    "tags": []
   },
   "outputs": [
    {
     "data": {
      "text/plain": [
       "tensor([[-0.9345, -0.6243],\n",
       "        [ 0.0252, -0.3341]], grad_fn=<EmbeddingBackward0>)"
      ]
     },
     "execution_count": 34,
     "metadata": {},
     "output_type": "execute_result"
    }
   ],
   "source": [
    "embedded_sequence"
   ]
  },
  {
   "cell_type": "code",
   "execution_count": 42,
   "id": "3ca01d4e-ad99-4c69-9d30-ff114e1f504b",
   "metadata": {
    "tags": []
   },
   "outputs": [
    {
     "data": {
      "text/plain": [
       "tensor([[-0.9345,  0.3757],\n",
       "        [ 0.0252,  0.6659]])"
      ]
     },
     "execution_count": 42,
     "metadata": {},
     "output_type": "execute_result"
    }
   ],
   "source": [
    "positional_embedded.detach()[0]"
   ]
  },
  {
   "cell_type": "code",
   "execution_count": 44,
   "id": "15022c3c-262c-4033-ba2d-03751c2abfa7",
   "metadata": {
    "tags": []
   },
   "outputs": [
    {
     "data": {
      "image/png": "[encoded data removed]",
      "text/plain": [
       "<Figure size 640x480 with 1 Axes>"
      ]
     },
     "metadata": {},
     "output_type": "display_data"
    }
   ],
   "source": [
    "X = positional_embedded.detach()[0].numpy()\n",
    "plt.scatter(x=X[:, 0], y=X[:, 1], s=100)\n",
    "plt.grid(True, linestyle=':')\n",
    "\n",
    "for i, texto in enumerate(['Olá', 'mundo']):\n",
    "    plt.annotate(texto, (X[i, 0], X[i, 1]), fontsize=12, color='k', ha='right', va='top')\n",
    "plt.show()"
   ]
  },
  {
   "cell_type": "code",
   "execution_count": null,
   "id": "4c7307ad-3394-4541-a932-5e76c35b944f",
   "metadata": {},
   "outputs": [],
   "source": []
  }
 ],
 "metadata": {
  "kernelspec": {
   "display_name": "env_pytorch",
   "language": "python",
   "name": "env_pytorch"
  },
  "language_info": {
   "codemirror_mode": {
    "name": "ipython",
    "version": 3
   },
   "file_extension": ".py",
   "mimetype": "text/x-python",
   "name": "python",
   "nbconvert_exporter": "python",
   "pygments_lexer": "ipython3",
   "version": "3.9.0"
  }
 },
 "nbformat": 4,
 "nbformat_minor": 5
}
