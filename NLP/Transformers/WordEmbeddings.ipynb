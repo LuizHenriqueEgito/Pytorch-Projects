{
 "cells": [
  {
   "cell_type": "markdown",
   "id": "a32daecf-0160-4fd9-b339-ae2e2f1530fc",
   "metadata": {},
   "source": [
    "# Embedding"
   ]
  },
  {
   "cell_type": "code",
   "execution_count": 31,
   "id": "ae41d0c3-86ae-4af7-b314-dffb6113af79",
   "metadata": {
    "tags": []
   },
   "outputs": [],
   "source": [
    "import torch\n",
    "import torch.nn as nn\n",
    "import matplotlib.pyplot as plt"
   ]
  },
  {
   "cell_type": "code",
   "execution_count": 14,
   "id": "9f8ba022-8961-48bf-97ee-95ce54738a50",
   "metadata": {
    "tags": []
   },
   "outputs": [],
   "source": [
    "texto = 'Olá mundo'\n",
    "texto_tokenized = texto.split()"
   ]
  },
  {
   "cell_type": "code",
   "execution_count": 16,
   "id": "dc245072-ed59-48be-af4b-26f3ba75fd10",
   "metadata": {
    "tags": []
   },
   "outputs": [],
   "source": [
    "texto_tokenized = [i for i, v in enumerate(texto_tokenized)]"
   ]
  },
  {
   "cell_type": "code",
   "execution_count": 17,
   "id": "5d018be4-3901-4892-a93e-4a35c1fa8aa8",
   "metadata": {
    "tags": []
   },
   "outputs": [
    {
     "data": {
      "text/plain": [
       "[0, 1]"
      ]
     },
     "execution_count": 17,
     "metadata": {},
     "output_type": "execute_result"
    }
   ],
   "source": [
    "texto_tokenized"
   ]
  },
  {
   "cell_type": "markdown",
   "id": "dfb49656-8715-418a-844b-9be8bf0dd40c",
   "metadata": {},
   "source": [
    "Esses números não significam quase nada, foi só uma maneira de separar as palavras agora usaremos `Word Embedding` para criar representações vetoriais dos nossos textos.  \n",
    "Para mais informações [clique aqui](https://www.youtube.com/watch?v=viZrOnJclY0&t=24s) e veja a aula do Statquest."
   ]
  },
  {
   "cell_type": "code",
   "execution_count": 19,
   "id": "11847045-70cf-4c66-8985-7c0275ceeba9",
   "metadata": {
    "tags": []
   },
   "outputs": [],
   "source": [
    "vocab_size = 2\n",
    "embedding_dim = 2"
   ]
  },
  {
   "cell_type": "code",
   "execution_count": 23,
   "id": "4ea82323-df4c-40ed-8d88-3e1e8966a28f",
   "metadata": {
    "tags": []
   },
   "outputs": [
    {
     "data": {
      "text/plain": [
       "Embedding(2, 2)"
      ]
     },
     "execution_count": 23,
     "metadata": {},
     "output_type": "execute_result"
    }
   ],
   "source": [
    "embedding_layer = nn.Embedding(vocab_size, embedding_dim)\n",
    "embedding_layer"
   ]
  },
  {
   "cell_type": "code",
   "execution_count": 26,
   "id": "c4680c86-1eac-4680-85e0-d1468aa8e029",
   "metadata": {
    "tags": []
   },
   "outputs": [],
   "source": [
    "texto_tokenized = torch.tensor(texto_tokenized)\n",
    "embedded_sequence = embedding_layer(texto_tokenized)"
   ]
  },
  {
   "cell_type": "code",
   "execution_count": 30,
   "id": "e54d0c66-4242-4c05-bb8e-e098db9ce117",
   "metadata": {
    "tags": []
   },
   "outputs": [
    {
     "name": "stdout",
     "output_type": "stream",
     "text": [
      "representação do Olá: tensor([-0.3090, -1.5534], grad_fn=<SelectBackward0>)\n",
      "representação do mundo: tensor([-0.5481, -0.3111], grad_fn=<SelectBackward0>)\n"
     ]
    }
   ],
   "source": [
    "print(f'representação do Olá: {embedded_sequence[0]}')\n",
    "print(f'representação do mundo: {embedded_sequence[1]}')"
   ]
  },
  {
   "cell_type": "code",
   "execution_count": 36,
   "id": "156a19d4-dcdd-4da3-a59c-2702e70624e3",
   "metadata": {
    "tags": []
   },
   "outputs": [
    {
     "data": {
      "text/plain": [
       "array([-0.30902165, -0.5481234 ], dtype=float32)"
      ]
     },
     "execution_count": 36,
     "metadata": {},
     "output_type": "execute_result"
    }
   ],
   "source": [
    "embedded_sequence[:, 0].detach().numpy()"
   ]
  },
  {
   "cell_type": "code",
   "execution_count": 57,
   "id": "eb622cbf-af16-4677-affc-7679c2423efc",
   "metadata": {
    "tags": []
   },
   "outputs": [],
   "source": [
    "X = embedded_sequence.detach().numpy()\n",
    "Y = embedded_sequence[:, 1].detach().numpy()"
   ]
  },
  {
   "cell_type": "code",
   "execution_count": 77,
   "id": "c3e8afbd-af4b-4f18-83cc-b9532266e71c",
   "metadata": {
    "tags": []
   },
   "outputs": [
    {
     "data": {
      "image/png": "[encoded data removed]",
      "text/plain": [
       "<Figure size 640x480 with 1 Axes>"
      ]
     },
     "metadata": {},
     "output_type": "display_data"
    }
   ],
   "source": [
    "plt.scatter(x=X[:, 0], y=X[:, 1], s=100)\n",
    "plt.grid(True, linestyle=':')\n",
    "plt.xlim(-0.60, -.25)\n",
    "plt.ylim(-1.7, -.2)\n",
    "for i, texto in enumerate(['Olá', 'mundo']):\n",
    "    plt.annotate(texto, (X[i, 0], X[i, 1]), fontsize=12, color='k', ha='right', va='top')\n",
    "plt.show()"
   ]
  },
  {
   "cell_type": "markdown",
   "id": "4665360c-3f9c-4e4c-938a-0ec72ad27b77",
   "metadata": {},
   "source": [
    "### Explicação resumida:\n",
    "O Word Embedding pega sua palavra \"token\" e coloca ele em um espaço vetorial de dimensão `embedding_dim` através do treinamento ele vai colocando palavras que aparecem no mesmo contexto mais próximas umas das outras. Dessa forma se tivessemos um embedding bem treinado palavras como \"olá\" e \"oi\" teriam seus embeddings proximos. Ao inicializar os embeddings são aleatorios e com o passar do tempo e backpropagation ele vai convergindo."
   ]
  },
  {
   "cell_type": "markdown",
   "id": "1dab7bb6-663c-4a2e-93b5-cfd689544544",
   "metadata": {},
   "source": []
  }
 ],
 "metadata": {
  "kernelspec": {
   "display_name": "env_pytorch",
   "language": "python",
   "name": "env_pytorch"
  },
  "language_info": {
   "codemirror_mode": {
    "name": "ipython",
    "version": 3
   },
   "file_extension": ".py",
   "mimetype": "text/x-python",
   "name": "python",
   "nbconvert_exporter": "python",
   "pygments_lexer": "ipython3",
   "version": "3.9.0"
  }
 },
 "nbformat": 4,
 "nbformat_minor": 5
}
