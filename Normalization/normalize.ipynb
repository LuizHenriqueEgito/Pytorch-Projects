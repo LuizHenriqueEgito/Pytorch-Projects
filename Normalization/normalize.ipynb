{
 "cells": [
  {
   "cell_type": "code",
   "execution_count": 1,
   "id": "22682723-1576-438a-ab0f-41776d3cb74e",
   "metadata": {
    "tags": []
   },
   "outputs": [],
   "source": [
    "import torch"
   ]
  },
  {
   "cell_type": "code",
   "execution_count": 2,
   "id": "c91b0d6d-07bd-485e-b6f2-c62f2ca8ed7b",
   "metadata": {
    "tags": []
   },
   "outputs": [
    {
     "name": "stdout",
     "output_type": "stream",
     "text": [
      "tensor([[ 2.4254e-01,  9.9820e-01,  9.9505e-01],\n",
      "        [ 8.5049e-04,  5.9892e-02,  9.9505e-04],\n",
      "        [ 9.7014e-01,  0.0000e+00, -9.9405e-02]])\n"
     ]
    }
   ],
   "source": [
    "input_matrix = torch.tensor([\n",
    "    [200, 10000, 10000],\n",
    "    [0.70133615, 600, 10],\n",
    "    [800, 0, -999]\n",
    "])\n",
    "\n",
    "# Normalização ao longo da dimensão 0 (colunas)\n",
    "normalized_matrix = torch.nn.functional.normalize(input_matrix, dim=0)\n",
    "\n",
    "print(normalized_matrix)"
   ]
  },
  {
   "cell_type": "code",
   "execution_count": 3,
   "id": "9121fd28-8d38-4c99-ae8a-63c02bd2f2ba",
   "metadata": {
    "tags": []
   },
   "outputs": [
    {
     "name": "stdout",
     "output_type": "stream",
     "text": [
      "tensor([[ 0.0141,  0.7070,  0.7070],\n",
      "        [ 0.0012,  0.9999,  0.0167],\n",
      "        [ 0.6251,  0.0000, -0.7806]])\n"
     ]
    }
   ],
   "source": [
    "# Normalização ao longo da dimensão 1 (linhas)\n",
    "normalized_matrix = torch.nn.functional.normalize(input_matrix, dim=1)\n",
    "\n",
    "print(normalized_matrix)"
   ]
  },
  {
   "cell_type": "code",
   "execution_count": null,
   "id": "ef23e000-57b1-4622-8d8a-4059d9dbce56",
   "metadata": {},
   "outputs": [],
   "source": []
  }
 ],
 "metadata": {
  "kernelspec": {
   "display_name": "env_pytorch",
   "language": "python",
   "name": "env_pytorch"
  },
  "language_info": {
   "codemirror_mode": {
    "name": "ipython",
    "version": 3
   },
   "file_extension": ".py",
   "mimetype": "text/x-python",
   "name": "python",
   "nbconvert_exporter": "python",
   "pygments_lexer": "ipython3",
   "version": "3.9.0"
  }
 },
 "nbformat": 4,
 "nbformat_minor": 5
}
