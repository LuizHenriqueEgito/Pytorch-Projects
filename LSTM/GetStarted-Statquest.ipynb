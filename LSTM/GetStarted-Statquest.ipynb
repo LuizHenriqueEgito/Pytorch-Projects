{
 "cells": [
  {
   "cell_type": "code",
   "execution_count": 1,
   "id": "9daddfc4-17e1-4819-9639-21ffd25030c3",
   "metadata": {
    "tags": []
   },
   "outputs": [],
   "source": [
    "import torch\n",
    "import torch.nn as nn\n",
    "import torch.nn.functional as F\n",
    "\n",
    "from torch.optim import Adam\n",
    "from torch.utils.data import TensorDataset, DataLoader"
   ]
  },
  {
   "cell_type": "code",
   "execution_count": 2,
   "id": "4f04a5e4-0be5-4c8a-9235-c06d768b08ef",
   "metadata": {
    "tags": []
   },
   "outputs": [],
   "source": [
    "inputs = torch.tensor([[0., 0.5, 0.25, 1.], [1., 0.5, 0.25, 1.]])\n",
    "labels = torch.tensor([0., 1.])"
   ]
  },
  {
   "cell_type": "code",
   "execution_count": 3,
   "id": "054671d4-aef0-4435-95f8-b36f23f77fa9",
   "metadata": {
    "tags": []
   },
   "outputs": [
    {
     "data": {
      "text/plain": [
       "tensor([[0.0000, 0.5000, 0.2500, 1.0000],\n",
       "        [1.0000, 0.5000, 0.2500, 1.0000]])"
      ]
     },
     "execution_count": 3,
     "metadata": {},
     "output_type": "execute_result"
    }
   ],
   "source": [
    "inputs"
   ]
  },
  {
   "cell_type": "code",
   "execution_count": 4,
   "id": "31c035fa-19a9-4fa2-a885-0ada46fe4d76",
   "metadata": {
    "tags": []
   },
   "outputs": [
    {
     "data": {
      "text/plain": [
       "torch.Size([2, 4])"
      ]
     },
     "execution_count": 4,
     "metadata": {},
     "output_type": "execute_result"
    }
   ],
   "source": [
    "inputs.shape"
   ]
  },
  {
   "cell_type": "code",
   "execution_count": 4,
   "id": "a083e427-902c-4c47-83a7-1a65bf6a2e63",
   "metadata": {
    "tags": []
   },
   "outputs": [
    {
     "data": {
      "text/plain": [
       "tensor([0., 1.])"
      ]
     },
     "execution_count": 4,
     "metadata": {},
     "output_type": "execute_result"
    }
   ],
   "source": [
    "labels"
   ]
  },
  {
   "cell_type": "code",
   "execution_count": 5,
   "id": "28bcd6ac-f476-49c9-8179-4f7eb481a2ba",
   "metadata": {
    "tags": []
   },
   "outputs": [],
   "source": [
    "dataset = TensorDataset(inputs, labels)"
   ]
  },
  {
   "cell_type": "code",
   "execution_count": 6,
   "id": "b7abfba1-f9e5-4aab-827b-d50da3d16cf7",
   "metadata": {
    "tags": []
   },
   "outputs": [],
   "source": [
    "dataloader = DataLoader(dataset)"
   ]
  },
  {
   "cell_type": "code",
   "execution_count": 7,
   "id": "6d42cf2a-ba89-46fe-9acb-cfbddfce80dc",
   "metadata": {
    "tags": []
   },
   "outputs": [
    {
     "data": {
      "text/plain": [
       "torch.Size([4])"
      ]
     },
     "execution_count": 7,
     "metadata": {},
     "output_type": "execute_result"
    }
   ],
   "source": [
    "inputs[0].shape"
   ]
  },
  {
   "cell_type": "code",
   "execution_count": 8,
   "id": "6b55015f-48f2-4249-845a-70badcd029db",
   "metadata": {
    "tags": []
   },
   "outputs": [
    {
     "data": {
      "text/plain": [
       "torch.Size([4, 1])"
      ]
     },
     "execution_count": 8,
     "metadata": {},
     "output_type": "execute_result"
    }
   ],
   "source": [
    "inputs[0].view(len(inputs[0]), 1).shape  # o 1 ao final especifica o numero de colunas como temos 1 linha queremos 1 coluna"
   ]
  },
  {
   "cell_type": "code",
   "execution_count": 9,
   "id": "87a8edaf-8df0-4b0f-9145-5b862e6ec8d0",
   "metadata": {
    "tags": []
   },
   "outputs": [],
   "source": [
    "# input_size: numero de recursos ou variaveis que temos nos dados de treinamento temos apenas 1\n",
    "# hidden_size: numero de valores de saída que desejamos, aqui o tamanho do hidden entra como input de uma linear\n",
    "\n",
    "class LSTMStatQuest(nn.Module):\n",
    "    def __init__(self):\n",
    "        super().__init__()\n",
    "        self.lstm = nn.LSTM(input_size=1, hidden_size=1)\n",
    "        \n",
    "    def forward(self, x):\n",
    "        input_trans = x.view(len(x), 1)  # uma linha vira uma coluna\n",
    "        lstm_out, temp = self.lstm(input_trans)  # lstm_out: contém os valores de curto prazo de cada unidade lstm que desenrolamos isso significa 4 pq precisamos desenrolar o lstm 4x \n",
    "# para cada um dos 4 valores de entrada\n",
    "        prediction = lstm_out[-1]  # por conta disso extraimos o valor da ultima unidade LSTM \n",
    "        return prediction"
   ]
  },
  {
   "cell_type": "code",
   "execution_count": 10,
   "id": "f610e08d-acad-4b95-889e-b4328039dec0",
   "metadata": {
    "tags": []
   },
   "outputs": [],
   "source": [
    "model = LSTMStatQuest()"
   ]
  },
  {
   "cell_type": "code",
   "execution_count": 11,
   "id": "92fa3a8c-cf08-4296-a865-21197809633f",
   "metadata": {
    "tags": []
   },
   "outputs": [],
   "source": [
    "optimizer = torch.optim.Adam(model.parameters(), lr=0.1)\n",
    "criterion = torch.nn.MSELoss()"
   ]
  },
  {
   "cell_type": "code",
   "execution_count": 12,
   "id": "4311fdd0-6586-4ceb-8031-6c71080181aa",
   "metadata": {
    "tags": []
   },
   "outputs": [
    {
     "data": {
      "text/plain": [
       "4"
      ]
     },
     "execution_count": 12,
     "metadata": {},
     "output_type": "execute_result"
    }
   ],
   "source": [
    "len(inputs[0])"
   ]
  },
  {
   "cell_type": "code",
   "execution_count": 13,
   "id": "f6ba0c32-637a-4bd8-8d9d-95f4fd93df7d",
   "metadata": {
    "tags": []
   },
   "outputs": [
    {
     "name": "stdout",
     "output_type": "stream",
     "text": [
      "Company A: Observed = 0, Predicted = tensor([0.1786])\n",
      "Company B: Observed = 1, Predicted = tensor([0.1740])\n"
     ]
    }
   ],
   "source": [
    "# Before train:\n",
    "# exemplo quando 0:\n",
    "with torch.no_grad():\n",
    "    pred_0 = model(inputs[0]) \n",
    "print(f\"Company A: Observed = 0, Predicted = {pred_0}\")\n",
    "# exemplo quando 1:\n",
    "with torch.no_grad():\n",
    "    pred_1 = model(inputs[1])\n",
    "print(f\"Company B: Observed = 1, Predicted = {pred_1}\")"
   ]
  },
  {
   "cell_type": "code",
   "execution_count": 14,
   "id": "6960fcc6-351b-4cf0-b362-e86f835d94a8",
   "metadata": {
    "tags": []
   },
   "outputs": [],
   "source": [
    "EPOCHS = 300\n",
    "loss_history = []"
   ]
  },
  {
   "cell_type": "code",
   "execution_count": 15,
   "id": "1e020430-8d88-487e-9a8e-1748538465a5",
   "metadata": {
    "tags": []
   },
   "outputs": [
    {
     "name": "stdout",
     "output_type": "stream",
     "text": [
      "Época [10/300] - Loss: 0.2621\n",
      "Época [20/300] - Loss: 0.2530\n",
      "Época [30/300] - Loss: 0.2521\n",
      "Época [40/300] - Loss: 0.2524\n",
      "Época [50/300] - Loss: 0.2520\n",
      "Época [60/300] - Loss: 0.2521\n",
      "Época [70/300] - Loss: 0.2520\n",
      "Época [80/300] - Loss: 0.2519\n",
      "Época [90/300] - Loss: 0.2518\n",
      "Época [100/300] - Loss: 0.2516\n",
      "Época [110/300] - Loss: 0.2515\n",
      "Época [120/300] - Loss: 0.2512\n",
      "Época [130/300] - Loss: 0.2508\n",
      "Época [140/300] - Loss: 0.2501\n",
      "Época [150/300] - Loss: 0.2484\n",
      "Época [160/300] - Loss: 0.2437\n",
      "Época [170/300] - Loss: 0.2307\n",
      "Época [180/300] - Loss: 0.2060\n",
      "Época [190/300] - Loss: 0.1765\n",
      "Época [200/300] - Loss: 0.1488\n",
      "Época [210/300] - Loss: 0.1255\n",
      "Época [220/300] - Loss: 0.1071\n",
      "Época [230/300] - Loss: 0.0931\n",
      "Época [240/300] - Loss: 0.0823\n",
      "Época [250/300] - Loss: 0.0740\n",
      "Época [260/300] - Loss: 0.0674\n",
      "Época [270/300] - Loss: 0.0620\n",
      "Época [280/300] - Loss: 0.0576\n",
      "Época [290/300] - Loss: 0.0538\n",
      "Época [300/300] - Loss: 0.0506\n"
     ]
    }
   ],
   "source": [
    "optimizer.zero_grad(set_to_none=True)\n",
    "for epoch in range(EPOCHS):\n",
    "    epoch_loss = 0.0  # Inicializa a loss para a época atual\n",
    "\n",
    "    for features, labels in dataloader:\n",
    "        # remove a dimensão adicional\n",
    "        features = features.squeeze()\n",
    "\n",
    "        # zera os gradientes:\n",
    "        optimizer.zero_grad()\n",
    "        \n",
    "        # predict do modelo:\n",
    "        outputs = model(features)\n",
    "        \n",
    "        # calcula a loss:\n",
    "        loss = criterion(outputs, labels)\n",
    "        \n",
    "        # backpropagation\n",
    "        loss.backward()\n",
    "        \n",
    "        # updates weights and biases\n",
    "        optimizer.step()\n",
    "\n",
    "        epoch_loss += loss.item()\n",
    "\n",
    "    epoch_loss /= len(dataloader)\n",
    "    loss_history.append(epoch_loss)\n",
    "    if (epoch + 1) % 10 == 0: \n",
    "        print(f'Época [{epoch + 1}/{EPOCHS}] - Loss: {epoch_loss:.4f}')"
   ]
  },
  {
   "cell_type": "code",
   "execution_count": 16,
   "id": "a8fd000d-76e8-4989-8eb4-fa558d4ebacf",
   "metadata": {
    "tags": []
   },
   "outputs": [
    {
     "name": "stdout",
     "output_type": "stream",
     "text": [
      "Company A: Observed = 0, Predicted = 0.0\n",
      "Company B: Observed = 1, Predicted = 1.0\n"
     ]
    }
   ],
   "source": [
    "# After train:\n",
    "# exemplo quando 0:\n",
    "with torch.no_grad():\n",
    "    pred_0 = model(inputs[0])\n",
    "pred_0 = torch.round(pred_0).item()\n",
    "print(f\"Company A: Observed = 0, Predicted = {pred_0}\")\n",
    "# exemplo quando 1:\n",
    "with torch.no_grad():\n",
    "    pred_1 = model(inputs[1])\n",
    "pred_1 = torch.round(pred_1).item()\n",
    "print(f\"Company B: Observed = 1, Predicted = {pred_1}\")"
   ]
  },
  {
   "cell_type": "code",
   "execution_count": null,
   "id": "4da4fa45-19a3-4b06-8543-1e1b9e0f302d",
   "metadata": {},
   "outputs": [],
   "source": []
  }
 ],
 "metadata": {
  "kernelspec": {
   "display_name": "env_pytorch",
   "language": "python",
   "name": "env_pytorch"
  },
  "language_info": {
   "codemirror_mode": {
    "name": "ipython",
    "version": 3
   },
   "file_extension": ".py",
   "mimetype": "text/x-python",
   "name": "python",
   "nbconvert_exporter": "python",
   "pygments_lexer": "ipython3",
   "version": "3.9.0"
  }
 },
 "nbformat": 4,
 "nbformat_minor": 5
}
