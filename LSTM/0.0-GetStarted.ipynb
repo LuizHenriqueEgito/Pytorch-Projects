{
 "cells": [
  {
   "cell_type": "code",
   "execution_count": 1,
   "id": "06f7fee5-447c-4335-a071-0b4a99344fde",
   "metadata": {
    "tags": []
   },
   "outputs": [],
   "source": [
    "import pandas as pd\n",
    "import numpy as np\n",
    "import matplotlib.pyplot as plt\n",
    "from copy import deepcopy as dc"
   ]
  },
  {
   "cell_type": "code",
   "execution_count": 2,
   "id": "22053f7c-1c9b-4738-af93-c11176948b4d",
   "metadata": {
    "tags": []
   },
   "outputs": [],
   "source": [
    "import torch\n",
    "import torch.nn as nn\n",
    "from torch.utils.data import Dataset"
   ]
  },
  {
   "cell_type": "code",
   "execution_count": 3,
   "id": "e885539e-45f2-4524-8dec-ddc8dc1d07bd",
   "metadata": {
    "tags": []
   },
   "outputs": [],
   "source": [
    "df = pd.read_csv('data/GSPC.csv')"
   ]
  },
  {
   "cell_type": "code",
   "execution_count": 4,
   "id": "b805a6c1-577f-4147-8c05-42a898e0af7c",
   "metadata": {
    "tags": []
   },
   "outputs": [
    {
     "data": {
      "text/html": [
       "<div>\n",
       "<style scoped>\n",
       "    .dataframe tbody tr th:only-of-type {\n",
       "        vertical-align: middle;\n",
       "    }\n",
       "\n",
       "    .dataframe tbody tr th {\n",
       "        vertical-align: top;\n",
       "    }\n",
       "\n",
       "    .dataframe thead th {\n",
       "        text-align: right;\n",
       "    }\n",
       "</style>\n",
       "<table border=\"1\" class=\"dataframe\">\n",
       "  <thead>\n",
       "    <tr style=\"text-align: right;\">\n",
       "      <th></th>\n",
       "      <th>Date</th>\n",
       "      <th>Close</th>\n",
       "    </tr>\n",
       "  </thead>\n",
       "  <tbody>\n",
       "    <tr>\n",
       "      <th>0</th>\n",
       "      <td>1950-01-03</td>\n",
       "      <td>16.66</td>\n",
       "    </tr>\n",
       "    <tr>\n",
       "      <th>1</th>\n",
       "      <td>1950-01-04</td>\n",
       "      <td>16.85</td>\n",
       "    </tr>\n",
       "    <tr>\n",
       "      <th>2</th>\n",
       "      <td>1950-01-05</td>\n",
       "      <td>16.93</td>\n",
       "    </tr>\n",
       "    <tr>\n",
       "      <th>3</th>\n",
       "      <td>1950-01-06</td>\n",
       "      <td>16.98</td>\n",
       "    </tr>\n",
       "    <tr>\n",
       "      <th>4</th>\n",
       "      <td>1950-01-09</td>\n",
       "      <td>17.08</td>\n",
       "    </tr>\n",
       "  </tbody>\n",
       "</table>\n",
       "</div>"
      ],
      "text/plain": [
       "         Date  Close\n",
       "0  1950-01-03  16.66\n",
       "1  1950-01-04  16.85\n",
       "2  1950-01-05  16.93\n",
       "3  1950-01-06  16.98\n",
       "4  1950-01-09  17.08"
      ]
     },
     "execution_count": 4,
     "metadata": {},
     "output_type": "execute_result"
    }
   ],
   "source": [
    "data = df[['Date', 'Close']]\n",
    "data.head()"
   ]
  },
  {
   "cell_type": "code",
   "execution_count": 5,
   "id": "aeeb4759-cd2e-4d24-b12d-dfb2df76092e",
   "metadata": {},
   "outputs": [
    {
     "data": {
      "text/plain": [
       "'cuda'"
      ]
     },
     "execution_count": 5,
     "metadata": {},
     "output_type": "execute_result"
    }
   ],
   "source": [
    "device = 'cuda' if torch.cuda.is_available() else 'cpu'\n",
    "device"
   ]
  },
  {
   "cell_type": "code",
   "execution_count": 6,
   "id": "4173bc66-59f9-42fa-b1e2-bc83e3cddd37",
   "metadata": {
    "tags": []
   },
   "outputs": [
    {
     "name": "stderr",
     "output_type": "stream",
     "text": [
      "C:\\Users\\luiz_\\AppData\\Local\\Temp\\ipykernel_25952\\459208422.py:1: SettingWithCopyWarning: \n",
      "A value is trying to be set on a copy of a slice from a DataFrame.\n",
      "Try using .loc[row_indexer,col_indexer] = value instead\n",
      "\n",
      "See the caveats in the documentation: https://pandas.pydata.org/pandas-docs/stable/user_guide/indexing.html#returning-a-view-versus-a-copy\n",
      "  data['Date'] = pd.to_datetime(data['Date'])\n"
     ]
    },
    {
     "data": {
      "image/png": "[encoded data removed]",
      "text/plain": [
       "<Figure size 640x480 with 1 Axes>"
      ]
     },
     "metadata": {},
     "output_type": "display_data"
    }
   ],
   "source": [
    "data['Date'] = pd.to_datetime(data['Date'])\n",
    "\n",
    "plt.plot(data.loc[:, 'Date'], data.loc[:, 'Close']);"
   ]
  },
  {
   "cell_type": "code",
   "execution_count": 7,
   "id": "ec2e618a-3a42-4bd7-b457-3aac42cf721e",
   "metadata": {
    "tags": []
   },
   "outputs": [
    {
     "data": {
      "text/html": [
       "<div>\n",
       "<style scoped>\n",
       "    .dataframe tbody tr th:only-of-type {\n",
       "        vertical-align: middle;\n",
       "    }\n",
       "\n",
       "    .dataframe tbody tr th {\n",
       "        vertical-align: top;\n",
       "    }\n",
       "\n",
       "    .dataframe thead th {\n",
       "        text-align: right;\n",
       "    }\n",
       "</style>\n",
       "<table border=\"1\" class=\"dataframe\">\n",
       "  <thead>\n",
       "    <tr style=\"text-align: right;\">\n",
       "      <th></th>\n",
       "      <th>Close</th>\n",
       "      <th>Close(t-1)</th>\n",
       "      <th>Close(t-2)</th>\n",
       "      <th>Close(t-3)</th>\n",
       "      <th>Close(t-4)</th>\n",
       "      <th>Close(t-5)</th>\n",
       "      <th>Close(t-6)</th>\n",
       "      <th>Close(t-7)</th>\n",
       "    </tr>\n",
       "    <tr>\n",
       "      <th>Date</th>\n",
       "      <th></th>\n",
       "      <th></th>\n",
       "      <th></th>\n",
       "      <th></th>\n",
       "      <th></th>\n",
       "      <th></th>\n",
       "      <th></th>\n",
       "      <th></th>\n",
       "    </tr>\n",
       "  </thead>\n",
       "  <tbody>\n",
       "    <tr>\n",
       "      <th>1950-01-12</th>\n",
       "      <td>16.760000</td>\n",
       "      <td>17.090000</td>\n",
       "      <td>17.030001</td>\n",
       "      <td>17.080000</td>\n",
       "      <td>16.980000</td>\n",
       "      <td>16.930000</td>\n",
       "      <td>16.850000</td>\n",
       "      <td>16.66</td>\n",
       "    </tr>\n",
       "    <tr>\n",
       "      <th>1950-01-13</th>\n",
       "      <td>16.670000</td>\n",
       "      <td>16.760000</td>\n",
       "      <td>17.090000</td>\n",
       "      <td>17.030001</td>\n",
       "      <td>17.080000</td>\n",
       "      <td>16.980000</td>\n",
       "      <td>16.930000</td>\n",
       "      <td>16.85</td>\n",
       "    </tr>\n",
       "    <tr>\n",
       "      <th>1950-01-16</th>\n",
       "      <td>16.719999</td>\n",
       "      <td>16.670000</td>\n",
       "      <td>16.760000</td>\n",
       "      <td>17.090000</td>\n",
       "      <td>17.030001</td>\n",
       "      <td>17.080000</td>\n",
       "      <td>16.980000</td>\n",
       "      <td>16.93</td>\n",
       "    </tr>\n",
       "    <tr>\n",
       "      <th>1950-01-17</th>\n",
       "      <td>16.860001</td>\n",
       "      <td>16.719999</td>\n",
       "      <td>16.670000</td>\n",
       "      <td>16.760000</td>\n",
       "      <td>17.090000</td>\n",
       "      <td>17.030001</td>\n",
       "      <td>17.080000</td>\n",
       "      <td>16.98</td>\n",
       "    </tr>\n",
       "    <tr>\n",
       "      <th>1950-01-18</th>\n",
       "      <td>16.850000</td>\n",
       "      <td>16.860001</td>\n",
       "      <td>16.719999</td>\n",
       "      <td>16.670000</td>\n",
       "      <td>16.760000</td>\n",
       "      <td>17.090000</td>\n",
       "      <td>17.030001</td>\n",
       "      <td>17.08</td>\n",
       "    </tr>\n",
       "  </tbody>\n",
       "</table>\n",
       "</div>"
      ],
      "text/plain": [
       "                Close  Close(t-1)  Close(t-2)  Close(t-3)  Close(t-4)  \\\n",
       "Date                                                                    \n",
       "1950-01-12  16.760000   17.090000   17.030001   17.080000   16.980000   \n",
       "1950-01-13  16.670000   16.760000   17.090000   17.030001   17.080000   \n",
       "1950-01-16  16.719999   16.670000   16.760000   17.090000   17.030001   \n",
       "1950-01-17  16.860001   16.719999   16.670000   16.760000   17.090000   \n",
       "1950-01-18  16.850000   16.860001   16.719999   16.670000   16.760000   \n",
       "\n",
       "            Close(t-5)  Close(t-6)  Close(t-7)  \n",
       "Date                                            \n",
       "1950-01-12   16.930000   16.850000       16.66  \n",
       "1950-01-13   16.980000   16.930000       16.85  \n",
       "1950-01-16   17.080000   16.980000       16.93  \n",
       "1950-01-17   17.030001   17.080000       16.98  \n",
       "1950-01-18   17.090000   17.030001       17.08  "
      ]
     },
     "execution_count": 7,
     "metadata": {},
     "output_type": "execute_result"
    }
   ],
   "source": [
    "def prepare_dataframe_for_lstm(df, n_steps):\n",
    "    df = dc(df)\n",
    "    \n",
    "    df.set_index('Date', inplace=True)\n",
    "    \n",
    "    for i in range(1, n_steps+1):\n",
    "        df[f'Close(t-{i})'] = df['Close'].shift(i)\n",
    "        \n",
    "    df.dropna(inplace=True)\n",
    "    \n",
    "    return df\n",
    "\n",
    "lookback = 7\n",
    "shifted_df = prepare_dataframe_for_lstm(data, lookback)\n",
    "shifted_df.head()"
   ]
  },
  {
   "cell_type": "code",
   "execution_count": 8,
   "id": "644ed243-2328-4d68-b351-f1cf87dcdf74",
   "metadata": {
    "tags": []
   },
   "outputs": [
    {
     "data": {
      "text/plain": [
       "array([[  16.76    ,   17.09    ,   17.030001, ...,   16.93    ,\n",
       "          16.85    ,   16.66    ],\n",
       "       [  16.67    ,   16.76    ,   17.09    , ...,   16.98    ,\n",
       "          16.93    ,   16.85    ],\n",
       "       [  16.719999,   16.67    ,   16.76    , ...,   17.08    ,\n",
       "          16.98    ,   16.93    ],\n",
       "       ...,\n",
       "       [2746.870117, 2734.620117, 2705.27002 , ..., 2721.330078,\n",
       "        2727.76001 , 2733.290039],\n",
       "       [2748.800049, 2746.870117, 2734.620117, ..., 2689.860107,\n",
       "        2721.330078, 2727.76001 ],\n",
       "       [2772.350098, 2748.800049, 2746.870117, ..., 2724.01001 ,\n",
       "        2689.860107, 2721.330078]])"
      ]
     },
     "execution_count": 8,
     "metadata": {},
     "output_type": "execute_result"
    }
   ],
   "source": [
    "shifted_df_as_np = shifted_df.to_numpy()\n",
    "\n",
    "shifted_df_as_np"
   ]
  },
  {
   "cell_type": "code",
   "execution_count": 9,
   "id": "2d1e4c71-0e9a-41a8-8109-c530d86c63d0",
   "metadata": {
    "tags": []
   },
   "outputs": [
    {
     "data": {
      "text/plain": [
       "array([[-0.99993698, -0.9997059 , -0.99974792, ..., -0.99981794,\n",
       "        -0.99987396, -1.        ],\n",
       "       [-1.        , -0.99993698, -0.9997059 , ..., -0.99978293,\n",
       "        -0.99981794, -0.99986696],\n",
       "       [-0.99996499, -1.        , -0.99993698, ..., -0.99971291,\n",
       "        -0.99978293, -0.99981094],\n",
       "       ...,\n",
       "       [ 0.91177089,  0.90319306,  0.88264121, ...,  0.89388696,\n",
       "         0.8983894 ,  0.90226204],\n",
       "       [ 0.91312229,  0.91177089,  0.90319306, ...,  0.87185071,\n",
       "         0.89388696,  0.89838975],\n",
       "       [ 0.92961276,  0.91312229,  0.91177089, ...,  0.89576353,\n",
       "         0.87185071,  0.89388733]])"
      ]
     },
     "execution_count": 9,
     "metadata": {},
     "output_type": "execute_result"
    }
   ],
   "source": [
    "from sklearn.preprocessing import MinMaxScaler\n",
    "\n",
    "scaler = MinMaxScaler(feature_range=(-1, 1))\n",
    "shifted_df_as_np = scaler.fit_transform(shifted_df_as_np)\n",
    "\n",
    "shifted_df_as_np"
   ]
  },
  {
   "cell_type": "code",
   "execution_count": 10,
   "id": "2f9426d9-6dd4-4605-b926-5710ee879efb",
   "metadata": {
    "tags": []
   },
   "outputs": [
    {
     "data": {
      "text/plain": [
       "(17211, 8)"
      ]
     },
     "execution_count": 10,
     "metadata": {},
     "output_type": "execute_result"
    }
   ],
   "source": [
    "shifted_df_as_np.shape"
   ]
  },
  {
   "cell_type": "code",
   "execution_count": 11,
   "id": "56fba4fa-cd9a-4e1a-b65a-8232ed05b764",
   "metadata": {
    "tags": []
   },
   "outputs": [
    {
     "data": {
      "text/plain": [
       "((17211, 7), (17211,))"
      ]
     },
     "execution_count": 11,
     "metadata": {},
     "output_type": "execute_result"
    }
   ],
   "source": [
    "X = shifted_df_as_np[:, 1:]\n",
    "y = shifted_df_as_np[:, 0]\n",
    "\n",
    "X.shape, y.shape"
   ]
  },
  {
   "cell_type": "code",
   "execution_count": 12,
   "id": "e84abda0-cda3-4c87-b43b-5b2fb3aa3824",
   "metadata": {
    "tags": []
   },
   "outputs": [
    {
     "data": {
      "text/plain": [
       "array([[-1.        , -0.99987396, -0.99981794, ..., -0.99971291,\n",
       "        -0.99974792, -0.9997059 ],\n",
       "       [-0.99986696, -0.99981794, -0.99978293, ..., -0.99974792,\n",
       "        -0.9997059 , -0.99993698],\n",
       "       [-0.99981094, -0.99978293, -0.99971291, ..., -0.9997059 ,\n",
       "        -0.99993698, -1.        ],\n",
       "       ...,\n",
       "       [ 0.90226204,  0.8983894 ,  0.89388696, ...,  0.89576353,\n",
       "         0.88264121,  0.90319306],\n",
       "       [ 0.89838975,  0.89388696,  0.87185071, ...,  0.88264121,\n",
       "         0.90319306,  0.91177089],\n",
       "       [ 0.89388733,  0.87185071,  0.89576353, ...,  0.90319306,\n",
       "         0.91177089,  0.91312229]])"
      ]
     },
     "execution_count": 12,
     "metadata": {},
     "output_type": "execute_result"
    }
   ],
   "source": [
    "X = dc(np.flip(X, axis=1))\n",
    "X"
   ]
  },
  {
   "cell_type": "code",
   "execution_count": 13,
   "id": "6a040959-e20b-40c2-bfb3-cf06a47820de",
   "metadata": {
    "tags": []
   },
   "outputs": [
    {
     "data": {
      "text/plain": [
       "15489"
      ]
     },
     "execution_count": 13,
     "metadata": {},
     "output_type": "execute_result"
    }
   ],
   "source": [
    "split_index = int(len(X) * 0.90)\n",
    "\n",
    "split_index"
   ]
  },
  {
   "cell_type": "code",
   "execution_count": 14,
   "id": "e9046a1f-1c01-49c6-a9b9-08068234f870",
   "metadata": {
    "tags": []
   },
   "outputs": [
    {
     "data": {
      "text/plain": [
       "((15489, 7), (1722, 7), (15489,), (1722,))"
      ]
     },
     "execution_count": 14,
     "metadata": {},
     "output_type": "execute_result"
    }
   ],
   "source": [
    "X_train = X[:split_index]\n",
    "X_test = X[split_index:]\n",
    "\n",
    "y_train = y[:split_index]\n",
    "y_test = y[split_index:]\n",
    "\n",
    "X_train.shape, X_test.shape, y_train.shape, y_test.shape"
   ]
  },
  {
   "cell_type": "code",
   "execution_count": 15,
   "id": "18d28af2-33c7-4035-920b-1c946c63126d",
   "metadata": {
    "tags": []
   },
   "outputs": [
    {
     "data": {
      "text/plain": [
       "((15489, 7, 1), (1722, 7, 1), (15489, 1), (1722, 1))"
      ]
     },
     "execution_count": 15,
     "metadata": {},
     "output_type": "execute_result"
    }
   ],
   "source": [
    "X_train = X_train.reshape((-1, lookback, 1))\n",
    "X_test = X_test.reshape((-1, lookback, 1))\n",
    "\n",
    "y_train = y_train.reshape((-1, 1))\n",
    "y_test = y_test.reshape((-1, 1))\n",
    "\n",
    "# Aqui o shape significa: (profundidade: 15489, linhas: 7, colunas: 1)\n",
    "X_train.shape, X_test.shape, y_train.shape, y_test.shape"
   ]
  },
  {
   "cell_type": "code",
   "execution_count": 16,
   "id": "6cb1f40b-e997-498f-a3b7-69fa268b3d3e",
   "metadata": {
    "tags": []
   },
   "outputs": [
    {
     "data": {
      "text/plain": [
       "(torch.Size([15489, 7, 1]),\n",
       " torch.Size([1722, 7, 1]),\n",
       " torch.Size([15489, 1]),\n",
       " torch.Size([1722, 1]))"
      ]
     },
     "execution_count": 16,
     "metadata": {},
     "output_type": "execute_result"
    }
   ],
   "source": [
    "X_train = torch.tensor(X_train).float()\n",
    "y_train = torch.tensor(y_train).float()\n",
    "X_test = torch.tensor(X_test).float()\n",
    "y_test = torch.tensor(y_test).float()\n",
    "\n",
    "X_train.shape, X_test.shape, y_train.shape, y_test.shape"
   ]
  },
  {
   "cell_type": "code",
   "execution_count": 17,
   "id": "029f5d58-09f6-4381-9dad-75105082b869",
   "metadata": {
    "tags": []
   },
   "outputs": [],
   "source": [
    "# Criando o objeto Dataset\n",
    "class TimeSeriesDataset(Dataset):\n",
    "    def __init__(self, X, y):\n",
    "        self.X = X\n",
    "        self.y = y\n",
    "\n",
    "    def __len__(self):\n",
    "        return len(self.X)\n",
    "\n",
    "    def __getitem__(self, i):\n",
    "        return self.X[i], self.y[i]\n",
    "    \n",
    "train_dataset = TimeSeriesDataset(X_train, y_train)\n",
    "test_dataset = TimeSeriesDataset(X_test, y_test)"
   ]
  },
  {
   "cell_type": "code",
   "execution_count": 18,
   "id": "f0a91800-9179-49bd-a490-9da13720d6af",
   "metadata": {
    "tags": []
   },
   "outputs": [],
   "source": [
    "from torch.utils.data import DataLoader\n",
    "\n",
    "batch_size = 4\n",
    "\n",
    "train_loader = DataLoader(train_dataset, batch_size=batch_size, shuffle=True)\n",
    "test_loader = DataLoader(test_dataset, batch_size=batch_size, shuffle=False)"
   ]
  },
  {
   "cell_type": "code",
   "execution_count": 19,
   "id": "ad6cd5e2-b409-474e-9082-970742b0a54b",
   "metadata": {
    "tags": []
   },
   "outputs": [
    {
     "name": "stdout",
     "output_type": "stream",
     "text": [
      "torch.Size([4, 7, 1]) torch.Size([4, 1])\n"
     ]
    }
   ],
   "source": [
    "for _, batch in enumerate(train_loader):\n",
    "    x_batch, y_batch = batch[0].to(device), batch[1].to(device)\n",
    "    print(x_batch.shape, y_batch.shape)\n",
    "    break"
   ]
  },
  {
   "cell_type": "code",
   "execution_count": 20,
   "id": "9e16b2bb-fe1f-448f-866d-4f94c7300645",
   "metadata": {
    "tags": []
   },
   "outputs": [
    {
     "data": {
      "text/plain": [
       "tensor([[-0.9477],\n",
       "        [-0.9465],\n",
       "        [-0.3976],\n",
       "        [-0.9954]], device='cuda:0')"
      ]
     },
     "execution_count": 20,
     "metadata": {},
     "output_type": "execute_result"
    }
   ],
   "source": [
    "y_batch"
   ]
  },
  {
   "cell_type": "code",
   "execution_count": 21,
   "id": "e7f10a4c-4be9-44d6-9e80-94608e82e0b7",
   "metadata": {
    "tags": []
   },
   "outputs": [
    {
     "data": {
      "text/plain": [
       "tensor([[[-0.9484],\n",
       "         [-0.9473],\n",
       "         [-0.9469],\n",
       "         [-0.9465],\n",
       "         [-0.9471],\n",
       "         [-0.9472],\n",
       "         [-0.9470]],\n",
       "\n",
       "        [[-0.9474],\n",
       "         [-0.9471],\n",
       "         [-0.9470],\n",
       "         [-0.9471],\n",
       "         [-0.9471],\n",
       "         [-0.9467],\n",
       "         [-0.9465]],\n",
       "\n",
       "        [[-0.3428],\n",
       "         [-0.3505],\n",
       "         [-0.3425],\n",
       "         [-0.3309],\n",
       "         [-0.3335],\n",
       "         [-0.3460],\n",
       "         [-0.3523]],\n",
       "\n",
       "        [[-0.9950],\n",
       "         [-0.9953],\n",
       "         [-0.9955],\n",
       "         [-0.9955],\n",
       "         [-0.9954],\n",
       "         [-0.9955],\n",
       "         [-0.9954]]], device='cuda:0')"
      ]
     },
     "execution_count": 21,
     "metadata": {},
     "output_type": "execute_result"
    }
   ],
   "source": [
    "x_batch"
   ]
  },
  {
   "cell_type": "code",
   "execution_count": 22,
   "id": "14ce3081-cfb3-4c9a-863d-e5bb9059ba66",
   "metadata": {
    "tags": []
   },
   "outputs": [
    {
     "data": {
      "text/plain": [
       "LSTM(\n",
       "  (lstm): LSTM(1, 4, batch_first=True)\n",
       "  (fc): Linear(in_features=4, out_features=1, bias=True)\n",
       ")"
      ]
     },
     "execution_count": 22,
     "metadata": {},
     "output_type": "execute_result"
    }
   ],
   "source": [
    "class LSTM(nn.Module):\n",
    "    def __init__(self, input_size, hidden_size, num_stacked_layers):\n",
    "        super().__init__()\n",
    "        self.hidden_size = hidden_size\n",
    "        self.num_stacked_layers = num_stacked_layers\n",
    "\n",
    "        self.lstm = nn.LSTM(input_size, hidden_size, num_stacked_layers, \n",
    "                            batch_first=True)\n",
    "        \n",
    "        self.fc = nn.Linear(hidden_size, 1)\n",
    "\n",
    "    def forward(self, x):\n",
    "        batch_size = x.size(0)\n",
    "        h0 = torch.zeros(self.num_stacked_layers, batch_size, self.hidden_size).to(device)\n",
    "        c0 = torch.zeros(self.num_stacked_layers, batch_size, self.hidden_size).to(device)\n",
    "        \n",
    "        out, _ = self.lstm(x, (h0, c0))\n",
    "        out = self.fc(out[:, -1, :])\n",
    "        return out\n",
    "\n",
    "model = LSTM(1, 4, 1)\n",
    "model.to(device)\n",
    "model"
   ]
  },
  {
   "cell_type": "code",
   "execution_count": 23,
   "id": "c01e52fe-d710-456d-b2aa-b337e528a4ea",
   "metadata": {
    "tags": []
   },
   "outputs": [],
   "source": [
    "def train_one_epoch():\n",
    "    model.train(True)\n",
    "    print(f'Epoch: {epoch + 1}')\n",
    "    running_loss = 0.0\n",
    "    \n",
    "    for batch_index, batch in enumerate(train_loader):\n",
    "        x_batch, y_batch = batch[0].to(device), batch[1].to(device)\n",
    "        \n",
    "        output = model(x_batch)\n",
    "        loss = loss_function(output, y_batch)\n",
    "        running_loss += loss.item()\n",
    "        \n",
    "        optimizer.zero_grad()\n",
    "        loss.backward()\n",
    "        optimizer.step()\n",
    "\n",
    "        if batch_index % 100 == 99:  # print every 100 batches\n",
    "            avg_loss_across_batches = running_loss / 100\n",
    "            print('Batch {0}, Loss: {1:.3f}'.format(batch_index+1,\n",
    "                                                    avg_loss_across_batches))\n",
    "            running_loss = 0.0\n",
    "    print()"
   ]
  },
  {
   "cell_type": "code",
   "execution_count": 24,
   "id": "32741751-21f0-467a-b9ea-60956df0e6a3",
   "metadata": {
    "tags": []
   },
   "outputs": [],
   "source": [
    "def validate_one_epoch():\n",
    "    model.train(False)\n",
    "    running_loss = 0.0\n",
    "    \n",
    "    for batch_index, batch in enumerate(test_loader):\n",
    "        x_batch, y_batch = batch[0].to(device), batch[1].to(device)\n",
    "        \n",
    "        with torch.no_grad():\n",
    "            output = model(x_batch)\n",
    "            loss = loss_function(output, y_batch)\n",
    "            running_loss += loss.item()\n",
    "\n",
    "    avg_loss_across_batches = running_loss / len(test_loader)\n",
    "    \n",
    "    print('Val Loss: {0:.3f}'.format(avg_loss_across_batches))\n",
    "    print('***************************************************')\n",
    "    print()"
   ]
  },
  {
   "cell_type": "code",
   "execution_count": 25,
   "id": "70f3fd98-597d-4b83-bcff-0bcc4d860659",
   "metadata": {
    "tags": []
   },
   "outputs": [
    {
     "name": "stdout",
     "output_type": "stream",
     "text": [
      "Epoch: 1\n",
      "Batch 100, Loss: 0.018\n",
      "Batch 200, Loss: 0.001\n",
      "Batch 300, Loss: 0.000\n",
      "Batch 400, Loss: 0.000\n",
      "Batch 500, Loss: 0.000\n",
      "Batch 600, Loss: 0.000\n",
      "Batch 700, Loss: 0.000\n",
      "Batch 800, Loss: 0.000\n",
      "Batch 900, Loss: 0.000\n",
      "Batch 1000, Loss: 0.000\n",
      "Batch 1100, Loss: 0.000\n",
      "Batch 1200, Loss: 0.000\n",
      "Batch 1300, Loss: 0.000\n",
      "Batch 1400, Loss: 0.000\n",
      "Batch 1500, Loss: 0.000\n",
      "Batch 1600, Loss: 0.000\n",
      "Batch 1700, Loss: 0.000\n",
      "Batch 1800, Loss: 0.000\n",
      "Batch 1900, Loss: 0.000\n",
      "Batch 2000, Loss: 0.000\n",
      "Batch 2100, Loss: 0.000\n",
      "Batch 2200, Loss: 0.000\n",
      "Batch 2300, Loss: 0.000\n",
      "Batch 2400, Loss: 0.000\n",
      "Batch 2500, Loss: 0.000\n",
      "Batch 2600, Loss: 0.000\n",
      "Batch 2700, Loss: 0.000\n",
      "Batch 2800, Loss: 0.000\n",
      "Batch 2900, Loss: 0.000\n",
      "Batch 3000, Loss: 0.000\n",
      "Batch 3100, Loss: 0.000\n",
      "Batch 3200, Loss: 0.000\n",
      "Batch 3300, Loss: 0.000\n",
      "Batch 3400, Loss: 0.000\n",
      "Batch 3500, Loss: 0.000\n",
      "Batch 3600, Loss: 0.000\n",
      "Batch 3700, Loss: 0.000\n",
      "Batch 3800, Loss: 0.000\n",
      "\n",
      "Val Loss: 0.018\n",
      "***************************************************\n",
      "\n",
      "Epoch: 2\n",
      "Batch 100, Loss: 0.000\n",
      "Batch 200, Loss: 0.000\n",
      "Batch 300, Loss: 0.000\n",
      "Batch 400, Loss: 0.000\n",
      "Batch 500, Loss: 0.000\n",
      "Batch 600, Loss: 0.000\n",
      "Batch 700, Loss: 0.000\n",
      "Batch 800, Loss: 0.000\n",
      "Batch 900, Loss: 0.000\n",
      "Batch 1000, Loss: 0.000\n",
      "Batch 1100, Loss: 0.000\n",
      "Batch 1200, Loss: 0.000\n",
      "Batch 1300, Loss: 0.000\n",
      "Batch 1400, Loss: 0.000\n",
      "Batch 1500, Loss: 0.000\n",
      "Batch 1600, Loss: 0.000\n",
      "Batch 1700, Loss: 0.000\n",
      "Batch 1800, Loss: 0.000\n",
      "Batch 1900, Loss: 0.000\n",
      "Batch 2000, Loss: 0.000\n",
      "Batch 2100, Loss: 0.000\n",
      "Batch 2200, Loss: 0.000\n",
      "Batch 2300, Loss: 0.000\n",
      "Batch 2400, Loss: 0.000\n",
      "Batch 2500, Loss: 0.000\n",
      "Batch 2600, Loss: 0.000\n",
      "Batch 2700, Loss: 0.000\n",
      "Batch 2800, Loss: 0.000\n",
      "Batch 2900, Loss: 0.000\n",
      "Batch 3000, Loss: 0.000\n",
      "Batch 3100, Loss: 0.000\n",
      "Batch 3200, Loss: 0.000\n",
      "Batch 3300, Loss: 0.000\n",
      "Batch 3400, Loss: 0.000\n",
      "Batch 3500, Loss: 0.000\n",
      "Batch 3600, Loss: 0.000\n",
      "Batch 3700, Loss: 0.000\n",
      "Batch 3800, Loss: 0.000\n",
      "\n",
      "Val Loss: 0.007\n",
      "***************************************************\n",
      "\n",
      "Epoch: 3\n",
      "Batch 100, Loss: 0.000\n",
      "Batch 200, Loss: 0.000\n",
      "Batch 300, Loss: 0.000\n",
      "Batch 400, Loss: 0.000\n",
      "Batch 500, Loss: 0.000\n",
      "Batch 600, Loss: 0.000\n",
      "Batch 700, Loss: 0.000\n",
      "Batch 800, Loss: 0.000\n",
      "Batch 900, Loss: 0.000\n",
      "Batch 1000, Loss: 0.000\n",
      "Batch 1100, Loss: 0.000\n",
      "Batch 1200, Loss: 0.000\n",
      "Batch 1300, Loss: 0.000\n",
      "Batch 1400, Loss: 0.000\n",
      "Batch 1500, Loss: 0.000\n",
      "Batch 1600, Loss: 0.000\n",
      "Batch 1700, Loss: 0.000\n",
      "Batch 1800, Loss: 0.000\n",
      "Batch 1900, Loss: 0.000\n",
      "Batch 2000, Loss: 0.000\n",
      "Batch 2100, Loss: 0.000\n",
      "Batch 2200, Loss: 0.000\n",
      "Batch 2300, Loss: 0.000\n",
      "Batch 2400, Loss: 0.000\n",
      "Batch 2500, Loss: 0.000\n",
      "Batch 2600, Loss: 0.000\n",
      "Batch 2700, Loss: 0.000\n",
      "Batch 2800, Loss: 0.000\n",
      "Batch 2900, Loss: 0.000\n",
      "Batch 3000, Loss: 0.000\n",
      "Batch 3100, Loss: 0.000\n",
      "Batch 3200, Loss: 0.000\n",
      "Batch 3300, Loss: 0.000\n",
      "Batch 3400, Loss: 0.000\n",
      "Batch 3500, Loss: 0.000\n",
      "Batch 3600, Loss: 0.000\n",
      "Batch 3700, Loss: 0.000\n",
      "Batch 3800, Loss: 0.000\n",
      "\n",
      "Val Loss: 0.002\n",
      "***************************************************\n",
      "\n",
      "Epoch: 4\n",
      "Batch 100, Loss: 0.000\n",
      "Batch 200, Loss: 0.000\n",
      "Batch 300, Loss: 0.000\n",
      "Batch 400, Loss: 0.000\n",
      "Batch 500, Loss: 0.000\n",
      "Batch 600, Loss: 0.000\n",
      "Batch 700, Loss: 0.000\n",
      "Batch 800, Loss: 0.000\n",
      "Batch 900, Loss: 0.000\n",
      "Batch 1000, Loss: 0.000\n",
      "Batch 1100, Loss: 0.000\n",
      "Batch 1200, Loss: 0.000\n",
      "Batch 1300, Loss: 0.000\n",
      "Batch 1400, Loss: 0.000\n",
      "Batch 1500, Loss: 0.000\n",
      "Batch 1600, Loss: 0.000\n",
      "Batch 1700, Loss: 0.000\n",
      "Batch 1800, Loss: 0.000\n",
      "Batch 1900, Loss: 0.000\n",
      "Batch 2000, Loss: 0.000\n",
      "Batch 2100, Loss: 0.000\n",
      "Batch 2200, Loss: 0.000\n",
      "Batch 2300, Loss: 0.000\n",
      "Batch 2400, Loss: 0.000\n",
      "Batch 2500, Loss: 0.000\n",
      "Batch 2600, Loss: 0.000\n",
      "Batch 2700, Loss: 0.000\n",
      "Batch 2800, Loss: 0.000\n",
      "Batch 2900, Loss: 0.000\n",
      "Batch 3000, Loss: 0.000\n",
      "Batch 3100, Loss: 0.000\n",
      "Batch 3200, Loss: 0.000\n",
      "Batch 3300, Loss: 0.000\n",
      "Batch 3400, Loss: 0.000\n",
      "Batch 3500, Loss: 0.000\n",
      "Batch 3600, Loss: 0.000\n",
      "Batch 3700, Loss: 0.000\n",
      "Batch 3800, Loss: 0.000\n",
      "\n",
      "Val Loss: 0.005\n",
      "***************************************************\n",
      "\n",
      "Epoch: 5\n",
      "Batch 100, Loss: 0.000\n",
      "Batch 200, Loss: 0.000\n",
      "Batch 300, Loss: 0.000\n",
      "Batch 400, Loss: 0.000\n",
      "Batch 500, Loss: 0.000\n",
      "Batch 600, Loss: 0.000\n",
      "Batch 700, Loss: 0.000\n",
      "Batch 800, Loss: 0.000\n",
      "Batch 900, Loss: 0.000\n",
      "Batch 1000, Loss: 0.000\n",
      "Batch 1100, Loss: 0.000\n",
      "Batch 1200, Loss: 0.000\n",
      "Batch 1300, Loss: 0.000\n",
      "Batch 1400, Loss: 0.000\n",
      "Batch 1500, Loss: 0.000\n",
      "Batch 1600, Loss: 0.000\n",
      "Batch 1700, Loss: 0.000\n",
      "Batch 1800, Loss: 0.000\n",
      "Batch 1900, Loss: 0.000\n",
      "Batch 2000, Loss: 0.000\n",
      "Batch 2100, Loss: 0.000\n",
      "Batch 2200, Loss: 0.000\n",
      "Batch 2300, Loss: 0.000\n",
      "Batch 2400, Loss: 0.000\n",
      "Batch 2500, Loss: 0.000\n",
      "Batch 2600, Loss: 0.000\n",
      "Batch 2700, Loss: 0.000\n",
      "Batch 2800, Loss: 0.000\n",
      "Batch 2900, Loss: 0.000\n",
      "Batch 3000, Loss: 0.000\n",
      "Batch 3100, Loss: 0.000\n",
      "Batch 3200, Loss: 0.000\n",
      "Batch 3300, Loss: 0.000\n",
      "Batch 3400, Loss: 0.000\n",
      "Batch 3500, Loss: 0.000\n",
      "Batch 3600, Loss: 0.000\n",
      "Batch 3700, Loss: 0.000\n",
      "Batch 3800, Loss: 0.000\n",
      "\n",
      "Val Loss: 0.008\n",
      "***************************************************\n",
      "\n",
      "Epoch: 6\n",
      "Batch 100, Loss: 0.000\n",
      "Batch 200, Loss: 0.000\n",
      "Batch 300, Loss: 0.000\n",
      "Batch 400, Loss: 0.000\n",
      "Batch 500, Loss: 0.000\n",
      "Batch 600, Loss: 0.000\n",
      "Batch 700, Loss: 0.000\n",
      "Batch 800, Loss: 0.000\n",
      "Batch 900, Loss: 0.000\n",
      "Batch 1000, Loss: 0.000\n",
      "Batch 1100, Loss: 0.000\n",
      "Batch 1200, Loss: 0.000\n",
      "Batch 1300, Loss: 0.000\n",
      "Batch 1400, Loss: 0.000\n",
      "Batch 1500, Loss: 0.000\n",
      "Batch 1600, Loss: 0.000\n",
      "Batch 1700, Loss: 0.000\n",
      "Batch 1800, Loss: 0.000\n",
      "Batch 1900, Loss: 0.000\n",
      "Batch 2000, Loss: 0.000\n",
      "Batch 2100, Loss: 0.000\n",
      "Batch 2200, Loss: 0.000\n",
      "Batch 2300, Loss: 0.000\n",
      "Batch 2400, Loss: 0.000\n",
      "Batch 2500, Loss: 0.000\n",
      "Batch 2600, Loss: 0.000\n",
      "Batch 2700, Loss: 0.000\n",
      "Batch 2800, Loss: 0.000\n",
      "Batch 2900, Loss: 0.000\n",
      "Batch 3000, Loss: 0.000\n",
      "Batch 3100, Loss: 0.000\n",
      "Batch 3200, Loss: 0.000\n",
      "Batch 3300, Loss: 0.000\n",
      "Batch 3400, Loss: 0.000\n",
      "Batch 3500, Loss: 0.000\n",
      "Batch 3600, Loss: 0.000\n",
      "Batch 3700, Loss: 0.000\n",
      "Batch 3800, Loss: 0.000\n",
      "\n",
      "Val Loss: 0.005\n",
      "***************************************************\n",
      "\n",
      "Epoch: 7\n",
      "Batch 100, Loss: 0.000\n",
      "Batch 200, Loss: 0.000\n",
      "Batch 300, Loss: 0.000\n",
      "Batch 400, Loss: 0.000\n",
      "Batch 500, Loss: 0.000\n",
      "Batch 600, Loss: 0.000\n",
      "Batch 700, Loss: 0.000\n",
      "Batch 800, Loss: 0.000\n",
      "Batch 900, Loss: 0.000\n",
      "Batch 1000, Loss: 0.000\n",
      "Batch 1100, Loss: 0.000\n",
      "Batch 1200, Loss: 0.000\n",
      "Batch 1300, Loss: 0.000\n",
      "Batch 1400, Loss: 0.000\n",
      "Batch 1500, Loss: 0.000\n",
      "Batch 1600, Loss: 0.000\n",
      "Batch 1700, Loss: 0.000\n",
      "Batch 1800, Loss: 0.000\n",
      "Batch 1900, Loss: 0.000\n",
      "Batch 2000, Loss: 0.000\n",
      "Batch 2100, Loss: 0.000\n",
      "Batch 2200, Loss: 0.000\n",
      "Batch 2300, Loss: 0.000\n",
      "Batch 2400, Loss: 0.000\n",
      "Batch 2500, Loss: 0.000\n",
      "Batch 2600, Loss: 0.000\n",
      "Batch 2700, Loss: 0.000\n",
      "Batch 2800, Loss: 0.000\n",
      "Batch 2900, Loss: 0.000\n",
      "Batch 3000, Loss: 0.000\n",
      "Batch 3100, Loss: 0.000\n",
      "Batch 3200, Loss: 0.000\n",
      "Batch 3300, Loss: 0.000\n",
      "Batch 3400, Loss: 0.000\n",
      "Batch 3500, Loss: 0.000\n",
      "Batch 3600, Loss: 0.000\n",
      "Batch 3700, Loss: 0.000\n",
      "Batch 3800, Loss: 0.000\n",
      "\n",
      "Val Loss: 0.002\n",
      "***************************************************\n",
      "\n",
      "Epoch: 8\n",
      "Batch 100, Loss: 0.000\n",
      "Batch 200, Loss: 0.000\n",
      "Batch 300, Loss: 0.000\n",
      "Batch 400, Loss: 0.000\n",
      "Batch 500, Loss: 0.000\n",
      "Batch 600, Loss: 0.000\n",
      "Batch 700, Loss: 0.000\n",
      "Batch 800, Loss: 0.000\n",
      "Batch 900, Loss: 0.000\n",
      "Batch 1000, Loss: 0.000\n",
      "Batch 1100, Loss: 0.000\n",
      "Batch 1200, Loss: 0.000\n",
      "Batch 1300, Loss: 0.000\n",
      "Batch 1400, Loss: 0.000\n",
      "Batch 1500, Loss: 0.000\n",
      "Batch 1600, Loss: 0.000\n",
      "Batch 1700, Loss: 0.000\n",
      "Batch 1800, Loss: 0.000\n",
      "Batch 1900, Loss: 0.000\n",
      "Batch 2000, Loss: 0.000\n",
      "Batch 2100, Loss: 0.000\n",
      "Batch 2200, Loss: 0.000\n",
      "Batch 2300, Loss: 0.000\n",
      "Batch 2400, Loss: 0.000\n",
      "Batch 2500, Loss: 0.000\n",
      "Batch 2600, Loss: 0.000\n",
      "Batch 2700, Loss: 0.000\n",
      "Batch 2800, Loss: 0.000\n",
      "Batch 2900, Loss: 0.000\n",
      "Batch 3000, Loss: 0.000\n",
      "Batch 3100, Loss: 0.000\n",
      "Batch 3200, Loss: 0.000\n",
      "Batch 3300, Loss: 0.000\n",
      "Batch 3400, Loss: 0.000\n",
      "Batch 3500, Loss: 0.000\n",
      "Batch 3600, Loss: 0.000\n",
      "Batch 3700, Loss: 0.000\n",
      "Batch 3800, Loss: 0.000\n",
      "\n",
      "Val Loss: 0.000\n",
      "***************************************************\n",
      "\n",
      "Epoch: 9\n",
      "Batch 100, Loss: 0.000\n",
      "Batch 200, Loss: 0.000\n",
      "Batch 300, Loss: 0.000\n",
      "Batch 400, Loss: 0.000\n",
      "Batch 500, Loss: 0.000\n",
      "Batch 600, Loss: 0.000\n",
      "Batch 700, Loss: 0.000\n",
      "Batch 800, Loss: 0.000\n",
      "Batch 900, Loss: 0.000\n",
      "Batch 1000, Loss: 0.000\n",
      "Batch 1100, Loss: 0.000\n",
      "Batch 1200, Loss: 0.000\n",
      "Batch 1300, Loss: 0.000\n",
      "Batch 1400, Loss: 0.000\n",
      "Batch 1500, Loss: 0.000\n",
      "Batch 1600, Loss: 0.000\n",
      "Batch 1700, Loss: 0.000\n",
      "Batch 1800, Loss: 0.000\n",
      "Batch 1900, Loss: 0.000\n",
      "Batch 2000, Loss: 0.000\n",
      "Batch 2100, Loss: 0.000\n",
      "Batch 2200, Loss: 0.000\n",
      "Batch 2300, Loss: 0.000\n",
      "Batch 2400, Loss: 0.000\n",
      "Batch 2500, Loss: 0.000\n",
      "Batch 2600, Loss: 0.000\n",
      "Batch 2700, Loss: 0.000\n",
      "Batch 2800, Loss: 0.000\n",
      "Batch 2900, Loss: 0.000\n",
      "Batch 3000, Loss: 0.000\n",
      "Batch 3100, Loss: 0.000\n",
      "Batch 3200, Loss: 0.000\n",
      "Batch 3300, Loss: 0.000\n",
      "Batch 3400, Loss: 0.000\n",
      "Batch 3500, Loss: 0.000\n",
      "Batch 3600, Loss: 0.000\n",
      "Batch 3700, Loss: 0.000\n",
      "Batch 3800, Loss: 0.000\n",
      "\n",
      "Val Loss: 0.005\n",
      "***************************************************\n",
      "\n",
      "Epoch: 10\n",
      "Batch 100, Loss: 0.000\n",
      "Batch 200, Loss: 0.000\n",
      "Batch 300, Loss: 0.000\n",
      "Batch 400, Loss: 0.000\n",
      "Batch 500, Loss: 0.000\n",
      "Batch 600, Loss: 0.000\n",
      "Batch 700, Loss: 0.000\n",
      "Batch 800, Loss: 0.000\n",
      "Batch 900, Loss: 0.000\n",
      "Batch 1000, Loss: 0.000\n",
      "Batch 1100, Loss: 0.000\n",
      "Batch 1200, Loss: 0.000\n",
      "Batch 1300, Loss: 0.000\n",
      "Batch 1400, Loss: 0.000\n",
      "Batch 1500, Loss: 0.000\n",
      "Batch 1600, Loss: 0.000\n",
      "Batch 1700, Loss: 0.000\n",
      "Batch 1800, Loss: 0.000\n",
      "Batch 1900, Loss: 0.000\n",
      "Batch 2000, Loss: 0.000\n",
      "Batch 2100, Loss: 0.000\n",
      "Batch 2200, Loss: 0.000\n",
      "Batch 2300, Loss: 0.000\n",
      "Batch 2400, Loss: 0.000\n",
      "Batch 2500, Loss: 0.000\n",
      "Batch 2600, Loss: 0.000\n",
      "Batch 2700, Loss: 0.000\n",
      "Batch 2800, Loss: 0.000\n",
      "Batch 2900, Loss: 0.000\n",
      "Batch 3000, Loss: 0.000\n",
      "Batch 3100, Loss: 0.000\n",
      "Batch 3200, Loss: 0.000\n",
      "Batch 3300, Loss: 0.000\n",
      "Batch 3400, Loss: 0.000\n",
      "Batch 3500, Loss: 0.000\n",
      "Batch 3600, Loss: 0.000\n",
      "Batch 3700, Loss: 0.000\n",
      "Batch 3800, Loss: 0.000\n",
      "\n",
      "Val Loss: 0.007\n",
      "***************************************************\n",
      "\n"
     ]
    }
   ],
   "source": [
    "learning_rate = 0.01\n",
    "num_epochs = 10\n",
    "loss_function = nn.MSELoss()\n",
    "optimizer = torch.optim.Adam(model.parameters(), lr=learning_rate)\n",
    "\n",
    "for epoch in range(num_epochs):\n",
    "    train_one_epoch()\n",
    "    validate_one_epoch()"
   ]
  },
  {
   "cell_type": "code",
   "execution_count": 26,
   "id": "dfe0dd4d-f623-48f2-8fc4-0f0558102950",
   "metadata": {
    "tags": []
   },
   "outputs": [
    {
     "data": {
      "image/png": "[encoded data removed]",
      "text/plain": [
       "<Figure size 640x480 with 1 Axes>"
      ]
     },
     "metadata": {},
     "output_type": "display_data"
    }
   ],
   "source": [
    "with torch.no_grad():\n",
    "    predicted = model(X_train.to(device)).to('cpu').numpy()\n",
    "\n",
    "plt.plot(y_train, label='Actual Close')\n",
    "plt.plot(predicted, label='Predicted Close')\n",
    "plt.xlabel('Day')\n",
    "plt.ylabel('Close')\n",
    "plt.legend()\n",
    "plt.show()"
   ]
  },
  {
   "cell_type": "code",
   "execution_count": 27,
   "id": "9cf00114-8cdb-4ebf-80dc-515ea546140d",
   "metadata": {
    "tags": []
   },
   "outputs": [
    {
     "data": {
      "text/plain": [
       "array([  20.82869096,   20.31013141,   20.34341387, ..., 1310.88269877,\n",
       "       1303.13207639, 1297.47856859])"
      ]
     },
     "execution_count": 27,
     "metadata": {},
     "output_type": "execute_result"
    }
   ],
   "source": [
    "train_predictions = predicted.flatten()\n",
    "\n",
    "dummies = np.zeros((X_train.shape[0], lookback+1))\n",
    "dummies[:, 0] = train_predictions\n",
    "dummies = scaler.inverse_transform(dummies)\n",
    "\n",
    "train_predictions = dc(dummies[:, 0])\n",
    "train_predictions"
   ]
  },
  {
   "cell_type": "code",
   "execution_count": 28,
   "id": "c4dd0a15-8656-4660-b026-28efc6b09f6c",
   "metadata": {
    "tags": []
   },
   "outputs": [
    {
     "data": {
      "text/plain": [
       "array([  16.75997332,   16.67      ,   16.71996626, ..., 1292.28002401,\n",
       "       1286.93994383, 1254.0500576 ])"
      ]
     },
     "execution_count": 28,
     "metadata": {},
     "output_type": "execute_result"
    }
   ],
   "source": [
    "dummies = np.zeros((X_train.shape[0], lookback+1))\n",
    "dummies[:, 0] = y_train.flatten()\n",
    "dummies = scaler.inverse_transform(dummies)\n",
    "\n",
    "new_y_train = dc(dummies[:, 0])\n",
    "new_y_train"
   ]
  },
  {
   "cell_type": "code",
   "execution_count": 29,
   "id": "de84f0b2-8130-420d-a2b8-5d5dace9b2dc",
   "metadata": {
    "tags": []
   },
   "outputs": [
    {
     "data": {
      "image/png": "[encoded data removed]",
      "text/plain": [
       "<Figure size 640x480 with 1 Axes>"
      ]
     },
     "metadata": {},
     "output_type": "display_data"
    }
   ],
   "source": [
    "plt.plot(new_y_train, label='Actual Close')\n",
    "plt.plot(train_predictions, label='Predicted Close')\n",
    "plt.xlabel('Day')\n",
    "plt.ylabel('Close')\n",
    "plt.legend()\n",
    "plt.show()"
   ]
  },
  {
   "cell_type": "code",
   "execution_count": 30,
   "id": "3e940084-1631-4d56-b1ac-798bfa0075bd",
   "metadata": {
    "tags": []
   },
   "outputs": [
    {
     "data": {
      "text/plain": [
       "array([1266.16006591, 1269.70835133, 1213.20134207, ..., 2971.25291657,\n",
       "       2982.51498808, 2983.48962807])"
      ]
     },
     "execution_count": 30,
     "metadata": {},
     "output_type": "execute_result"
    }
   ],
   "source": [
    "test_predictions = model(X_test.to(device)).detach().cpu().numpy().flatten()\n",
    "\n",
    "dummies = np.zeros((X_test.shape[0], lookback+1))\n",
    "dummies[:, 0] = test_predictions\n",
    "dummies = scaler.inverse_transform(dummies)\n",
    "\n",
    "test_predictions = dc(dummies[:, 0])\n",
    "test_predictions"
   ]
  },
  {
   "cell_type": "code",
   "execution_count": 31,
   "id": "c4001c69-80c2-4ae1-8415-5f24f89df1ee",
   "metadata": {
    "tags": []
   },
   "outputs": [
    {
     "data": {
      "text/plain": [
       "array([1260.33997553, 1200.06994085, 1199.38001065, ..., 2746.87010588,\n",
       "       2748.80006331, 2772.35008941])"
      ]
     },
     "execution_count": 31,
     "metadata": {},
     "output_type": "execute_result"
    }
   ],
   "source": [
    "dummies = np.zeros((X_test.shape[0], lookback+1))\n",
    "dummies[:, 0] = y_test.flatten()\n",
    "dummies = scaler.inverse_transform(dummies)\n",
    "\n",
    "new_y_test = dc(dummies[:, 0])\n",
    "new_y_test"
   ]
  },
  {
   "cell_type": "code",
   "execution_count": 32,
   "id": "a4d5065e-57ef-41c0-9fa3-7b1924873e96",
   "metadata": {
    "tags": []
   },
   "outputs": [
    {
     "data": {
      "image/png": "[encoded data removed]",
      "text/plain": [
       "<Figure size 640x480 with 1 Axes>"
      ]
     },
     "metadata": {},
     "output_type": "display_data"
    }
   ],
   "source": [
    "plt.plot(new_y_test, label='Actual Close')\n",
    "plt.plot(test_predictions, label='Predicted Close')\n",
    "plt.xlabel('Day')\n",
    "plt.ylabel('Close')\n",
    "plt.legend()\n",
    "plt.show()"
   ]
  },
  {
   "cell_type": "code",
   "execution_count": null,
   "id": "2d611b69-9790-49ad-82b7-4e84e0404057",
   "metadata": {},
   "outputs": [],
   "source": []
  }
 ],
 "metadata": {
  "kernelspec": {
   "display_name": "env_pytorch",
   "language": "python",
   "name": "env_pytorch"
  },
  "language_info": {
   "codemirror_mode": {
    "name": "ipython",
    "version": 3
   },
   "file_extension": ".py",
   "mimetype": "text/x-python",
   "name": "python",
   "nbconvert_exporter": "python",
   "pygments_lexer": "ipython3",
   "version": "3.9.0"
  }
 },
 "nbformat": 4,
 "nbformat_minor": 5
}
