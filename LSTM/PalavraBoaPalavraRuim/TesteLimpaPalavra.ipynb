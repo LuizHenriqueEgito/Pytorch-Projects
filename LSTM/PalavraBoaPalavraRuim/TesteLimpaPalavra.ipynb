{
 "cells": [
  {
   "cell_type": "code",
   "execution_count": 13,
   "id": "09898646-aa60-4be7-a514-e4a1b23e487f",
   "metadata": {
    "tags": []
   },
   "outputs": [],
   "source": [
    "import torch\n",
    "import torch.nn as nn\n",
    "import torch.optim as optim"
   ]
  },
  {
   "cell_type": "code",
   "execution_count": 2,
   "id": "68b2c292-dc3e-4f0d-ac72-fe0085b81d25",
   "metadata": {
    "tags": []
   },
   "outputs": [],
   "source": [
    "textos_dummy = [\n",
    "    'esse texto e bom nao possui ruidos foi escrito hoje 04/08/2023',\n",
    "    '# asd 32$#$ 43 %#$@# $ @#'\n",
    "]\n",
    "\n",
    "labels = [0, 1]"
   ]
  },
  {
   "cell_type": "code",
   "execution_count": 11,
   "id": "f83ca1ee-de1e-4ad1-b742-c716ff557bc1",
   "metadata": {
    "tags": []
   },
   "outputs": [
    {
     "name": "stdout",
     "output_type": "stream",
     "text": [
      "[-1, 0, 1, 2, 2, 0, 3, 3, -1, -1, -1, 0, 3, 3, 0, -1, -1, -1, -1, -1, 0, -1, 0, -1, -1]\n"
     ]
    }
   ],
   "source": [
    "depara_emb =  {'vowels': 1, 'consonants': 2, 'espace': 0, 'digits': 3, 'punctuations': 4, 'pad': -2, 'unk': -1}\n",
    "def transform_text(text):\n",
    "    vowels = 'aeiou'\n",
    "    consonants = 'bcdfghjklmnpqrstvwxyz'\n",
    "    digits = '0123456789'\n",
    "    punctuations = '.,;:!?'\n",
    "    \n",
    "    transformed_list = []\n",
    "    for char in text:\n",
    "        if char in vowels:\n",
    "            transformed_list.append(depara_emb['vowels'])\n",
    "        elif char in consonants:\n",
    "            transformed_list.append(depara_emb['consonants'])\n",
    "        elif char == ' ':\n",
    "            transformed_list.append(depara_emb['espace'])\n",
    "        elif char in digits:\n",
    "            transformed_list.append(depara_emb['digits'])\n",
    "        elif char in punctuations:\n",
    "            transformed_list.append(depara_emb['punctuations'])\n",
    "        else:\n",
    "            transformed_list.append(depara_emb['unk'])\n",
    "    \n",
    "    return transformed_list\n",
    "\n",
    "def fill_list(lst, limit:int = 100):\n",
    "    while len(lst) < limit:\n",
    "        lst.append(depara_emb['pad'])\n",
    "    return lst\n",
    "\n",
    "# Exemplo de uso:\n",
    "resultado = transform_text(textos_dummy[1])\n",
    "print(resultado)"
   ]
  },
  {
   "cell_type": "code",
   "execution_count": 58,
   "id": "fdb41a84-10b4-4541-8a1c-db67f1b37e8d",
   "metadata": {
    "tags": []
   },
   "outputs": [],
   "source": [
    "data = list(zip(textos_dummy, labels))"
   ]
  },
  {
   "cell_type": "code",
   "execution_count": 64,
   "id": "c733710d-5869-488d-90ef-cf67eed962b0",
   "metadata": {
    "tags": []
   },
   "outputs": [],
   "source": [
    "exemplo_texts = [(fill_list(transform_text(x[0])), x[1]) for x in data]"
   ]
  },
  {
   "cell_type": "code",
   "execution_count": 66,
   "id": "c2b3d768-fa65-4e62-8189-fd3c15f4e127",
   "metadata": {
    "tags": []
   },
   "outputs": [],
   "source": [
    "# exemplo_texts"
   ]
  },
  {
   "cell_type": "code",
   "execution_count": 70,
   "id": "21a27374-61f9-4314-ace6-0e6e77f6db86",
   "metadata": {
    "tags": []
   },
   "outputs": [
    {
     "data": {
      "text/plain": [
       "[([1,\n",
       "   2,\n",
       "   2,\n",
       "   1,\n",
       "   0,\n",
       "   2,\n",
       "   1,\n",
       "   2,\n",
       "   2,\n",
       "   1,\n",
       "   0,\n",
       "   1,\n",
       "   0,\n",
       "   2,\n",
       "   1,\n",
       "   2,\n",
       "   0,\n",
       "   2,\n",
       "   1,\n",
       "   1,\n",
       "   0,\n",
       "   2,\n",
       "   1,\n",
       "   2,\n",
       "   2,\n",
       "   1,\n",
       "   1,\n",
       "   0,\n",
       "   2,\n",
       "   1,\n",
       "   1,\n",
       "   2,\n",
       "   1,\n",
       "   2,\n",
       "   0,\n",
       "   2,\n",
       "   1,\n",
       "   1,\n",
       "   0,\n",
       "   1,\n",
       "   2,\n",
       "   2,\n",
       "   2,\n",
       "   1,\n",
       "   2,\n",
       "   1,\n",
       "   0,\n",
       "   2,\n",
       "   1,\n",
       "   2,\n",
       "   1,\n",
       "   0,\n",
       "   3,\n",
       "   3,\n",
       "   -1,\n",
       "   3,\n",
       "   3,\n",
       "   -1,\n",
       "   3,\n",
       "   3,\n",
       "   3,\n",
       "   3,\n",
       "   -2,\n",
       "   -2,\n",
       "   -2,\n",
       "   -2,\n",
       "   -2,\n",
       "   -2,\n",
       "   -2,\n",
       "   -2,\n",
       "   -2,\n",
       "   -2,\n",
       "   -2,\n",
       "   -2,\n",
       "   -2,\n",
       "   -2,\n",
       "   -2,\n",
       "   -2,\n",
       "   -2,\n",
       "   -2,\n",
       "   -2,\n",
       "   -2,\n",
       "   -2,\n",
       "   -2,\n",
       "   -2,\n",
       "   -2,\n",
       "   -2,\n",
       "   -2,\n",
       "   -2,\n",
       "   -2,\n",
       "   -2,\n",
       "   -2,\n",
       "   -2,\n",
       "   -2,\n",
       "   -2,\n",
       "   -2,\n",
       "   -2,\n",
       "   -2,\n",
       "   -2,\n",
       "   -2],\n",
       "  0),\n",
       " ([-1,\n",
       "   0,\n",
       "   1,\n",
       "   2,\n",
       "   2,\n",
       "   0,\n",
       "   3,\n",
       "   3,\n",
       "   -1,\n",
       "   -1,\n",
       "   -1,\n",
       "   0,\n",
       "   3,\n",
       "   3,\n",
       "   0,\n",
       "   -1,\n",
       "   -1,\n",
       "   -1,\n",
       "   -1,\n",
       "   -1,\n",
       "   0,\n",
       "   -1,\n",
       "   0,\n",
       "   -1,\n",
       "   -1,\n",
       "   -2,\n",
       "   -2,\n",
       "   -2,\n",
       "   -2,\n",
       "   -2,\n",
       "   -2,\n",
       "   -2,\n",
       "   -2,\n",
       "   -2,\n",
       "   -2,\n",
       "   -2,\n",
       "   -2,\n",
       "   -2,\n",
       "   -2,\n",
       "   -2,\n",
       "   -2,\n",
       "   -2,\n",
       "   -2,\n",
       "   -2,\n",
       "   -2,\n",
       "   -2,\n",
       "   -2,\n",
       "   -2,\n",
       "   -2,\n",
       "   -2,\n",
       "   -2,\n",
       "   -2,\n",
       "   -2,\n",
       "   -2,\n",
       "   -2,\n",
       "   -2,\n",
       "   -2,\n",
       "   -2,\n",
       "   -2,\n",
       "   -2,\n",
       "   -2,\n",
       "   -2,\n",
       "   -2,\n",
       "   -2,\n",
       "   -2,\n",
       "   -2,\n",
       "   -2,\n",
       "   -2,\n",
       "   -2,\n",
       "   -2,\n",
       "   -2,\n",
       "   -2,\n",
       "   -2,\n",
       "   -2,\n",
       "   -2,\n",
       "   -2,\n",
       "   -2,\n",
       "   -2,\n",
       "   -2,\n",
       "   -2,\n",
       "   -2,\n",
       "   -2,\n",
       "   -2,\n",
       "   -2,\n",
       "   -2,\n",
       "   -2,\n",
       "   -2,\n",
       "   -2,\n",
       "   -2,\n",
       "   -2,\n",
       "   -2,\n",
       "   -2,\n",
       "   -2,\n",
       "   -2,\n",
       "   -2,\n",
       "   -2,\n",
       "   -2,\n",
       "   -2,\n",
       "   -2,\n",
       "   -2],\n",
       "  1)]"
      ]
     },
     "execution_count": 70,
     "metadata": {},
     "output_type": "execute_result"
    }
   ],
   "source": [
    "exemplo_texts"
   ]
  },
  {
   "cell_type": "code",
   "execution_count": 68,
   "id": "516947ef-efae-4d50-9a99-2b370cfe8f8f",
   "metadata": {
    "tags": []
   },
   "outputs": [
    {
     "data": {
      "text/plain": [
       "0"
      ]
     },
     "execution_count": 68,
     "metadata": {},
     "output_type": "execute_result"
    }
   ],
   "source": [
    "exemplo_texts[0][1]"
   ]
  },
  {
   "cell_type": "code",
   "execution_count": 41,
   "id": "b3017c58-1bca-466b-b2d0-72e2bb0833f0",
   "metadata": {
    "tags": []
   },
   "outputs": [],
   "source": [
    "def transform_to_tensor(vetor, num_quebras, label):\n",
    "    tamanho_vetor = len(vetor)\n",
    "    quebras = tamanho_vetor // num_quebras\n",
    "    quebra = [i * quebras for i in range(num_quebras)] + [tamanho_vetor]\n",
    "    tensor_quebras = [vetor[quebra[i]:quebra[i+1]] for i in range(num_quebras)]\n",
    "    return torch.tensor(tensor_quebras), torch.full((1, num_quebras), label)"
   ]
  },
  {
   "cell_type": "code",
   "execution_count": 71,
   "id": "9fd5d624-1069-4680-a69d-0a69ce427386",
   "metadata": {
    "tags": []
   },
   "outputs": [],
   "source": [
    "resultados = [transform_to_tensor(vetor=x[0], num_quebras=2, label=x[1]) for x in exemplo_texts]"
   ]
  },
  {
   "cell_type": "code",
   "execution_count": 72,
   "id": "ea30228d-f784-45e5-99b9-f1cc0ace5dc0",
   "metadata": {
    "tags": []
   },
   "outputs": [
    {
     "data": {
      "text/plain": [
       "[(tensor([[ 1,  2,  2,  1,  0,  2,  1,  2,  2,  1,  0,  1,  0,  2,  1,  2,  0,  2,\n",
       "            1,  1,  0,  2,  1,  2,  2,  1,  1,  0,  2,  1,  1,  2,  1,  2,  0,  2,\n",
       "            1,  1,  0,  1,  2,  2,  2,  1,  2,  1,  0,  2,  1,  2],\n",
       "          [ 1,  0,  3,  3, -1,  3,  3, -1,  3,  3,  3,  3, -2, -2, -2, -2, -2, -2,\n",
       "           -2, -2, -2, -2, -2, -2, -2, -2, -2, -2, -2, -2, -2, -2, -2, -2, -2, -2,\n",
       "           -2, -2, -2, -2, -2, -2, -2, -2, -2, -2, -2, -2, -2, -2]]),\n",
       "  tensor([[0, 0]])),\n",
       " (tensor([[-1,  0,  1,  2,  2,  0,  3,  3, -1, -1, -1,  0,  3,  3,  0, -1, -1, -1,\n",
       "           -1, -1,  0, -1,  0, -1, -1, -2, -2, -2, -2, -2, -2, -2, -2, -2, -2, -2,\n",
       "           -2, -2, -2, -2, -2, -2, -2, -2, -2, -2, -2, -2, -2, -2],\n",
       "          [-2, -2, -2, -2, -2, -2, -2, -2, -2, -2, -2, -2, -2, -2, -2, -2, -2, -2,\n",
       "           -2, -2, -2, -2, -2, -2, -2, -2, -2, -2, -2, -2, -2, -2, -2, -2, -2, -2,\n",
       "           -2, -2, -2, -2, -2, -2, -2, -2, -2, -2, -2, -2, -2, -2]]),\n",
       "  tensor([[1, 1]]))]"
      ]
     },
     "execution_count": 72,
     "metadata": {},
     "output_type": "execute_result"
    }
   ],
   "source": [
    "resultados"
   ]
  },
  {
   "cell_type": "code",
   "execution_count": null,
   "id": "a3fe847c-5451-46c6-a199-bb7b80eb707a",
   "metadata": {},
   "outputs": [],
   "source": []
  },
  {
   "cell_type": "code",
   "execution_count": null,
   "id": "de26cc45-35bc-47bf-ae3f-d65010ce8704",
   "metadata": {},
   "outputs": [],
   "source": []
  },
  {
   "cell_type": "code",
   "execution_count": null,
   "id": "e5724def-7880-4414-919f-e3ca38cdb94f",
   "metadata": {},
   "outputs": [],
   "source": []
  },
  {
   "cell_type": "code",
   "execution_count": 42,
   "id": "965d65c4-d659-46bd-a753-edda88ebb658",
   "metadata": {
    "tags": []
   },
   "outputs": [
    {
     "data": {
      "text/plain": [
       "(tensor([[-1,  0,  1,  2,  2,  0,  3,  3, -1, -1, -1,  0,  3,  3,  0, -1, -1, -1,\n",
       "          -1, -1,  0, -1,  0, -1, -1, -2, -2, -2, -2, -2, -2, -2, -2, -2, -2, -2,\n",
       "          -2, -2, -2, -2, -2, -2, -2, -2, -2, -2, -2, -2, -2, -2],\n",
       "         [-2, -2, -2, -2, -2, -2, -2, -2, -2, -2, -2, -2, -2, -2, -2, -2, -2, -2,\n",
       "          -2, -2, -2, -2, -2, -2, -2, -2, -2, -2, -2, -2, -2, -2, -2, -2, -2, -2,\n",
       "          -2, -2, -2, -2, -2, -2, -2, -2, -2, -2, -2, -2, -2, -2]]),\n",
       " tensor([[1, 1]]))"
      ]
     },
     "execution_count": 42,
     "metadata": {},
     "output_type": "execute_result"
    }
   ],
   "source": [
    "transform_to_tensor(exemplo_text, num_quebras=2, label=1)"
   ]
  },
  {
   "cell_type": "code",
   "execution_count": null,
   "id": "29e4234c-322e-4b98-ba19-08bfcf316f5f",
   "metadata": {},
   "outputs": [],
   "source": [
    "# faça a função retornar [[(tensor palavras, label), (tensor palavras, label)], [(tensor palavras, label), (tensor palavras, label)]]\n",
    "[transform_to_tensor]"
   ]
  }
 ],
 "metadata": {
  "kernelspec": {
   "display_name": "env_pytorch",
   "language": "python",
   "name": "env_pytorch"
  },
  "language_info": {
   "codemirror_mode": {
    "name": "ipython",
    "version": 3
   },
   "file_extension": ".py",
   "mimetype": "text/x-python",
   "name": "python",
   "nbconvert_exporter": "python",
   "pygments_lexer": "ipython3",
   "version": "3.9.0"
  }
 },
 "nbformat": 4,
 "nbformat_minor": 5
}
