{
 "cells": [
  {
   "cell_type": "code",
   "execution_count": 1,
   "id": "98d57392-01bf-486b-bf32-b9d64980255e",
   "metadata": {
    "tags": []
   },
   "outputs": [],
   "source": [
    "import pandas as pd\n",
    "import numpy as np\n",
    "import matplotlib.pyplot as plt\n",
    "from copy import deepcopy as dc"
   ]
  },
  {
   "cell_type": "code",
   "execution_count": 40,
   "id": "894e1613-5b13-4365-bb2b-051eb50eadc3",
   "metadata": {
    "tags": []
   },
   "outputs": [],
   "source": [
    "import torch\n",
    "import torch.nn as nn\n",
    "from torch.utils.data import Dataset"
   ]
  },
  {
   "cell_type": "code",
   "execution_count": 3,
   "id": "c3ca23a9-d8f4-47b5-b565-1888f3d070dc",
   "metadata": {
    "tags": []
   },
   "outputs": [],
   "source": [
    "df = pd.read_csv('data/klabin_historical.csv')"
   ]
  },
  {
   "cell_type": "code",
   "execution_count": 4,
   "id": "7669cefe-b25e-45ec-86c2-a71d7e02b2e4",
   "metadata": {
    "tags": []
   },
   "outputs": [
    {
     "data": {
      "text/html": [
       "<div>\n",
       "<style scoped>\n",
       "    .dataframe tbody tr th:only-of-type {\n",
       "        vertical-align: middle;\n",
       "    }\n",
       "\n",
       "    .dataframe tbody tr th {\n",
       "        vertical-align: top;\n",
       "    }\n",
       "\n",
       "    .dataframe thead th {\n",
       "        text-align: right;\n",
       "    }\n",
       "</style>\n",
       "<table border=\"1\" class=\"dataframe\">\n",
       "  <thead>\n",
       "    <tr style=\"text-align: right;\">\n",
       "      <th></th>\n",
       "      <th>Date</th>\n",
       "      <th>Close</th>\n",
       "    </tr>\n",
       "  </thead>\n",
       "  <tbody>\n",
       "    <tr>\n",
       "      <th>0</th>\n",
       "      <td>2008-01-02 00:00:00-02:00</td>\n",
       "      <td>0.749389</td>\n",
       "    </tr>\n",
       "    <tr>\n",
       "      <th>1</th>\n",
       "      <td>2008-01-03 00:00:00-02:00</td>\n",
       "      <td>0.745956</td>\n",
       "    </tr>\n",
       "    <tr>\n",
       "      <th>2</th>\n",
       "      <td>2008-01-04 00:00:00-02:00</td>\n",
       "      <td>0.721930</td>\n",
       "    </tr>\n",
       "    <tr>\n",
       "      <th>3</th>\n",
       "      <td>2008-01-07 00:00:00-02:00</td>\n",
       "      <td>0.734515</td>\n",
       "    </tr>\n",
       "    <tr>\n",
       "      <th>4</th>\n",
       "      <td>2008-01-08 00:00:00-02:00</td>\n",
       "      <td>0.716209</td>\n",
       "    </tr>\n",
       "  </tbody>\n",
       "</table>\n",
       "</div>"
      ],
      "text/plain": [
       "                        Date     Close\n",
       "0  2008-01-02 00:00:00-02:00  0.749389\n",
       "1  2008-01-03 00:00:00-02:00  0.745956\n",
       "2  2008-01-04 00:00:00-02:00  0.721930\n",
       "3  2008-01-07 00:00:00-02:00  0.734515\n",
       "4  2008-01-08 00:00:00-02:00  0.716209"
      ]
     },
     "execution_count": 4,
     "metadata": {},
     "output_type": "execute_result"
    }
   ],
   "source": [
    "data = df[['Date', 'Close']]\n",
    "data.head()"
   ]
  },
  {
   "cell_type": "code",
   "execution_count": 5,
   "id": "0de5b44f-38d6-4d55-8277-eccf2177b0be",
   "metadata": {
    "tags": []
   },
   "outputs": [
    {
     "data": {
      "text/plain": [
       "'cuda'"
      ]
     },
     "execution_count": 5,
     "metadata": {},
     "output_type": "execute_result"
    }
   ],
   "source": [
    "# settando o cuda\n",
    "device = 'cuda' if torch.cuda.is_available() else 'cpu'\n",
    "device"
   ]
  },
  {
   "cell_type": "code",
   "execution_count": 6,
   "id": "43ca60e6-bd26-4c83-bb8d-d7ff6871952b",
   "metadata": {
    "tags": []
   },
   "outputs": [
    {
     "data": {
      "image/png": "[encoded data removed]",
      "text/plain": [
       "<Figure size 640x480 with 1 Axes>"
      ]
     },
     "metadata": {},
     "output_type": "display_data"
    }
   ],
   "source": [
    "data['Date'] = pd.to_datetime(data['Date'])\n",
    "\n",
    "plt.plot(data.loc[:, 'Date'], data.loc[:, 'Close']);"
   ]
  },
  {
   "cell_type": "code",
   "execution_count": 7,
   "id": "56650ff7-5bb3-4e5d-b860-3d292a810eea",
   "metadata": {
    "tags": []
   },
   "outputs": [
    {
     "data": {
      "text/html": [
       "<div>\n",
       "<style scoped>\n",
       "    .dataframe tbody tr th:only-of-type {\n",
       "        vertical-align: middle;\n",
       "    }\n",
       "\n",
       "    .dataframe tbody tr th {\n",
       "        vertical-align: top;\n",
       "    }\n",
       "\n",
       "    .dataframe thead th {\n",
       "        text-align: right;\n",
       "    }\n",
       "</style>\n",
       "<table border=\"1\" class=\"dataframe\">\n",
       "  <thead>\n",
       "    <tr style=\"text-align: right;\">\n",
       "      <th></th>\n",
       "      <th>Close</th>\n",
       "      <th>Close(t-1)</th>\n",
       "      <th>Close(t-2)</th>\n",
       "      <th>Close(t-3)</th>\n",
       "      <th>Close(t-4)</th>\n",
       "      <th>Close(t-5)</th>\n",
       "      <th>Close(t-6)</th>\n",
       "      <th>Close(t-7)</th>\n",
       "    </tr>\n",
       "    <tr>\n",
       "      <th>Date</th>\n",
       "      <th></th>\n",
       "      <th></th>\n",
       "      <th></th>\n",
       "      <th></th>\n",
       "      <th></th>\n",
       "      <th></th>\n",
       "      <th></th>\n",
       "      <th></th>\n",
       "    </tr>\n",
       "  </thead>\n",
       "  <tbody>\n",
       "    <tr>\n",
       "      <th>2008-01-11 00:00:00-02:00</th>\n",
       "      <td>0.671589</td>\n",
       "      <td>0.687607</td>\n",
       "      <td>0.703625</td>\n",
       "      <td>0.716209</td>\n",
       "      <td>0.734515</td>\n",
       "      <td>0.721930</td>\n",
       "      <td>0.745956</td>\n",
       "      <td>0.749389</td>\n",
       "    </tr>\n",
       "    <tr>\n",
       "      <th>2008-01-14 00:00:00-02:00</th>\n",
       "      <td>0.701336</td>\n",
       "      <td>0.671589</td>\n",
       "      <td>0.687607</td>\n",
       "      <td>0.703625</td>\n",
       "      <td>0.716209</td>\n",
       "      <td>0.734515</td>\n",
       "      <td>0.721930</td>\n",
       "      <td>0.745956</td>\n",
       "    </tr>\n",
       "    <tr>\n",
       "      <th>2008-01-15 00:00:00-02:00</th>\n",
       "      <td>0.684175</td>\n",
       "      <td>0.701336</td>\n",
       "      <td>0.671589</td>\n",
       "      <td>0.687607</td>\n",
       "      <td>0.703625</td>\n",
       "      <td>0.716209</td>\n",
       "      <td>0.734515</td>\n",
       "      <td>0.721930</td>\n",
       "    </tr>\n",
       "    <tr>\n",
       "      <th>2008-01-16 00:00:00-02:00</th>\n",
       "      <td>0.692183</td>\n",
       "      <td>0.684175</td>\n",
       "      <td>0.701336</td>\n",
       "      <td>0.671589</td>\n",
       "      <td>0.687607</td>\n",
       "      <td>0.703625</td>\n",
       "      <td>0.716209</td>\n",
       "      <td>0.734515</td>\n",
       "    </tr>\n",
       "    <tr>\n",
       "      <th>2008-01-17 00:00:00-02:00</th>\n",
       "      <td>0.657860</td>\n",
       "      <td>0.692183</td>\n",
       "      <td>0.684175</td>\n",
       "      <td>0.701336</td>\n",
       "      <td>0.671589</td>\n",
       "      <td>0.687607</td>\n",
       "      <td>0.703625</td>\n",
       "      <td>0.716209</td>\n",
       "    </tr>\n",
       "  </tbody>\n",
       "</table>\n",
       "</div>"
      ],
      "text/plain": [
       "                              Close  Close(t-1)  Close(t-2)  Close(t-3)  \\\n",
       "Date                                                                      \n",
       "2008-01-11 00:00:00-02:00  0.671589    0.687607    0.703625    0.716209   \n",
       "2008-01-14 00:00:00-02:00  0.701336    0.671589    0.687607    0.703625   \n",
       "2008-01-15 00:00:00-02:00  0.684175    0.701336    0.671589    0.687607   \n",
       "2008-01-16 00:00:00-02:00  0.692183    0.684175    0.701336    0.671589   \n",
       "2008-01-17 00:00:00-02:00  0.657860    0.692183    0.684175    0.701336   \n",
       "\n",
       "                           Close(t-4)  Close(t-5)  Close(t-6)  Close(t-7)  \n",
       "Date                                                                       \n",
       "2008-01-11 00:00:00-02:00    0.734515    0.721930    0.745956    0.749389  \n",
       "2008-01-14 00:00:00-02:00    0.716209    0.734515    0.721930    0.745956  \n",
       "2008-01-15 00:00:00-02:00    0.703625    0.716209    0.734515    0.721930  \n",
       "2008-01-16 00:00:00-02:00    0.687607    0.703625    0.716209    0.734515  \n",
       "2008-01-17 00:00:00-02:00    0.671589    0.687607    0.703625    0.716209  "
      ]
     },
     "execution_count": 7,
     "metadata": {},
     "output_type": "execute_result"
    }
   ],
   "source": [
    "def prepare_dataframe_for_lstm(df, n_steps):\n",
    "    df = dc(df)\n",
    "    \n",
    "    df.set_index('Date', inplace=True)\n",
    "    \n",
    "    for i in range(1, n_steps+1):\n",
    "        df[f'Close(t-{i})'] = df['Close'].shift(i)\n",
    "        \n",
    "    df.dropna(inplace=True)\n",
    "    \n",
    "    return df\n",
    "\n",
    "lookback = 7\n",
    "shifted_df = prepare_dataframe_for_lstm(data, lookback)\n",
    "shifted_df.head()"
   ]
  },
  {
   "cell_type": "code",
   "execution_count": 8,
   "id": "a329dcc9-2f1d-4ced-b873-a66993de6dbc",
   "metadata": {
    "tags": []
   },
   "outputs": [
    {
     "data": {
      "text/plain": [
       "array([[0.67158949, 0.68760699, 0.70362467, ..., 0.72193015, 0.74595642,\n",
       "        0.74938869],\n",
       "       [0.70133615, 0.67158949, 0.68760699, ..., 0.73451549, 0.72193015,\n",
       "        0.74595642],\n",
       "       [0.68417478, 0.70133615, 0.67158949, ..., 0.71620947, 0.73451549,\n",
       "        0.72193015],\n",
       "       ...,\n",
       "       [4.61000013, 4.63000011, 4.5999999 , ..., 4.63000011, 4.57999992,\n",
       "        4.53000021],\n",
       "       [4.48000002, 4.61000013, 4.63000011, ..., 4.61000013, 4.63000011,\n",
       "        4.57999992],\n",
       "       [4.44000006, 4.48000002, 4.61000013, ..., 4.59000015, 4.61000013,\n",
       "        4.63000011]])"
      ]
     },
     "execution_count": 8,
     "metadata": {},
     "output_type": "execute_result"
    }
   ],
   "source": [
    "shifted_df_as_np = shifted_df.to_numpy()\n",
    "\n",
    "shifted_df_as_np"
   ]
  },
  {
   "cell_type": "code",
   "execution_count": 9,
   "id": "2cc43191-68df-46df-b742-72c6e8378642",
   "metadata": {
    "tags": []
   },
   "outputs": [
    {
     "data": {
      "text/plain": [
       "array([[-0.8511073 , -0.84473268, -0.83835799, ..., -0.8310728 ,\n",
       "        -0.82151085, -0.82014488],\n",
       "       [-0.83926877, -0.8511073 , -0.84473268, ..., -0.8260641 ,\n",
       "        -0.8310728 , -0.82151085],\n",
       "       [-0.84609863, -0.83926877, -0.8511073 , ..., -0.8333495 ,\n",
       "        -0.8260641 , -0.8310728 ],\n",
       "       ...,\n",
       "       [ 0.71629628,  0.72425585,  0.71231641, ...,  0.72425585,\n",
       "         0.70435684,  0.68445802],\n",
       "       [ 0.66455901,  0.71629628,  0.72425585, ...,  0.71629628,\n",
       "         0.72425585,  0.70435684],\n",
       "       [ 0.64863987,  0.66455901,  0.71629628, ...,  0.70833672,\n",
       "         0.71629628,  0.72425585]])"
      ]
     },
     "execution_count": 9,
     "metadata": {},
     "output_type": "execute_result"
    }
   ],
   "source": [
    "from sklearn.preprocessing import MinMaxScaler\n",
    "\n",
    "scaler = MinMaxScaler(feature_range=(-1, 1))\n",
    "shifted_df_as_np = scaler.fit_transform(shifted_df_as_np)\n",
    "\n",
    "shifted_df_as_np"
   ]
  },
  {
   "cell_type": "code",
   "execution_count": 10,
   "id": "482e7f72-c0d4-4eb1-8a30-50362af3bfff",
   "metadata": {
    "tags": []
   },
   "outputs": [
    {
     "data": {
      "text/plain": [
       "(3888, 8)"
      ]
     },
     "execution_count": 10,
     "metadata": {},
     "output_type": "execute_result"
    }
   ],
   "source": [
    "shifted_df_as_np.shape"
   ]
  },
  {
   "cell_type": "code",
   "execution_count": 11,
   "id": "a7cc5fe7-172f-4026-b02b-949f793112c6",
   "metadata": {
    "tags": []
   },
   "outputs": [
    {
     "data": {
      "text/plain": [
       "((3888, 7), (3888,))"
      ]
     },
     "execution_count": 11,
     "metadata": {},
     "output_type": "execute_result"
    }
   ],
   "source": [
    "X = shifted_df_as_np[:, 1:]\n",
    "y = shifted_df_as_np[:, 0]\n",
    "\n",
    "X.shape, y.shape"
   ]
  },
  {
   "cell_type": "code",
   "execution_count": 12,
   "id": "bbfc5b2d-06c9-4286-a0c9-1367c025b86d",
   "metadata": {
    "tags": []
   },
   "outputs": [
    {
     "data": {
      "text/plain": [
       "array([[-0.82014488, -0.82151085, -0.8310728 , ..., -0.8333495 ,\n",
       "        -0.83835799, -0.84473268],\n",
       "       [-0.82151085, -0.8310728 , -0.8260641 , ..., -0.83835799,\n",
       "        -0.84473268, -0.8511073 ],\n",
       "       [-0.8310728 , -0.8260641 , -0.8333495 , ..., -0.84473268,\n",
       "        -0.8511073 , -0.83926877],\n",
       "       ...,\n",
       "       [ 0.68445802,  0.70435684,  0.72425585, ...,  0.70833672,\n",
       "         0.71231641,  0.72425585],\n",
       "       [ 0.70435684,  0.72425585,  0.71629628, ...,  0.71231641,\n",
       "         0.72425585,  0.71629628],\n",
       "       [ 0.72425585,  0.71629628,  0.70833672, ...,  0.72425585,\n",
       "         0.71629628,  0.66455901]])"
      ]
     },
     "execution_count": 12,
     "metadata": {},
     "output_type": "execute_result"
    }
   ],
   "source": [
    "X = dc(np.flip(X, axis=1))\n",
    "X"
   ]
  },
  {
   "cell_type": "code",
   "execution_count": 13,
   "id": "8fd11834-2e22-40f6-b5f1-582d4e5a19a7",
   "metadata": {
    "tags": []
   },
   "outputs": [
    {
     "data": {
      "text/plain": [
       "3499"
      ]
     },
     "execution_count": 13,
     "metadata": {},
     "output_type": "execute_result"
    }
   ],
   "source": [
    "split_index = int(len(X) * 0.90)\n",
    "\n",
    "split_index"
   ]
  },
  {
   "cell_type": "code",
   "execution_count": 14,
   "id": "b0509f9e-df81-425d-9382-51ab297aefbb",
   "metadata": {
    "tags": []
   },
   "outputs": [
    {
     "data": {
      "text/plain": [
       "((3499, 7), (389, 7), (3499,), (389,))"
      ]
     },
     "execution_count": 14,
     "metadata": {},
     "output_type": "execute_result"
    }
   ],
   "source": [
    "X_train = X[:split_index]\n",
    "X_test = X[split_index:]\n",
    "\n",
    "y_train = y[:split_index]\n",
    "y_test = y[split_index:]\n",
    "\n",
    "X_train.shape, X_test.shape, y_train.shape, y_test.shape"
   ]
  },
  {
   "cell_type": "code",
   "execution_count": 15,
   "id": "8104d721-74e3-4246-a7ec-8b91212f5c94",
   "metadata": {
    "tags": []
   },
   "outputs": [
    {
     "data": {
      "text/plain": [
       "((3499, 7, 1), (389, 7, 1), (3499, 1), (389, 1))"
      ]
     },
     "execution_count": 15,
     "metadata": {},
     "output_type": "execute_result"
    }
   ],
   "source": [
    "X_train = X_train.reshape((-1, lookback, 1))\n",
    "X_test = X_test.reshape((-1, lookback, 1))\n",
    "\n",
    "y_train = y_train.reshape((-1, 1))\n",
    "y_test = y_test.reshape((-1, 1))\n",
    "\n",
    "# Aqui o shape significa: (profundidade: 15489, linhas: 7, colunas: 1)\n",
    "X_train.shape, X_test.shape, y_train.shape, y_test.shape"
   ]
  },
  {
   "cell_type": "code",
   "execution_count": 16,
   "id": "c0759c78-0470-41d6-a064-e34eefeca061",
   "metadata": {
    "tags": []
   },
   "outputs": [
    {
     "data": {
      "text/plain": [
       "(torch.Size([3499, 7, 1]),\n",
       " torch.Size([389, 7, 1]),\n",
       " torch.Size([3499, 1]),\n",
       " torch.Size([389, 1]))"
      ]
     },
     "execution_count": 16,
     "metadata": {},
     "output_type": "execute_result"
    }
   ],
   "source": [
    "X_train = torch.tensor(X_train).float()\n",
    "y_train = torch.tensor(y_train).float()\n",
    "X_test = torch.tensor(X_test).float()\n",
    "y_test = torch.tensor(y_test).float()\n",
    "\n",
    "X_train.shape, X_test.shape, y_train.shape, y_test.shape"
   ]
  },
  {
   "cell_type": "code",
   "execution_count": 17,
   "id": "eaca33d9-96da-4c65-a38b-abf18d9eefa5",
   "metadata": {
    "tags": []
   },
   "outputs": [],
   "source": [
    "# Criando o objeto Dataset\n",
    "class TimeSeriesDataset(Dataset):\n",
    "    def __init__(self, X, y):\n",
    "        self.X = X\n",
    "        self.y = y\n",
    "\n",
    "    def __len__(self):\n",
    "        return len(self.X)\n",
    "\n",
    "    def __getitem__(self, i):\n",
    "        return self.X[i], self.y[i]\n",
    "    \n",
    "train_dataset = TimeSeriesDataset(X_train, y_train)\n",
    "test_dataset = TimeSeriesDataset(X_test, y_test)"
   ]
  },
  {
   "cell_type": "code",
   "execution_count": 19,
   "id": "d12c8263-0bf9-46c6-91aa-6e38050c9331",
   "metadata": {
    "tags": []
   },
   "outputs": [],
   "source": [
    "from torch.utils.data import DataLoader\n",
    "\n",
    "batch_size = 16\n",
    "\n",
    "train_loader = DataLoader(train_dataset, batch_size=batch_size, shuffle=True)\n",
    "test_loader = DataLoader(test_dataset, batch_size=batch_size, shuffle=False)"
   ]
  },
  {
   "cell_type": "code",
   "execution_count": 20,
   "id": "d4e279fc-b233-4e88-8a47-101428eef5fa",
   "metadata": {
    "tags": []
   },
   "outputs": [
    {
     "name": "stdout",
     "output_type": "stream",
     "text": [
      "torch.Size([16, 7, 1]) torch.Size([16, 1])\n"
     ]
    }
   ],
   "source": [
    "for _, batch in enumerate(train_loader):\n",
    "    x_batch, y_batch = batch[0].to(device), batch[1].to(device)\n",
    "    print(x_batch.shape, y_batch.shape)\n",
    "    break"
   ]
  },
  {
   "cell_type": "code",
   "execution_count": 22,
   "id": "48217037-9f0c-46bb-86fd-0d262bf20942",
   "metadata": {
    "tags": []
   },
   "outputs": [
    {
     "data": {
      "text/plain": [
       "LSTM(\n",
       "  (lstm): LSTM(1, 8, batch_first=True)\n",
       "  (fc): Linear(in_features=8, out_features=1, bias=True)\n",
       ")"
      ]
     },
     "execution_count": 22,
     "metadata": {},
     "output_type": "execute_result"
    }
   ],
   "source": [
    "class LSTM(nn.Module):\n",
    "    def __init__(self, input_size, hidden_size, num_stacked_layers):\n",
    "        super().__init__()\n",
    "        self.hidden_size = hidden_size\n",
    "        self.num_stacked_layers = num_stacked_layers\n",
    "\n",
    "        self.lstm = nn.LSTM(input_size, hidden_size, num_stacked_layers, \n",
    "                            batch_first=True)\n",
    "        \n",
    "        self.fc = nn.Linear(hidden_size, 1)\n",
    "\n",
    "    def forward(self, x):\n",
    "        batch_size = x.size(0)\n",
    "        h0 = torch.zeros(self.num_stacked_layers, batch_size, self.hidden_size).to(device)\n",
    "        c0 = torch.zeros(self.num_stacked_layers, batch_size, self.hidden_size).to(device)\n",
    "        \n",
    "        out, _ = self.lstm(x, (h0, c0))\n",
    "        out = self.fc(out[:, -1, :])\n",
    "        return out\n",
    "\n",
    "model = LSTM(1, 8, 1)\n",
    "model.to(device)\n",
    "model"
   ]
  },
  {
   "cell_type": "code",
   "execution_count": 30,
   "id": "4811d9c0-eaf5-46bb-9a37-994a0f02834c",
   "metadata": {
    "tags": []
   },
   "outputs": [],
   "source": [
    "def train_one_epoch():\n",
    "    model.train(True)\n",
    "    print(f'Epoch: {epoch + 1}')\n",
    "    running_loss = 0.0\n",
    "    \n",
    "    for batch_index, batch in enumerate(train_loader):\n",
    "        x_batch, y_batch = batch[0].to(device), batch[1].to(device)\n",
    "        \n",
    "        output = model(x_batch)\n",
    "        loss = loss_function(output, y_batch)\n",
    "        running_loss += loss.item()\n",
    "        \n",
    "        optimizer.zero_grad()\n",
    "        loss.backward()\n",
    "        optimizer.step()\n",
    "\n",
    "        if batch_index + 1 % 100 == 0:  # print every 100 batches\n",
    "            avg_loss_across_batches = running_loss / 100\n",
    "            print('Batch {0}, Loss: {1:.3f}'.format(batch_index+1,\n",
    "                                                    avg_loss_across_batches))\n",
    "            running_loss = 0.0\n",
    "    print()"
   ]
  },
  {
   "cell_type": "code",
   "execution_count": 31,
   "id": "48043742-a185-456f-bbfc-fa81011757ec",
   "metadata": {
    "tags": []
   },
   "outputs": [],
   "source": [
    "def validate_one_epoch():\n",
    "    model.train(False)\n",
    "    running_loss = 0.0\n",
    "    \n",
    "    for batch_index, batch in enumerate(test_loader):\n",
    "        x_batch, y_batch = batch[0].to(device), batch[1].to(device)\n",
    "        \n",
    "        with torch.no_grad():\n",
    "            output = model(x_batch)\n",
    "            loss = loss_function(output, y_batch)\n",
    "            running_loss += loss.item()\n",
    "\n",
    "    avg_loss_across_batches = running_loss / len(test_loader)\n",
    "    \n",
    "    print('Val Loss: {0:.3f}'.format(avg_loss_across_batches))\n",
    "    print('***************************************************')\n",
    "    print()"
   ]
  },
  {
   "cell_type": "code",
   "execution_count": 32,
   "id": "8057f0ac-ca7b-4129-a0cf-d5778e30f4b3",
   "metadata": {
    "tags": []
   },
   "outputs": [
    {
     "name": "stdout",
     "output_type": "stream",
     "text": [
      "Epoch: 1\n",
      "\n",
      "Val Loss: 0.001\n",
      "***************************************************\n",
      "\n",
      "Epoch: 2\n",
      "\n",
      "Val Loss: 0.002\n",
      "***************************************************\n",
      "\n",
      "Epoch: 3\n",
      "\n",
      "Val Loss: 0.002\n",
      "***************************************************\n",
      "\n",
      "Epoch: 4\n",
      "\n",
      "Val Loss: 0.002\n",
      "***************************************************\n",
      "\n",
      "Epoch: 5\n",
      "\n",
      "Val Loss: 0.001\n",
      "***************************************************\n",
      "\n",
      "Epoch: 6\n",
      "\n",
      "Val Loss: 0.001\n",
      "***************************************************\n",
      "\n",
      "Epoch: 7\n",
      "\n",
      "Val Loss: 0.002\n",
      "***************************************************\n",
      "\n",
      "Epoch: 8\n",
      "\n",
      "Val Loss: 0.001\n",
      "***************************************************\n",
      "\n",
      "Epoch: 9\n",
      "\n",
      "Val Loss: 0.001\n",
      "***************************************************\n",
      "\n",
      "Epoch: 10\n",
      "\n",
      "Val Loss: 0.001\n",
      "***************************************************\n",
      "\n"
     ]
    }
   ],
   "source": [
    "learning_rate = 0.01\n",
    "num_epochs = 10\n",
    "loss_function = nn.MSELoss()\n",
    "optimizer = torch.optim.Adam(model.parameters(), lr=learning_rate)\n",
    "\n",
    "for epoch in range(num_epochs):\n",
    "    train_one_epoch()\n",
    "    validate_one_epoch()"
   ]
  },
  {
   "cell_type": "code",
   "execution_count": 33,
   "id": "de4ceeb1-2985-4979-8ccb-9b63e2c35aa5",
   "metadata": {
    "tags": []
   },
   "outputs": [
    {
     "data": {
      "image/png": "[encoded data removed]",
      "text/plain": [
       "<Figure size 640x480 with 1 Axes>"
      ]
     },
     "metadata": {},
     "output_type": "display_data"
    }
   ],
   "source": [
    "with torch.no_grad():\n",
    "    predicted = model(X_train.to(device)).to('cpu').numpy()\n",
    "\n",
    "plt.plot(y_train, label='Actual Close')\n",
    "plt.plot(predicted, label='Predicted Close')\n",
    "plt.xlabel('Day')\n",
    "plt.ylabel('Close')\n",
    "plt.legend()\n",
    "plt.show()"
   ]
  },
  {
   "cell_type": "code",
   "execution_count": 34,
   "id": "a12a7fa9-4666-472e-980b-50d7d1027de6",
   "metadata": {
    "tags": []
   },
   "outputs": [
    {
     "data": {
      "text/plain": [
       "array([0.7011198 , 0.68487771, 0.70181847, ..., 4.0704963 , 4.0143616 ,\n",
       "       3.99162555])"
      ]
     },
     "execution_count": 34,
     "metadata": {},
     "output_type": "execute_result"
    }
   ],
   "source": [
    "train_predictions = predicted.flatten()\n",
    "\n",
    "dummies = np.zeros((X_train.shape[0], lookback+1))\n",
    "dummies[:, 0] = train_predictions\n",
    "dummies = scaler.inverse_transform(dummies)\n",
    "\n",
    "train_predictions = dc(dummies[:, 0])\n",
    "train_predictions"
   ]
  },
  {
   "cell_type": "code",
   "execution_count": 35,
   "id": "494d215f-fd6f-49ff-a7b1-3e4e892887a2",
   "metadata": {
    "tags": []
   },
   "outputs": [
    {
     "data": {
      "text/plain": [
       "array([0.67158951, 0.70133621, 0.68417485, ..., 3.98571899, 3.9678466 ,\n",
       "       3.97678283])"
      ]
     },
     "execution_count": 35,
     "metadata": {},
     "output_type": "execute_result"
    }
   ],
   "source": [
    "dummies = np.zeros((X_train.shape[0], lookback+1))\n",
    "dummies[:, 0] = y_train.flatten()\n",
    "dummies = scaler.inverse_transform(dummies)\n",
    "\n",
    "new_y_train = dc(dummies[:, 0])\n",
    "new_y_train"
   ]
  },
  {
   "cell_type": "code",
   "execution_count": 36,
   "id": "09a10388-0981-400d-a89b-b063adcbedb3",
   "metadata": {
    "tags": []
   },
   "outputs": [
    {
     "data": {
      "image/png": "[encoded data removed]",
      "text/plain": [
       "<Figure size 640x480 with 1 Axes>"
      ]
     },
     "metadata": {},
     "output_type": "display_data"
    }
   ],
   "source": [
    "plt.plot(new_y_train, label='Actual Close')\n",
    "plt.plot(train_predictions, label='Predicted Close')\n",
    "plt.xlabel('Day')\n",
    "plt.ylabel('Close')\n",
    "plt.legend()\n",
    "plt.show()"
   ]
  },
  {
   "cell_type": "code",
   "execution_count": 37,
   "id": "85453855-ad36-4d7f-a3dd-e138f24625f7",
   "metadata": {
    "tags": []
   },
   "outputs": [
    {
     "data": {
      "text/plain": [
       "array([4.00070302, 4.01993418, 4.01374875, 4.05315372, 3.93302851,\n",
       "       3.90805942, 3.9951526 , 3.98329693, 3.98570072, 4.14090543,\n",
       "       4.17671746, 4.24542582, 4.25975147, 4.34476797, 4.39465343,\n",
       "       4.34980932, 4.2353852 , 4.31157359, 4.40633867, 4.50934025,\n",
       "       4.45748578, 4.52985538, 4.48751495, 4.55580276, 4.30400085,\n",
       "       4.26043711, 4.25947919, 4.23892348, 4.18842516, 4.10079146,\n",
       "       4.05983339, 4.01042074, 4.06597345, 4.00133864, 4.01589673,\n",
       "       3.97090839, 3.93999469, 3.93902718, 3.94950513, 3.86715092,\n",
       "       3.85702927, 3.84380352, 3.81837239, 3.79968818, 3.69698373,\n",
       "       3.66102913, 3.66396669, 3.58216886, 3.62474833, 3.69442584,\n",
       "       3.87539028, 3.93491319, 3.95569596, 3.83640226, 3.74192804,\n",
       "       3.72101258, 3.70895173, 3.84686928, 3.85618652, 3.90798633,\n",
       "       3.8955536 , 3.8648689 , 3.87845724, 3.91597243, 3.88609917,\n",
       "       3.81178737, 3.87276094, 3.91009642, 3.90336492, 3.95057208,\n",
       "       4.01470067, 4.00324069, 3.93011237, 3.92122271, 3.90744402,\n",
       "       3.8645442 , 3.83503967, 3.80860794, 3.77341251, 3.70230141,\n",
       "       3.67946577, 3.6559087 , 3.66426712, 3.66720708, 3.65861816,\n",
       "       3.56169852, 3.59447863, 3.65658924, 3.64573178, 3.64885805,\n",
       "       3.67485006, 3.67758887, 3.65910131, 3.59576215, 3.62416183,\n",
       "       3.63196222, 3.59719753, 3.53149636, 3.55211139, 3.48088662,\n",
       "       3.42844996, 3.38343706, 3.33006813, 3.42406729, 3.47447039,\n",
       "       3.34366815, 3.37579318, 3.34424057, 3.33978136, 3.52336634,\n",
       "       3.52925478, 3.65435994, 3.61624552, 3.59592569, 3.59466854,\n",
       "       3.605043  , 3.62435024, 3.67878253, 3.65754297, 3.66876077,\n",
       "       3.68832532, 3.76836441, 3.70703889, 3.76423665, 3.83459995,\n",
       "       3.84877179, 3.84585894, 3.79150918, 3.82837453, 3.810185  ,\n",
       "       3.72741788, 3.65685418, 3.65430243, 3.5887771 , 3.52036453,\n",
       "       3.47262015, 3.44589338, 3.52695928, 3.49490734, 3.43246974,\n",
       "       3.47953196, 3.54245178, 3.50352606, 3.53838556, 3.5176636 ,\n",
       "       3.44197933, 3.41651671, 3.4635024 , 3.40073666, 3.46166684,\n",
       "       3.38384278, 3.36194319, 3.37324427, 3.38591842, 3.3336425 ,\n",
       "       3.38871565, 3.48691824, 3.4780843 , 3.50491576, 3.49851601,\n",
       "       3.49566936, 3.59240179, 3.59565656, 3.66830488, 3.66720663,\n",
       "       3.7834765 , 3.81454236, 3.8110911 , 3.80753695, 3.83280677,\n",
       "       3.8964585 , 3.90298182, 3.91693275, 3.91756342, 4.04429237,\n",
       "       4.0348601 , 4.02754107, 4.18309041, 4.2464122 , 4.24702505,\n",
       "       4.35306274, 4.31598263, 4.30553119, 4.49733736, 4.50888106,\n",
       "       4.41783654, 4.3003793 , 4.23697319, 4.11220846, 4.13804546,\n",
       "       4.09569873, 4.09041895, 3.99425953, 3.96560434, 3.85962521,\n",
       "       3.78668184, 3.83094545, 3.84169298, 3.89481884, 4.02343487,\n",
       "       4.00123275, 3.92812464, 4.06904145, 4.09082392, 3.94436059,\n",
       "       3.97813352, 3.90037001, 3.9087142 , 3.80618888, 3.83077427,\n",
       "       3.79158601, 3.78666087, 3.73393969, 3.70114655, 3.77328745,\n",
       "       3.84721584, 3.87891433, 3.86873921, 3.88240798, 3.92874618,\n",
       "       3.96040153, 3.92591825, 3.95504252, 3.9155071 , 3.83712055,\n",
       "       3.84836427, 3.87276903, 3.85790332, 3.91739688, 3.9251083 ,\n",
       "       3.89568405, 3.80072937, 3.76392273, 3.76599433, 3.75163633,\n",
       "       3.72323275, 3.71176228, 3.81143422, 3.75234503, 3.78440117,\n",
       "       3.69088981, 3.71471332, 3.69611942, 3.7297613 , 3.71671797,\n",
       "       3.74034349, 3.7885827 , 3.78401821, 3.83740721, 3.87090906,\n",
       "       3.85344786, 3.775293  , 3.70177198, 3.71703593, 3.70608142,\n",
       "       3.75096177, 3.82081706, 3.85368464, 3.84385699, 3.87620008,\n",
       "       3.8437165 , 3.80121747, 3.85292816, 3.81620749, 3.77239843,\n",
       "       3.67632558, 3.61233372, 3.54653326, 3.53552978, 3.56774302,\n",
       "       3.54520916, 3.55915395, 3.55255096, 3.55089108, 3.59740256,\n",
       "       3.51001598, 3.50592311, 3.55741858, 3.60171125, 3.56682539,\n",
       "       3.58689526, 3.60006394, 3.51679629, 3.51544344, 3.55801391,\n",
       "       3.66540761, 3.70341794, 3.68217014, 3.63863695, 3.65267804,\n",
       "       3.67593498, 3.71530955, 3.65381778, 3.64363487, 3.59943267,\n",
       "       3.58634231, 3.59745633, 3.72886434, 3.75337349, 3.89253113,\n",
       "       3.82580495, 3.88112521, 3.97352514, 3.98235279, 4.01439185,\n",
       "       3.98036596, 3.96466424, 4.13662116, 4.10594574, 4.11991464,\n",
       "       4.27307158, 4.34514074, 4.33011193, 4.30577336, 4.21239949,\n",
       "       4.20197276, 4.24196333, 4.20335243, 4.18768096, 4.1511472 ,\n",
       "       4.11112638, 4.18098077, 4.2101305 , 4.26394843, 4.24238118,\n",
       "       4.22732586, 4.34102196, 4.40930588, 4.45665711, 4.53640895,\n",
       "       4.58754139, 4.55728652, 4.56726664, 4.48316493, 4.42732242,\n",
       "       4.48516958, 4.42619137, 4.38961223, 4.30716786, 4.29877064,\n",
       "       4.34667003, 4.35396689, 4.39659174, 4.37535787, 4.29000619,\n",
       "       4.33327998, 4.30770403, 4.28501696, 4.24747421, 4.26184733,\n",
       "       4.26581185, 4.23906755, 4.2443761 , 4.19224815, 4.18564606,\n",
       "       4.1966762 , 4.32284337, 4.35677835, 4.40736129, 4.47230297,\n",
       "       4.52148498, 4.58469204, 4.51453917, 4.53568662, 4.60946269,\n",
       "       4.69443875, 4.68657246, 4.58690263, 4.51983962, 4.50642112,\n",
       "       4.52581373, 4.5814867 , 4.55415396, 4.53889825, 4.52023456,\n",
       "       4.51835931, 4.46641662, 4.51221356, 4.52961965, 4.49529632,\n",
       "       4.53315882, 4.58283641, 4.63099849, 4.61887953, 4.59744153,\n",
       "       4.60317437, 4.63062048, 4.61741165, 4.50078383])"
      ]
     },
     "execution_count": 37,
     "metadata": {},
     "output_type": "execute_result"
    }
   ],
   "source": [
    "test_predictions = model(X_test.to(device)).detach().cpu().numpy().flatten()\n",
    "\n",
    "dummies = np.zeros((X_test.shape[0], lookback+1))\n",
    "dummies[:, 0] = test_predictions\n",
    "dummies = scaler.inverse_transform(dummies)\n",
    "\n",
    "test_predictions = dc(dummies[:, 0])\n",
    "test_predictions"
   ]
  },
  {
   "cell_type": "code",
   "execution_count": 38,
   "id": "4809c61d-1770-4983-9103-7eeff97a1ed9",
   "metadata": {
    "tags": []
   },
   "outputs": [
    {
     "data": {
      "text/plain": [
       "array([3.99465657, 3.98571899, 4.03040359, 3.89635419, 3.88741728,\n",
       "       3.97678283, 3.94997406, 3.95890976, 4.128705  , 4.14657836,\n",
       "       4.2270079 , 4.23594383, 4.33424719, 4.37892955, 4.3253102 ,\n",
       "       4.20913499, 4.30743744, 4.39680291, 4.50404175, 4.43254904,\n",
       "       4.53085134, 4.46829607, 4.55766154, 4.26275343, 4.2538175 ,\n",
       "       4.24488067, 4.21807092, 4.16445158, 4.07508566, 4.03933908,\n",
       "       3.98571899, 4.04827591, 3.9678466 , 3.99465657, 3.9410367 ,\n",
       "       3.91422725, 3.91422725, 3.92316319, 3.83379794, 3.83379794,\n",
       "       3.81592465, 3.78911423, 3.77124139, 3.66400241, 3.63719296,\n",
       "       3.63719296, 3.54782704, 3.60144661, 3.66400241, 3.851671  ,\n",
       "       3.89635419, 3.92316319, 3.79884723, 3.7172489 , 3.69911576,\n",
       "       3.68098308, 3.82604623, 3.81697962, 3.88044549, 3.86231258,\n",
       "       3.83511261, 3.85324552, 3.88951157, 3.85324552, 3.78071477,\n",
       "       3.85324552, 3.88044549, 3.87137866, 3.92577717, 3.98924259,\n",
       "       3.97111013, 3.8985784 , 3.8985784 , 3.88044549, 3.83511261,\n",
       "       3.80791309, 3.78071477, 3.74444864, 3.67191669, 3.65378378,\n",
       "       3.62658404, 3.63565087, 3.63565087, 3.62658404, 3.52685332,\n",
       "       3.57218553, 3.62658404, 3.60845135, 3.61751773, 3.64471695,\n",
       "       3.64471695, 3.62658404, 3.56311892, 3.59938504, 3.59938504,\n",
       "       3.56311892, 3.4996538 , 3.52685332, 3.44525506, 3.39992259,\n",
       "       3.35459042, 3.30019187, 3.39992259, 3.43618846, 3.30019187,\n",
       "       3.35459042, 3.30925822, 3.30925822, 3.4996538 , 3.48152066,\n",
       "       3.62658404, 3.57218553, 3.56527379, 3.56527379, 3.57451008,\n",
       "       3.59298349, 3.648402  , 3.62069252, 3.63916563, 3.65763852,\n",
       "       3.74076674, 3.66687489, 3.74076674, 3.80542162, 3.81465843,\n",
       "       3.81465843, 3.7592394 , 3.80542162, 3.77771214, 3.69458415,\n",
       "       3.62992904, 3.62992904, 3.55603719, 3.49138187, 3.44519972,\n",
       "       3.41749047, 3.50061846, 3.45443654, 3.39901732, 3.45443654,\n",
       "       3.50985505, 3.46367261, 3.50985505, 3.48214557, 3.40825391,\n",
       "       3.38978099, 3.43596339, 3.36207199, 3.43596339, 3.34359885,\n",
       "       3.33436225, 3.34359885, 3.35283518, 3.29741622, 3.36207199,\n",
       "       3.45443654, 3.43596339, 3.47290898, 3.46367261, 3.46367261,\n",
       "       3.56527379, 3.55603719, 3.63916563, 3.62992904, 3.7592394 ,\n",
       "       3.77771214, 3.77771214, 3.77771214, 3.80542162, 3.87007739,\n",
       "       3.87007739, 3.88854953, 3.88854953, 4.02709678, 3.999387  ,\n",
       "       4.00055505, 4.17348486, 4.22123628, 4.22123628, 4.34539026,\n",
       "       4.28808826, 4.28808826, 4.50774522, 4.48864405, 4.39314167,\n",
       "       4.27853827, 4.22123628, 4.08753246, 4.12573344, 4.06843189,\n",
       "       4.06843189, 3.96337818, 3.94427776, 3.82967377, 3.76282171,\n",
       "       3.81057313, 3.81057313, 3.86787512, 4.00157976, 3.96337818,\n",
       "       3.8965256 , 4.05888079, 4.05888079, 3.90607596, 3.96337818,\n",
       "       3.86787512, 3.88697554, 3.77237199, 3.81057313, 3.75943612,\n",
       "       3.75943612, 3.70204022, 3.67334226, 3.74987004, 3.81683232,\n",
       "       3.84553005, 3.83596419, 3.85509613, 3.90292618, 3.9316239 ,\n",
       "       3.89336017, 3.9316239 , 3.88379386, 3.80726624, 3.82639788,\n",
       "       3.84553005, 3.82639788, 3.89336017, 3.89336017, 3.86466192,\n",
       "       3.7690022 , 3.74030403, 3.74030403, 3.72117231, 3.69247413,\n",
       "       3.68290805, 3.78813437, 3.7116063 , 3.75943612, 3.6542101 ,\n",
       "       3.69247413, 3.66377618, 3.70204022, 3.68290805, 3.7116063 ,\n",
       "       3.75943612, 3.74987004, 3.81082796, 3.83999229, 3.8205495 ,\n",
       "       3.74277738, 3.67472672, 3.69416974, 3.67472672, 3.72333429,\n",
       "       3.79138494, 3.8205495 , 3.81082796, 3.84971383, 3.81082796,\n",
       "       3.77194193, 3.83027074, 3.7816634 , 3.74277738, 3.64556239,\n",
       "       3.58723351, 3.5191827 , 3.50946139, 3.53862594, 3.50946139,\n",
       "       3.52890447, 3.5191827 , 3.5191827 , 3.5677905 , 3.47057536,\n",
       "       3.48029661, 3.52890447, 3.5677905 , 3.52890447, 3.55806873,\n",
       "       3.5677905 , 3.48029661, 3.49001815, 3.52890447, 3.63584063,\n",
       "       3.66500548, 3.64556239, 3.60667637, 3.62611938, 3.64556239,\n",
       "       3.68444827, 3.61639784, 3.61639784, 3.5677905 , 3.55806873,\n",
       "       3.5677905 , 3.70389128, 3.71361252, 3.86915684, 3.7816634 ,\n",
       "       3.8594353 , 3.94904519, 3.94904519, 3.9886346 , 3.94904519,\n",
       "       3.93914775, 4.12719773, 4.06781335, 4.09750509, 4.26576048,\n",
       "       4.32514426, 4.30534982, 4.28555492, 4.18658166, 4.18658166,\n",
       "       4.226171  , 4.17668391, 4.16678722, 4.12719773, 4.08760839,\n",
       "       4.16678722, 4.18658166, 4.24596544, 4.21627385, 4.2063761 ,\n",
       "       4.33504201, 4.39442639, 4.44391257, 4.53298899, 4.58247607,\n",
       "       4.54288673, 4.56268118, 4.46370791, 4.41422083, 4.48350235,\n",
       "       4.40432308, 4.37463134, 4.28555492, 4.28555492, 4.33504201,\n",
       "       4.33504201, 4.38452864, 4.3548369 , 4.26576048, 4.32514426,\n",
       "       4.28555492, 4.26576048, 4.226171  , 4.24596544, 4.24596544,\n",
       "       4.21627385, 4.226171  , 4.16678722, 4.16678722, 4.17668391,\n",
       "       4.31524756, 4.33504201, 4.39442639, 4.46370791, 4.51319409,\n",
       "       4.58247607, 4.49339965, 4.53298899, 4.61216781, 4.70124438,\n",
       "       4.67999988, 4.57000021, 4.51000028, 4.49999995, 4.52000002,\n",
       "       4.57999995, 4.53999995, 4.53000021, 4.51000028, 4.51000028,\n",
       "       4.44999976, 4.51000028, 4.52000002, 4.48000002, 4.53000021,\n",
       "       4.57999995, 4.63000014, 4.61000006, 4.59000014, 4.59999987,\n",
       "       4.63000014, 4.61000006, 4.48000002, 4.44000002])"
      ]
     },
     "execution_count": 38,
     "metadata": {},
     "output_type": "execute_result"
    }
   ],
   "source": [
    "dummies = np.zeros((X_test.shape[0], lookback+1))\n",
    "dummies[:, 0] = y_test.flatten()\n",
    "dummies = scaler.inverse_transform(dummies)\n",
    "\n",
    "new_y_test = dc(dummies[:, 0])\n",
    "new_y_test"
   ]
  },
  {
   "cell_type": "code",
   "execution_count": 39,
   "id": "d138552b-4528-4793-af91-bdb59f837aa8",
   "metadata": {
    "tags": []
   },
   "outputs": [
    {
     "data": {
      "image/png": "[encoded data removed]",
      "text/plain": [
       "<Figure size 640x480 with 1 Axes>"
      ]
     },
     "metadata": {},
     "output_type": "display_data"
    }
   ],
   "source": [
    "plt.plot(new_y_test, label='Actual Close')\n",
    "plt.plot(test_predictions, label='Predicted Close')\n",
    "plt.xlabel('Day')\n",
    "plt.ylabel('Close')\n",
    "plt.legend()\n",
    "plt.show()"
   ]
  },
  {
   "cell_type": "code",
   "execution_count": null,
   "id": "6228f032-e30a-43bb-8073-374c225d99e3",
   "metadata": {},
   "outputs": [],
   "source": []
  }
 ],
 "metadata": {
  "kernelspec": {
   "display_name": "env_pytorch",
   "language": "python",
   "name": "env_pytorch"
  },
  "language_info": {
   "codemirror_mode": {
    "name": "ipython",
    "version": 3
   },
   "file_extension": ".py",
   "mimetype": "text/x-python",
   "name": "python",
   "nbconvert_exporter": "python",
   "pygments_lexer": "ipython3",
   "version": "3.9.0"
  }
 },
 "nbformat": 4,
 "nbformat_minor": 5
}
