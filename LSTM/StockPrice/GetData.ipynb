{
 "cells": [
  {
   "cell_type": "code",
   "execution_count": 1,
   "id": "74099600-0688-4bea-bf78-0e635e19f539",
   "metadata": {
    "tags": []
   },
   "outputs": [],
   "source": [
    "import yfinance as yf"
   ]
  },
  {
   "cell_type": "code",
   "execution_count": 15,
   "id": "e81eb9f1-eec9-4b60-a0ad-841120c45e4a",
   "metadata": {
    "tags": []
   },
   "outputs": [],
   "source": [
    "symbol = \"KLBN4.SA\"\n",
    "\n",
    "# Crie um objeto Ticker para a ação\n",
    "ticker = yf.Ticker(symbol)\n",
    "\n",
    "# Obtenha dados históricos\n",
    "historical_data = ticker.history(period=\"20y\")  # Você pode ajustar o período conforme necessário"
   ]
  },
  {
   "cell_type": "code",
   "execution_count": 16,
   "id": "03bc5acf-42a3-441e-a6b9-d45417d7d6bc",
   "metadata": {
    "tags": []
   },
   "outputs": [
    {
     "data": {
      "text/html": [
       "<div>\n",
       "<style scoped>\n",
       "    .dataframe tbody tr th:only-of-type {\n",
       "        vertical-align: middle;\n",
       "    }\n",
       "\n",
       "    .dataframe tbody tr th {\n",
       "        vertical-align: top;\n",
       "    }\n",
       "\n",
       "    .dataframe thead th {\n",
       "        text-align: right;\n",
       "    }\n",
       "</style>\n",
       "<table border=\"1\" class=\"dataframe\">\n",
       "  <thead>\n",
       "    <tr style=\"text-align: right;\">\n",
       "      <th></th>\n",
       "      <th>Open</th>\n",
       "      <th>High</th>\n",
       "      <th>Low</th>\n",
       "      <th>Close</th>\n",
       "      <th>Volume</th>\n",
       "      <th>Dividends</th>\n",
       "      <th>Stock Splits</th>\n",
       "    </tr>\n",
       "    <tr>\n",
       "      <th>Date</th>\n",
       "      <th></th>\n",
       "      <th></th>\n",
       "      <th></th>\n",
       "      <th></th>\n",
       "      <th></th>\n",
       "      <th></th>\n",
       "      <th></th>\n",
       "    </tr>\n",
       "  </thead>\n",
       "  <tbody>\n",
       "    <tr>\n",
       "      <th>2008-01-02 00:00:00-02:00</th>\n",
       "      <td>0.747101</td>\n",
       "      <td>0.763118</td>\n",
       "      <td>0.737948</td>\n",
       "      <td>0.749389</td>\n",
       "      <td>18736000</td>\n",
       "      <td>0.0</td>\n",
       "      <td>0.0</td>\n",
       "    </tr>\n",
       "    <tr>\n",
       "      <th>2008-01-03 00:00:00-02:00</th>\n",
       "      <td>0.755109</td>\n",
       "      <td>0.764262</td>\n",
       "      <td>0.736804</td>\n",
       "      <td>0.745956</td>\n",
       "      <td>4346000</td>\n",
       "      <td>0.0</td>\n",
       "      <td>0.0</td>\n",
       "    </tr>\n",
       "    <tr>\n",
       "      <th>2008-01-04 00:00:00-02:00</th>\n",
       "      <td>0.755109</td>\n",
       "      <td>0.755109</td>\n",
       "      <td>0.710489</td>\n",
       "      <td>0.721930</td>\n",
       "      <td>7526000</td>\n",
       "      <td>0.0</td>\n",
       "      <td>0.0</td>\n",
       "    </tr>\n",
       "    <tr>\n",
       "      <th>2008-01-07 00:00:00-02:00</th>\n",
       "      <td>0.724219</td>\n",
       "      <td>0.743668</td>\n",
       "      <td>0.716210</td>\n",
       "      <td>0.734515</td>\n",
       "      <td>4860500</td>\n",
       "      <td>0.0</td>\n",
       "      <td>0.0</td>\n",
       "    </tr>\n",
       "    <tr>\n",
       "      <th>2008-01-08 00:00:00-02:00</th>\n",
       "      <td>0.745956</td>\n",
       "      <td>0.758541</td>\n",
       "      <td>0.716209</td>\n",
       "      <td>0.716209</td>\n",
       "      <td>7733000</td>\n",
       "      <td>0.0</td>\n",
       "      <td>0.0</td>\n",
       "    </tr>\n",
       "  </tbody>\n",
       "</table>\n",
       "</div>"
      ],
      "text/plain": [
       "                               Open      High       Low     Close    Volume  \\\n",
       "Date                                                                          \n",
       "2008-01-02 00:00:00-02:00  0.747101  0.763118  0.737948  0.749389  18736000   \n",
       "2008-01-03 00:00:00-02:00  0.755109  0.764262  0.736804  0.745956   4346000   \n",
       "2008-01-04 00:00:00-02:00  0.755109  0.755109  0.710489  0.721930   7526000   \n",
       "2008-01-07 00:00:00-02:00  0.724219  0.743668  0.716210  0.734515   4860500   \n",
       "2008-01-08 00:00:00-02:00  0.745956  0.758541  0.716209  0.716209   7733000   \n",
       "\n",
       "                           Dividends  Stock Splits  \n",
       "Date                                                \n",
       "2008-01-02 00:00:00-02:00        0.0           0.0  \n",
       "2008-01-03 00:00:00-02:00        0.0           0.0  \n",
       "2008-01-04 00:00:00-02:00        0.0           0.0  \n",
       "2008-01-07 00:00:00-02:00        0.0           0.0  \n",
       "2008-01-08 00:00:00-02:00        0.0           0.0  "
      ]
     },
     "execution_count": 16,
     "metadata": {},
     "output_type": "execute_result"
    }
   ],
   "source": [
    "historical_data.head()"
   ]
  },
  {
   "cell_type": "code",
   "execution_count": 18,
   "id": "b936e2f3-223a-49f7-824f-813a77053eb7",
   "metadata": {
    "tags": []
   },
   "outputs": [],
   "source": [
    "# filtrando os dados que queremos [Close]\n",
    "data = historical_data[['Close']]"
   ]
  },
  {
   "cell_type": "code",
   "execution_count": 19,
   "id": "939f8ba7-f90b-40d0-99c6-020d940912ef",
   "metadata": {
    "tags": []
   },
   "outputs": [],
   "source": [
    "data.to_csv('data/klabin_historical.csv', index=True)"
   ]
  },
  {
   "cell_type": "code",
   "execution_count": null,
   "id": "b6a17a63-5faf-4142-9c76-aa5fc8ef711d",
   "metadata": {},
   "outputs": [],
   "source": []
  }
 ],
 "metadata": {
  "kernelspec": {
   "display_name": "env",
   "language": "python",
   "name": "env"
  },
  "language_info": {
   "codemirror_mode": {
    "name": "ipython",
    "version": 3
   },
   "file_extension": ".py",
   "mimetype": "text/x-python",
   "name": "python",
   "nbconvert_exporter": "python",
   "pygments_lexer": "ipython3",
   "version": "3.11.2"
  }
 },
 "nbformat": 4,
 "nbformat_minor": 5
}
